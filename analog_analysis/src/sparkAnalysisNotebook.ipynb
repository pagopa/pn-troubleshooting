{
 "cells": [
  {
   "cell_type": "code",
   "execution_count": 1,
   "id": "initial_id",
   "metadata": {
    "collapsed": true,
    "ExecuteTime": {
     "end_time": "2024-02-13T17:41:49.379989Z",
     "start_time": "2024-02-13T17:41:49.369308Z"
    }
   },
   "outputs": [],
   "source": [
    "# Import app configuration\n",
    "from config import APP_CONFIG"
   ]
  },
  {
   "cell_type": "code",
   "outputs": [
    {
     "name": "stderr",
     "output_type": "stream",
     "text": [
      "Setting default log level to \"WARN\".\n",
      "To adjust logging level use sc.setLogLevel(newLevel). For SparkR, use setLogLevel(newLevel).\n",
      "24/02/13 18:41:50 WARN NativeCodeLoader: Unable to load native-hadoop library for your platform... using builtin-java classes where applicable\n"
     ]
    }
   ],
   "source": [
    "import os\n",
    "\n",
    "from pyspark import SparkConf\n",
    "from pyspark.sql import SparkSession\n",
    "from pyspark.sql.functions import *\n",
    "from pyspark.sql.dataframe import DataFrame\n",
    "\n",
    "os.environ['SPARK_MEM'] = APP_CONFIG.get('spark.master', '24g')\n",
    "\n",
    "spark_conf = SparkConf()\n",
    "spark_conf.set('spark.driver.memory', APP_CONFIG.get('spark.driver.memory', '4g'))\n",
    "spark_conf.set('spark.executor.memory', APP_CONFIG.get('spark.executor.memory', '5g'))\n",
    "spark_conf.set('spark.executor.cores', APP_CONFIG.get('spark.executor.cores', '3'))\n",
    "spark_conf.set('spark.executor.instances', APP_CONFIG.get('spark.executor.instances', '4'))\n",
    "spark_conf.set('spark.dynamicAllocation.enabled', APP_CONFIG.get('spark.dynamicAllocation.enabled', 'false'))\n",
    "\n",
    "# Configure and start new Spark Session\n",
    "spark_session = (SparkSession.builder\n",
    "                .appName(name=APP_CONFIG.get('spark.name', 'spark-app'))\n",
    "                .master(master=APP_CONFIG.get('spark.master', 'local'))\n",
    "                .config(conf=spark_conf)\n",
    "                .getOrCreate())\n",
    "\n",
    "spark_session.sparkContext.setLogLevel(APP_CONFIG.get('spark.logLevel', 'WARN'))"
   ],
   "metadata": {
    "collapsed": false,
    "ExecuteTime": {
     "end_time": "2024-02-13T17:41:50.821184Z",
     "start_time": "2024-02-13T17:41:49.375522Z"
    }
   },
   "id": "4fd7dfad63380b80",
   "execution_count": 2
  },
  {
   "cell_type": "code",
   "outputs": [],
   "source": [
    "# Read input dataframes\n",
    "ec_metadata_df: DataFrame = spark_session.read.parquet(APP_CONFIG.get('input.path.metadata-request'), header=True)\n",
    "input_to_analyze_df: DataFrame = spark_session.read.csv(APP_CONFIG.get('input.path.analyzeFile'), header=True)"
   ],
   "metadata": {
    "collapsed": false,
    "ExecuteTime": {
     "end_time": "2024-02-13T17:41:52.810434Z",
     "start_time": "2024-02-13T17:41:50.821994Z"
    }
   },
   "id": "79204d3cd010a8c9",
   "execution_count": 3
  },
  {
   "cell_type": "code",
   "outputs": [],
   "source": [
    "# Deduplicate requests\n",
    "deduplicates_df: DataFrame = ec_metadata_df \\\n",
    "    .withColumn('version', ec_metadata_df.version.cast('integer')) \\\n",
    "    .filter(ec_metadata_df.paperMeta_productType.isNotNull()) \\\n",
    "    .groupby(ec_metadata_df.requestId) \\\n",
    "    .agg(max('version').alias('version')) \\\n",
    "    .sort(desc('version'))\n",
    "\n",
    "deduplicates_df = deduplicates_df.withColumnRenamed('requestId', 'maxRequestId')\n",
    "deduplicates_df = deduplicates_df.withColumnRenamed('version', 'maxVersion')\n",
    "\n",
    "# deduplicates_df.show(n=5, truncate=True)"
   ],
   "metadata": {
    "collapsed": false,
    "ExecuteTime": {
     "end_time": "2024-02-13T17:41:52.862908Z",
     "start_time": "2024-02-13T17:41:52.811291Z"
    }
   },
   "id": "92b6c1981a7fe815",
   "execution_count": 4
  },
  {
   "cell_type": "code",
   "outputs": [],
   "source": [
    "# Postalizzazione basic - TODO: enhance selection pipeline\n",
    "all_paper_metadata_df: DataFrame = ec_metadata_df \\\n",
    "    .join(deduplicates_df) \\\n",
    "    .where((ec_metadata_df.requestId == deduplicates_df.maxRequestId) & (ec_metadata_df.version == deduplicates_df.maxVersion)) \\\n",
    "    .selectExpr(\n",
    "        'if (length(requestTimestamp) = 17, concat(substr(requestTimestamp, 0, 16), \":00Z\"), requestTimestamp) as requestTimestamp',\n",
    "        'paperMeta_productType',\n",
    "        'array_join(transform(event_list, e -> e.paperProg_statusCode), \" \") as statusesString',\n",
    "        'array_join(transform(filter(event_list, e -> e.paperProg_statusCode rlike \"CON080|CON016|(CON9.*)|(RECRN.*)|(RECAG.*)|(RECRS.*)|(P.*)|(RECRSI.*)|(RECRI.*)\"),e -> e.paperProg_statusCode), \" \") as businessStatusesString',\n",
    "        'array_join(array_distinct(transform(event_list,e -> e.paperProg_deliveryFailureCause)), \" \") as deliveryFailureCause',\n",
    "        'array_join(array_distinct(flatten(transform(filter(event_list, e -> e.paperProg_statusCode rlike \"(REC.*B)|(REC.*E)\").paperProg_attachments,e -> e.documentType))), \" \") as attachments',\n",
    "        'array_join(array_distinct(transform(filter(event_list, e -> e.paperProg_statusCode rlike \"REC.*\" AND NOT e.paperProg_statusCode in (\"RECAG012\",\"REC090\")),e -> e.paperProg_registeredLetterCode)), \" \") as registeredLetterCode',\n",
    "        'requestId',\n",
    "        'regexp_extract(requestId, \".*IUN_(.*)\\\\.RECINDEX.*\", 1) as paperIun',\n",
    "        'regexp_extract(requestId, \"pn-cons-000~(.*)\\\\.PCRETRY_.\", 1) as paperRequestId',\n",
    "        'version as paperVersion'\n",
    "    )\n",
    "\n",
    "# all_paper_metadata_df.show(n=5, truncate=False)"
   ],
   "metadata": {
    "collapsed": false,
    "ExecuteTime": {
     "end_time": "2024-02-13T17:41:53.000766Z",
     "start_time": "2024-02-13T17:41:52.865296Z"
    }
   },
   "id": "bd797c4254e04399",
   "execution_count": 5
  },
  {
   "cell_type": "code",
   "outputs": [],
   "source": [
    "# Filter only sorit metadata\n",
    "filtered_all_paper_metadata_df: DataFrame = input_to_analyze_df \\\n",
    "    .join(other=all_paper_metadata_df, on=input_to_analyze_df.iun == all_paper_metadata_df.paperIun, how='left')\n",
    "\n",
    "# filtered_all_paper_metadata_df.show(n=5, truncate=True)"
   ],
   "metadata": {
    "collapsed": false,
    "ExecuteTime": {
     "end_time": "2024-02-13T17:41:53.014397Z",
     "start_time": "2024-02-13T17:41:53.001201Z"
    }
   },
   "id": "af13585a060f113b",
   "execution_count": 6
  },
  {
   "cell_type": "code",
   "outputs": [],
   "source": [
    "# Filter duplicates by max request id\n",
    "distinct_request_df: DataFrame = filtered_all_paper_metadata_df \\\n",
    "    .groupby(filtered_all_paper_metadata_df.paperIun) \\\n",
    "    .agg(max(filtered_all_paper_metadata_df.requestId).alias('maxRequestId'))\n",
    "\n",
    "# distinct_request_df.show(n=5, truncate=True)"
   ],
   "metadata": {
    "collapsed": false,
    "ExecuteTime": {
     "end_time": "2024-02-13T17:41:53.027385Z",
     "start_time": "2024-02-13T17:41:53.015603Z"
    }
   },
   "id": "dc3476ad0a3a18da",
   "execution_count": 7
  },
  {
   "cell_type": "code",
   "outputs": [],
   "source": [
    "# Distinct sorit request\n",
    "distinct_metadata_df: DataFrame = distinct_request_df.join(filtered_all_paper_metadata_df, on=distinct_request_df.maxRequestId == filtered_all_paper_metadata_df.requestId, how='left')\n",
    "\n",
    "distinct_metadata_df = distinct_metadata_df \\\n",
    "    .select(\n",
    "        distinct_metadata_df.iun, \n",
    "        distinct_metadata_df.registeredLetterCode,\n",
    "        distinct_metadata_df.paperMeta_productType.alias('paperMetaProductType'), \n",
    "        distinct_metadata_df.attachments, \n",
    "        distinct_metadata_df.requestId, \n",
    "        distinct_metadata_df.paperRequestId,\n",
    "        regexp_replace(trim(regexp_replace('businessStatusesString', 'P000|CON[a-zA-Z0-9]*', '')), ' +', '->').alias('sequence')\n",
    "    )\n",
    "\n",
    "# distinct_metadata_df.show(n=50, truncate=False)"
   ],
   "metadata": {
    "collapsed": false,
    "ExecuteTime": {
     "end_time": "2024-02-13T17:41:53.070022Z",
     "start_time": "2024-02-13T17:41:53.027065Z"
    }
   },
   "id": "298370dbfb3bee0",
   "execution_count": 8
  },
  {
   "cell_type": "code",
   "outputs": [],
   "source": [
    "# Group sequences to create data clusters with the form (each row): <sequence, attachments, count, requestInformationSet>\n",
    "group_by_sequences_df: DataFrame = distinct_metadata_df \\\n",
    "    .groupby(distinct_metadata_df.sequence, distinct_metadata_df.attachments) \\\n",
    "    .agg(\n",
    "        count(distinct_metadata_df.iun).alias('count'), \n",
    "        collect_set(to_json(struct(distinct_metadata_df.requestId, distinct_metadata_df.paperRequestId, distinct_metadata_df.registeredLetterCode))).cast('string').alias('requestInformationSet')) \\\n",
    "    .sort(desc('count'))\n",
    "\n",
    "# group_by_sequences_df.show(n=50, truncate=False)"
   ],
   "metadata": {
    "collapsed": false,
    "ExecuteTime": {
     "end_time": "2024-02-13T17:41:53.093227Z",
     "start_time": "2024-02-13T17:41:53.070905Z"
    }
   },
   "id": "86d6ee02950bc13a",
   "execution_count": 9
  },
  {
   "cell_type": "code",
   "outputs": [
    {
     "name": "stderr",
     "output_type": "stream",
     "text": [
      "                                                                                \r"
     ]
    }
   ],
   "source": [
    "from utils import data_frame_writer\n",
    "\n",
    "output_format: str = APP_CONFIG.get('output.format')\n",
    "output_filename: str = APP_CONFIG.get('output.path') + APP_CONFIG.get('spark.name')\n",
    "\n",
    "data_frame_writer.write(\n",
    "    df=group_by_sequences_df,\n",
    "    file_name=output_filename,\n",
    "    file_format=output_format,\n",
    ")\n",
    "\n",
    "# dataframe_writer: DataFrameWriter = group_by_sequences_df.write.mode('overwrite')\n",
    "# \n",
    "# # Use parquet as default output format\n",
    "# if output_format.lower() == 'csv':\n",
    "#     dataframe_writer.options(header='True', delimiter=';').csv(output_filename + '.csv')\n",
    "# else:\n",
    "#     dataframe_writer.parquet(APP_CONFIG.get('output.path') + APP_CONFIG.get('spark.name') + '.parquet')"
   ],
   "metadata": {
    "collapsed": false,
    "ExecuteTime": {
     "end_time": "2024-02-13T17:52:23.749679Z",
     "start_time": "2024-02-13T17:50:11.400790Z"
    }
   },
   "id": "be2e3a95f6943dd5",
   "execution_count": 20
  }
 ],
 "metadata": {
  "kernelspec": {
   "display_name": "Python 3",
   "language": "python",
   "name": "python3"
  },
  "language_info": {
   "codemirror_mode": {
    "name": "ipython",
    "version": 2
   },
   "file_extension": ".py",
   "mimetype": "text/x-python",
   "name": "python",
   "nbconvert_exporter": "python",
   "pygments_lexer": "ipython2",
   "version": "2.7.6"
  }
 },
 "nbformat": 4,
 "nbformat_minor": 5
}
