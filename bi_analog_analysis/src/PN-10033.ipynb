{
 "cells": [
  {
   "cell_type": "code",
   "outputs": [],
   "source": [
    "# Import app configuration\n",
    "from typing import Dict\n",
    "from config import APP_CONFIG\n",
    "\n",
    "spark_config_dict: Dict[str, str] = APP_CONFIG.get('spark', dict())\n",
    "input_config_dict: Dict[str, str] = APP_CONFIG.get('input', dict())\n",
    "output_config_dict: Dict[str, str] = APP_CONFIG.get('output', dict())\n",
    "\n",
    "SPARK_APP_NAME = spark_config_dict.get('name', 'spark-app')"
   ],
   "metadata": {
    "collapsed": false
   },
   "id": "ec9eae1eebd108e2",
   "execution_count": null
  },
  {
   "cell_type": "code",
   "outputs": [],
   "source": [
    "import os\n",
    "\n",
    "from pyspark import SparkConf\n",
    "from pyspark.sql import SparkSession\n",
    "from pyspark.sql.functions import *\n",
    "from pyspark.sql.dataframe import DataFrame\n",
    "\n",
    "os.environ['SPARK_MEM'] = spark_config_dict.get('memory', '24g')\n",
    "\n",
    "spark_conf = SparkConf()\n",
    "spark_conf.set('spark.driver.memory', spark_config_dict.get('driver.memory', '4g'))\n",
    "spark_conf.set('spark.executor.memory', spark_config_dict.get('executor.memory', '5g'))\n",
    "spark_conf.set('spark.executor.cores', spark_config_dict.get('executor.cores', '3'))\n",
    "spark_conf.set('spark.executor.instances', spark_config_dict.get('executor.instances', '4'))\n",
    "spark_conf.set('spark.dynamicAllocation.enabled', spark_config_dict.get('dynamicAllocation.enabled', 'false'))\n",
    "\n",
    "# Configure and start new Spark Session\n",
    "spark_session = (SparkSession.builder\n",
    "                .appName(name=SPARK_APP_NAME)\n",
    "                .master(master=spark_config_dict.get('master', 'local'))\n",
    "                .config(conf=spark_conf)\n",
    "                .getOrCreate())\n",
    "\n",
    "spark_session.sparkContext.setLogLevel(spark_config_dict.get('logLevel', 'WARN'))"
   ],
   "metadata": {
    "collapsed": false
   },
   "id": "5c12e6913dfbc0f7",
   "execution_count": null
  },
  {
   "cell_type": "code",
   "execution_count": null,
   "id": "initial_id",
   "metadata": {
    "collapsed": true
   },
   "outputs": [],
   "source": [
    "request_with_pages_df: DataFrame = spark_session.read.json(path='resources/request_with_pages.json')\n",
    "request_with_cap_df: DataFrame = spark_session.read.json(path='resources/request_with_cap.json')\n",
    "tender_costs_df: DataFrame = spark_session.read.csv(path='resources/tender_costs.csv')"
   ]
  },
  {
   "cell_type": "code",
   "outputs": [],
   "source": [
    "request_with_cap_and_pages_df: DataFrame = request_with_pages_df \\\n",
    "    .join(request_with_cap_df, on=['request']) \\\n",
    "    .select(request_with_pages_df.iun, request_with_pages_df.request, request_with_pages_df.pages, request_with_pages_df.product_type, request_with_cap_df.cap)"
   ],
   "metadata": {
    "collapsed": false
   },
   "id": "4156df097cdc19d4",
   "execution_count": null
  },
  {
   "cell_type": "code",
   "outputs": [],
   "source": [
    "request_with_cost_df: DataFrame = request_with_cap_and_pages_df \\\n",
    "    .join(tender_costs_df, on=[tender_costs_df._c7.contains(request_with_cap_and_pages_df.cap), tender_costs_df._c9 == request_with_cap_and_pages_df.product_type]) \\\n",
    "    .select(\n",
    "        request_with_cap_and_pages_df.iun,\n",
    "        request_with_cap_and_pages_df.request,\n",
    "        request_with_cap_and_pages_df.pages,\n",
    "        request_with_cap_and_pages_df.product_type,\n",
    "        tender_costs_df._c0.alias('basePrice'),\n",
    "        tender_costs_df._c1.alias('basePrice100'),\n",
    "        tender_costs_df._c2.alias('basePrice1000'),\n",
    "        tender_costs_df._c3.alias('basePrice2000'),\n",
    "        tender_costs_df._c4.alias('basePrice250'),\n",
    "        tender_costs_df._c5.alias('basePrice350'),\n",
    "        tender_costs_df._c6.alias('basePrice50'),\n",
    "        tender_costs_df._c8.alias('pagePrice'),\n",
    "    )\n",
    "\n",
    "# request_with_cost_df.show(truncate=False)"
   ],
   "metadata": {
    "collapsed": false
   },
   "id": "2d8cd1aeee97a042",
   "execution_count": null
  },
  {
   "cell_type": "code",
   "outputs": [],
   "source": [
    "vat_scale_const: float = 0.9304056\n",
    "\n",
    "weight_column: Column = 5 + (5 * request_with_cost_df.pages)\n",
    "base_price_for_weight: Column = when(weight_column <= 20, request_with_cost_df.basePrice) \\\n",
    "    .when(weight_column <= 50, request_with_cost_df.basePrice50) \\\n",
    "    .when(weight_column <= 100, request_with_cost_df.basePrice100) \\\n",
    "    .when(weight_column <= 250, request_with_cost_df.basePrice250) \\\n",
    "    .when(weight_column <= 350, request_with_cost_df.basePrice350) \\\n",
    "    .when(weight_column <= 1000, request_with_cost_df.basePrice1000) \\\n",
    "    .when(weight_column <= 2000, request_with_cost_df.basePrice2000)\n",
    "\n",
    "price_column: Column = format_number((base_price_for_weight + (request_with_cost_df.pagePrice * (request_with_cost_df.pages - 1))), 2).alias('completedPrice')\n",
    "price_column_without_vat: Column = format_number((price_column * vat_scale_const), 2).alias('completedPriceWithoutVat')\n",
    "\n",
    "request_with_price_df: DataFrame = request_with_cost_df.select(request_with_cost_df.iun, request_with_cost_df.request, price_column, price_column_without_vat)\n",
    "request_with_price_df.show(truncate=False)"
   ],
   "metadata": {
    "collapsed": false
   },
   "id": "9d51d850b8dbc5ff",
   "execution_count": null
  },
  {
   "cell_type": "code",
   "outputs": [],
   "source": [
    "request_with_price_df.write.mode('overwrite').options(header='True', delimiter=';').csv('resources/prices.csv')\n",
    "\n",
    "request_with_price_df.select(format_number(sum(request_with_price_df.completedPrice), 2), format_number(sum(request_with_price_df.completedPriceWithoutVat), 2)).show(truncate=False)"
   ],
   "metadata": {
    "collapsed": false
   },
   "id": "c12c32df0c214caf",
   "execution_count": null
  }
 ],
 "metadata": {
  "kernelspec": {
   "display_name": "Python 3",
   "language": "python",
   "name": "python3"
  },
  "language_info": {
   "codemirror_mode": {
    "name": "ipython",
    "version": 2
   },
   "file_extension": ".py",
   "mimetype": "text/x-python",
   "name": "python",
   "nbconvert_exporter": "python",
   "pygments_lexer": "ipython2",
   "version": "2.7.6"
  }
 },
 "nbformat": 4,
 "nbformat_minor": 5
}
