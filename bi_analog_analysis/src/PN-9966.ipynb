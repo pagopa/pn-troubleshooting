{
 "cells": [
  {
   "cell_type": "code",
   "execution_count": 1,
   "id": "initial_id",
   "metadata": {
    "collapsed": true,
    "ExecuteTime": {
     "end_time": "2024-02-22T17:27:33.054454Z",
     "start_time": "2024-02-22T17:27:33.047860Z"
    }
   },
   "outputs": [],
   "source": [
    "# Import app configuration\n",
    "from typing import Dict\n",
    "from config import APP_CONFIG\n",
    "\n",
    "spark_config_dict: Dict[str, str] = APP_CONFIG.get('spark', dict())\n",
    "input_config_dict: Dict[str, str] = APP_CONFIG.get('input', dict())\n",
    "output_config_dict: Dict[str, str] = APP_CONFIG.get('output', dict())\n",
    "\n",
    "SPARK_APP_NAME = spark_config_dict.get('name', 'spark-app')"
   ]
  },
  {
   "cell_type": "code",
   "outputs": [
    {
     "name": "stderr",
     "output_type": "stream",
     "text": [
      "Setting default log level to \"WARN\".\n",
      "To adjust logging level use sc.setLogLevel(newLevel). For SparkR, use setLogLevel(newLevel).\n",
      "24/02/22 18:27:36 WARN NativeCodeLoader: Unable to load native-hadoop library for your platform... using builtin-java classes where applicable\n",
      "24/02/22 18:27:37 WARN Utils: Service 'SparkUI' could not bind on port 4040. Attempting port 4041.\n"
     ]
    }
   ],
   "source": [
    "import os\n",
    "\n",
    "from pyspark import SparkConf\n",
    "from pyspark.sql import SparkSession\n",
    "from pyspark.sql.functions import *\n",
    "from pyspark.sql.dataframe import DataFrame\n",
    "\n",
    "os.environ['SPARK_MEM'] = spark_config_dict.get('memory', '24g')\n",
    "\n",
    "spark_conf = SparkConf()\n",
    "spark_conf.set('spark.driver.memory', spark_config_dict.get('driver.memory', '4g'))\n",
    "spark_conf.set('spark.executor.memory', spark_config_dict.get('executor.memory', '5g'))\n",
    "spark_conf.set('spark.executor.cores', spark_config_dict.get('executor.cores', '3'))\n",
    "spark_conf.set('spark.executor.instances', spark_config_dict.get('executor.instances', '4'))\n",
    "spark_conf.set('spark.dynamicAllocation.enabled', spark_config_dict.get('dynamicAllocation.enabled', 'false'))\n",
    "\n",
    "# Configure and start new Spark Session\n",
    "spark_session = (SparkSession.builder\n",
    "                .appName(name=SPARK_APP_NAME)\n",
    "                .master(master=spark_config_dict.get('master', 'local'))\n",
    "                .config(conf=spark_conf)\n",
    "                .getOrCreate())\n",
    "\n",
    "spark_session.sparkContext.setLogLevel(spark_config_dict.get('logLevel', 'WARN'))"
   ],
   "metadata": {
    "collapsed": false,
    "ExecuteTime": {
     "end_time": "2024-02-22T17:27:37.494266Z",
     "start_time": "2024-02-22T17:27:35.586593Z"
    }
   },
   "id": "4fd7dfad63380b80",
   "execution_count": 2
  },
  {
   "cell_type": "code",
   "outputs": [],
   "source": [
    "# Read input dataframes\n",
    "ec_metadata_df: DataFrame = spark_session.read.parquet(input_config_dict.get('path.metadataRequest'), header=True)\n",
    "input_to_analyze_df: DataFrame = spark_session.read.csv(input_config_dict.get('path.analyzeFile'), header=True)\n",
    "sequence_category_mapping_df: DataFrame = spark_session.read.csv('resources/sequence_category_mapping.csv', header=True)"
   ],
   "metadata": {
    "collapsed": false
   },
   "id": "79204d3cd010a8c9",
   "execution_count": null
  },
  {
   "cell_type": "code",
   "outputs": [],
   "source": [
    "# Deduplicate requests\n",
    "deduplicates_df: DataFrame = ec_metadata_df \\\n",
    "    .withColumn('version', ec_metadata_df.version.cast('integer')) \\\n",
    "    .filter(ec_metadata_df.paperMeta_productType.isNotNull()) \\\n",
    "    .groupby(ec_metadata_df.requestId) \\\n",
    "    .agg(max('version').alias('version')) \\\n",
    "    .sort(desc('version'))\n",
    "\n",
    "deduplicates_df = deduplicates_df.withColumnRenamed('requestId', 'maxRequestId')\n",
    "deduplicates_df = deduplicates_df.withColumnRenamed('version', 'maxVersion')\n",
    "\n",
    "# deduplicates_df.show(n=5, truncate=True)"
   ],
   "metadata": {
    "collapsed": false
   },
   "id": "92b6c1981a7fe815",
   "execution_count": null
  },
  {
   "cell_type": "code",
   "outputs": [],
   "source": [
    "# Postalizzazione basic - TODO: enhance selection pipeline\n",
    "\n",
    "deduplicates_join_condition = [\n",
    "    ec_metadata_df.requestId == deduplicates_df.maxRequestId,\n",
    "    ec_metadata_df.version == deduplicates_df.maxVersion\n",
    "]\n",
    "\n",
    "all_paper_metadata_df: DataFrame = ec_metadata_df \\\n",
    "    .join(other=deduplicates_df, on=deduplicates_join_condition) \\\n",
    "    .selectExpr(\n",
    "        'if (length(requestTimestamp) = 17, concat(substr(requestTimestamp, 0, 16), \":00Z\"), requestTimestamp) as requestTimestamp',\n",
    "        'paperMeta_productType',\n",
    "        'array_join(transform(event_list, e -> e.paperProg_statusCode), \" \") as statusesString',\n",
    "        'array_join(transform(filter(event_list, e -> e.paperProg_statusCode rlike \"CON080|CON016|(CON9.*)|(RECRN.*)|(RECAG.*)|(RECRS.*)|(P.*)|(RECRSI.*)|(RECRI.*)\"),e -> e.paperProg_statusCode), \" \") as businessStatusesString',\n",
    "        'array_join(array_distinct(transform(event_list,e -> e.paperProg_deliveryFailureCause)), \" \") as deliveryFailureCause',\n",
    "        'array_join(array_distinct(flatten(transform(filter(event_list, e -> e.paperProg_statusCode rlike \"(REC.*B)|(REC.*E)\").paperProg_attachments,e -> e.documentType))), \" \") as attachments',\n",
    "        'array_join(array_distinct(transform(filter(event_list, e -> e.paperProg_statusCode rlike \"REC.*\" AND NOT e.paperProg_statusCode in (\"RECAG012\",\"REC090\")),e -> e.paperProg_registeredLetterCode)), \" \") as registeredLetterCode',\n",
    "        'requestId',\n",
    "        'regexp_extract(requestId, \".*IUN_(.*)\\\\.RECINDEX.*\", 1) as paperIun',\n",
    "        'regexp_extract(requestId, \"pn-cons-000~(.*)\\\\.PCRETRY_.\", 1) as paperRequestId',\n",
    "        'version as paperVersion'\n",
    "    )\n",
    "\n",
    "# Replace empty string coming from array_join() with empty arrays\n",
    "all_paper_metadata_df = all_paper_metadata_df.na.replace('', None)\n",
    "\n",
    "# all_paper_metadata_df.show(n=50, truncate=False)"
   ],
   "metadata": {
    "collapsed": false
   },
   "id": "bd797c4254e04399",
   "execution_count": null
  },
  {
   "cell_type": "code",
   "outputs": [],
   "source": [
    "# Filter only metadata\n",
    "filtered_all_paper_metadata_df: DataFrame = input_to_analyze_df \\\n",
    "    .join(other=all_paper_metadata_df, on=input_to_analyze_df.iun == all_paper_metadata_df.paperIun, how='left')\n",
    "\n",
    "# filtered_all_paper_metadata_df.show(n=50, truncate=True)"
   ],
   "metadata": {
    "collapsed": false
   },
   "id": "af13585a060f113b",
   "execution_count": null
  },
  {
   "cell_type": "code",
   "outputs": [],
   "source": [
    "# Filter duplicates by max request id\n",
    "distinct_request_df: DataFrame = filtered_all_paper_metadata_df \\\n",
    "    .groupby(filtered_all_paper_metadata_df.paperIun) \\\n",
    "    .agg(max(filtered_all_paper_metadata_df.requestId).alias('maxRequestId'))\n",
    "\n",
    "# distinct_request_df.show(n=50, truncate=True)"
   ],
   "metadata": {
    "collapsed": false
   },
   "id": "dc3476ad0a3a18da",
   "execution_count": null
  },
  {
   "cell_type": "code",
   "outputs": [],
   "source": [
    "# In this notebook cell we are using col() to retrieve column because distinct_request_df JOIN filtered_all_paper_metadata_df refers to self join operation\n",
    "\n",
    "# Sequence column contains the status history with all REC like statuses when contain any of it, otherwise the entire history\n",
    "sequence: Column = regexp_replace(\n",
    "    trim(\n",
    "        when(\n",
    "            col('filtered_all_paper_metadata_df.businessStatusesString').contains('REC'), \n",
    "            regexp_replace(col('filtered_all_paper_metadata_df.businessStatusesString'), 'P000|CON[a-zA-Z0-9]*', '')\n",
    "        ).otherwise(col('filtered_all_paper_metadata_df.businessStatusesString'))\n",
    "    ), \n",
    "    ' +', \n",
    "    '->'\n",
    ")\n",
    "\n",
    "# Distinct request\n",
    "distinct_metadata_df: DataFrame = distinct_request_df.alias('distinct_request_df') \\\n",
    "    .join(\n",
    "        filtered_all_paper_metadata_df.alias('filtered_all_paper_metadata_df'), \n",
    "        on=col('distinct_request_df.maxRequestId') == col('filtered_all_paper_metadata_df.requestId'), \n",
    "        how='left'\n",
    "    )\n",
    "\n",
    "distinct_metadata_df = distinct_metadata_df \\\n",
    "    .select(\n",
    "        col('filtered_all_paper_metadata_df.iun'),\n",
    "        col('filtered_all_paper_metadata_df.destzip'),\n",
    "        col('filtered_all_paper_metadata_df.destforeignstate'),\n",
    "        col('filtered_all_paper_metadata_df.registeredLetterCode'),\n",
    "        col('filtered_all_paper_metadata_df.paperMeta_productType').alias('paperMetaProductType'), \n",
    "        col('filtered_all_paper_metadata_df.attachments'), \n",
    "        col('filtered_all_paper_metadata_df.requestId'), \n",
    "        col('filtered_all_paper_metadata_df.paperRequestId'),\n",
    "        sequence.alias('sequence')\n",
    "    )\n",
    "\n",
    "# distinct_metadata_df.show(n=50, truncate=False)"
   ],
   "metadata": {
    "collapsed": false
   },
   "id": "298370dbfb3bee0",
   "execution_count": null
  },
  {
   "cell_type": "code",
   "outputs": [],
   "source": [
    "# Group sequences to create data clusters with the form (each row): <sequence, attachments, count, requestInformationSet>\n",
    "# group_by_sequences_df: DataFrame = distinct_metadata_df \\\n",
    "#     .groupby(distinct_metadata_df.sequence, distinct_metadata_df.attachments) \\\n",
    "#     .agg(\n",
    "#         count(distinct_metadata_df.iun).alias('requestCount'), \n",
    "#         collect_set(to_json(struct(\n",
    "#             distinct_metadata_df.requestId, \n",
    "#             distinct_metadata_df.paperRequestId, \n",
    "#             distinct_metadata_df.registeredLetterCode,\n",
    "#             distinct_metadata_df.destzip,\n",
    "#             distinct_metadata_df.destforeignstate\n",
    "#         ))).cast('string').alias('requestInformationSet'))\n",
    "\n",
    "group_by_sequences_df = distinct_metadata_df.filter(distinct_metadata_df.sequence == 'P000->CON080->CON016->PN999')\n",
    "\n",
    "group_by_sequences_df.show(n=100, truncate=False)"
   ],
   "metadata": {
    "collapsed": false
   },
   "id": "86d6ee02950bc13a",
   "execution_count": null
  },
  {
   "cell_type": "code",
   "outputs": [],
   "source": [
    "labeled_join_condition = [\n",
    "    group_by_sequences_df.sequence.eqNullSafe(sequence_category_mapping_df.mappedSequence), \n",
    "    group_by_sequences_df.attachments.eqNullSafe(sequence_category_mapping_df.mappedAttachments)\n",
    "]\n",
    "\n",
    "group_by_sequence_labeled_df: DataFrame = group_by_sequences_df \\\n",
    "    .join(sequence_category_mapping_df, on=labeled_join_condition, how='left') \\\n",
    "    .select(\n",
    "        group_by_sequences_df.requestId,\n",
    "        group_by_sequences_df.sequence,\n",
    "        group_by_sequences_df.attachments,\n",
    "        # group_by_sequences_df.requestCount,\n",
    "        # group_by_sequences_df.requestInformationSet,\n",
    "        sequence_category_mapping_df.category,\n",
    "        sequence_category_mapping_df.action,\n",
    "    ) \\\n",
    "    #.sort(desc(group_by_sequences_df.requestCount))\n",
    "\n",
    "group_by_sequence_labeled_df.show(n=500, truncate=False)"
   ],
   "metadata": {
    "collapsed": false
   },
   "id": "7de4226a1c155757",
   "execution_count": null
  },
  {
   "cell_type": "code",
   "outputs": [],
   "source": [
    "recag012_send_only_df: DataFrame = group_by_sequence_labeled_df \\\n",
    "    .filter((group_by_sequence_labeled_df.action == 'SEND') & (group_by_sequence_labeled_df.category == 'REDRIVE_RECAG012')) \\\n",
    "    .select(\n",
    "        group_by_sequence_labeled_df.requestId,\n",
    "        group_by_sequence_labeled_df.sequence,\n",
    "        group_by_sequence_labeled_df.requestId,\n",
    "        group_by_sequence_labeled_df.action\n",
    "    )\n",
    "\n",
    "recag012_send_only_df.show(truncate=False)"
   ],
   "metadata": {
    "collapsed": false
   },
   "id": "7cb310162c2621ae",
   "execution_count": null
  },
  {
   "cell_type": "code",
   "outputs": [],
   "source": [
    "# from utils.custom_data_frame_writer import CustomDataFrameWriter\n",
    "# \n",
    "# # Write out dataframe\n",
    "# CustomDataFrameWriter.write(\n",
    "#     df=recag012_send_only_df.repartition(1),\n",
    "#     output_name=SPARK_APP_NAME,\n",
    "#     output_folder=output_config_dict.get('path'),\n",
    "#     output_format=output_config_dict.get('format')\n",
    "# )"
   ],
   "metadata": {
    "collapsed": false
   },
   "id": "7b1d1a9220dc5313",
   "execution_count": null
  },
  {
   "cell_type": "code",
   "outputs": [],
   "source": [
    "request_missing_cap_df: DataFrame = spark_session.read.csv('/Users/lap-mbp16-n01-0346/Documents/Sviluppo/Data Analysis/requests/pn-9966-analisi_spedizioni_recapitista.csv', header=True, sep=';')\n",
    "\n",
    "request_with_cap_df: DataFrame = spark_session.read.csv('resources/CAP_non_risaliti_cleaned.csv', header=True)"
   ],
   "metadata": {
    "collapsed": false,
    "ExecuteTime": {
     "end_time": "2024-02-22T17:27:44.777264Z",
     "start_time": "2024-02-22T17:27:42.745558Z"
    }
   },
   "id": "98e690dab896071f",
   "execution_count": 3
  },
  {
   "cell_type": "code",
   "outputs": [],
   "source": [
    "request_missing_cap_with_send_request_df = request_missing_cap_df.select(\n",
    "    '*',\n",
    "    regexp_replace(regexp_replace(request_missing_cap_df.idRichiesta, 'pn-cons-000~PREPARE', 'SEND'), '.PCRETRY_.', '').alias('sendRequest')\n",
    ")"
   ],
   "metadata": {
    "collapsed": false,
    "ExecuteTime": {
     "end_time": "2024-02-22T17:27:46.400719Z",
     "start_time": "2024-02-22T17:27:46.375940Z"
    }
   },
   "id": "7b96c3531fa3ab86",
   "execution_count": 4
  },
  {
   "cell_type": "code",
   "outputs": [],
   "source": [
    "request_with_filledcap_df: DataFrame = request_missing_cap_with_send_request_df \\\n",
    "    .join(request_with_cap_df, on=request_missing_cap_with_send_request_df.sendRequest == request_with_cap_df.event_id) \\\n",
    "    .select(\n",
    "        request_missing_cap_with_send_request_df.idRichiesta,\n",
    "        request_missing_cap_with_send_request_df.sequenzaEventi,\n",
    "        request_missing_cap_with_send_request_df.codiceLettera,\n",
    "        request_missing_cap_with_send_request_df.prodottoPostale,\n",
    "        request_missing_cap_with_send_request_df.categoria,\n",
    "        request_missing_cap_with_send_request_df.descrizione,\n",
    "        request_with_cap_df.cap,\n",
    "        request_with_cap_df.stato_estero\n",
    "    )"
   ],
   "metadata": {
    "collapsed": false,
    "ExecuteTime": {
     "end_time": "2024-02-22T17:27:48.436474Z",
     "start_time": "2024-02-22T17:27:48.408874Z"
    }
   },
   "id": "3ac5b276a4c60c53",
   "execution_count": 5
  },
  {
   "cell_type": "code",
   "outputs": [],
   "source": [
    "from utils.custom_data_frame_writer import CustomDataFrameWriter\n",
    "\n",
    "# Write out dataframe\n",
    "CustomDataFrameWriter.write(\n",
    "    df=request_with_filledcap_df.repartition(1),\n",
    "    output_name=SPARK_APP_NAME,\n",
    "    output_folder=output_config_dict.get('path'),\n",
    "    output_format=output_config_dict.get('format')\n",
    ")"
   ],
   "metadata": {
    "collapsed": false,
    "ExecuteTime": {
     "end_time": "2024-02-22T17:27:51.034140Z",
     "start_time": "2024-02-22T17:27:50.450257Z"
    }
   },
   "id": "d77081026f8e7cd6",
   "execution_count": 6
  }
 ],
 "metadata": {
  "kernelspec": {
   "display_name": "Python 3",
   "language": "python",
   "name": "python3"
  },
  "language_info": {
   "codemirror_mode": {
    "name": "ipython",
    "version": 2
   },
   "file_extension": ".py",
   "mimetype": "text/x-python",
   "name": "python",
   "nbconvert_exporter": "python",
   "pygments_lexer": "ipython2",
   "version": "2.7.6"
  }
 },
 "nbformat": 4,
 "nbformat_minor": 5
}
