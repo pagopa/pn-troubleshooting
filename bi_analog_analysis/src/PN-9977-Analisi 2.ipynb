{
 "cells": [
  {
   "cell_type": "code",
   "execution_count": 1,
   "id": "initial_id",
   "metadata": {
    "collapsed": true,
    "ExecuteTime": {
     "end_time": "2024-02-14T16:00:50.194481Z",
     "start_time": "2024-02-14T16:00:50.187398Z"
    }
   },
   "outputs": [],
   "source": [
    "# Import app configuration\n",
    "from typing import Dict\n",
    "from config import APP_CONFIG\n",
    "\n",
    "spark_config_dict: Dict[str, str] = APP_CONFIG.get('spark', dict())\n",
    "input_config_dict: Dict[str, str] = APP_CONFIG.get('input', dict())\n",
    "output_config_dict: Dict[str, str] = APP_CONFIG.get('output', dict())\n",
    "\n",
    "SPARK_APP_NAME = spark_config_dict.get('name', 'spark-app')"
   ]
  },
  {
   "cell_type": "code",
   "outputs": [
    {
     "name": "stderr",
     "output_type": "stream",
     "text": [
      "Setting default log level to \"WARN\".\n",
      "To adjust logging level use sc.setLogLevel(newLevel). For SparkR, use setLogLevel(newLevel).\n",
      "24/02/14 17:00:53 WARN NativeCodeLoader: Unable to load native-hadoop library for your platform... using builtin-java classes where applicable\n",
      "24/02/14 17:00:54 WARN Utils: Service 'SparkUI' could not bind on port 4040. Attempting port 4041.\n"
     ]
    }
   ],
   "source": [
    "import os\n",
    "\n",
    "from pyspark import SparkConf\n",
    "from pyspark.sql import SparkSession\n",
    "from pyspark.sql.functions import *\n",
    "from pyspark.sql.dataframe import DataFrame\n",
    "\n",
    "os.environ['SPARK_MEM'] = spark_config_dict.get('memory', '24g')\n",
    "\n",
    "spark_conf = SparkConf()\n",
    "spark_conf.set('spark.driver.memory', spark_config_dict.get('driver.memory', '4g'))\n",
    "spark_conf.set('spark.executor.memory', spark_config_dict.get('executor.memory', '5g'))\n",
    "spark_conf.set('spark.executor.cores', spark_config_dict.get('executor.cores', '3'))\n",
    "spark_conf.set('spark.executor.instances', spark_config_dict.get('executor.instances', '4'))\n",
    "spark_conf.set('spark.dynamicAllocation.enabled', spark_config_dict.get('dynamicAllocation.enabled', 'false'))\n",
    "\n",
    "# Configure and start new Spark Session\n",
    "spark_session = (SparkSession.builder\n",
    "                .appName(name=SPARK_APP_NAME)\n",
    "                .master(master=spark_config_dict.get('master', 'local'))\n",
    "                .config(conf=spark_conf)\n",
    "                .getOrCreate())\n",
    "\n",
    "spark_session.sparkContext.setLogLevel(spark_config_dict.get('logLevel', 'WARN'))"
   ],
   "metadata": {
    "collapsed": false,
    "ExecuteTime": {
     "end_time": "2024-02-14T16:00:54.283343Z",
     "start_time": "2024-02-14T16:00:51.792642Z"
    }
   },
   "id": "4fd7dfad63380b80",
   "execution_count": 2
  },
  {
   "cell_type": "code",
   "outputs": [],
   "source": [
    "# Read input dataframes\n",
    "ec_metadata_df: DataFrame = spark_session.read.parquet(input_config_dict.get('path.metadataRequest'), header=True)\n",
    "input_to_analyze_df: DataFrame = spark_session.read.csv(input_config_dict.get('path.analyzeFile'), header=True)"
   ],
   "metadata": {
    "collapsed": false,
    "ExecuteTime": {
     "end_time": "2024-02-14T16:00:58.798047Z",
     "start_time": "2024-02-14T16:00:56.557327Z"
    }
   },
   "id": "79204d3cd010a8c9",
   "execution_count": 3
  },
  {
   "cell_type": "code",
   "outputs": [],
   "source": [
    "# Deduplicate requests\n",
    "deduplicates_df: DataFrame = ec_metadata_df \\\n",
    "    .withColumn('version', ec_metadata_df.version.cast('integer')) \\\n",
    "    .filter(ec_metadata_df.paperMeta_productType.isNotNull()) \\\n",
    "    .groupby(ec_metadata_df.requestId) \\\n",
    "    .agg(max('version').alias('version')) \\\n",
    "    .sort(desc('version'))\n",
    "\n",
    "deduplicates_df = deduplicates_df.withColumnRenamed('requestId', 'maxRequestId')\n",
    "deduplicates_df = deduplicates_df.withColumnRenamed('version', 'maxVersion')\n",
    "\n",
    "# deduplicates_df.show(n=5, truncate=True)"
   ],
   "metadata": {
    "collapsed": false,
    "ExecuteTime": {
     "end_time": "2024-02-14T16:01:00.706124Z",
     "start_time": "2024-02-14T16:01:00.655936Z"
    }
   },
   "id": "92b6c1981a7fe815",
   "execution_count": 4
  },
  {
   "cell_type": "code",
   "outputs": [],
   "source": [
    "# Postalizzazione basic - TODO: enhance selection pipeline\n",
    "all_paper_metadata_df: DataFrame = ec_metadata_df \\\n",
    "    .join(deduplicates_df) \\\n",
    "    .where((ec_metadata_df.requestId == deduplicates_df.maxRequestId) & (ec_metadata_df.version == deduplicates_df.maxVersion)) \\\n",
    "    .selectExpr(\n",
    "        'if (length(requestTimestamp) = 17, concat(substr(requestTimestamp, 0, 16), \":00Z\"), requestTimestamp) as requestTimestamp',\n",
    "        'paperMeta_productType',\n",
    "        'array_join(transform(event_list, e -> e.paperProg_statusCode), \" \") as statusesString',\n",
    "        'array_join(transform(filter(event_list, e -> e.paperProg_statusCode rlike \"CON080|CON016|(CON9.*)|(RECRN.*)|(RECAG.*)|(RECRS.*)|(P.*)|(RECRSI.*)|(RECRI.*)\"),e -> e.paperProg_statusCode), \" \") as businessStatusesString',\n",
    "        'array_join(array_distinct(transform(event_list,e -> e.paperProg_deliveryFailureCause)), \" \") as deliveryFailureCause',\n",
    "        'array_join(array_distinct(flatten(transform(filter(event_list, e -> e.paperProg_statusCode rlike \"(REC.*B)|(REC.*E)\").paperProg_attachments,e -> e.documentType))), \" \") as attachments',\n",
    "        'array_join(array_distinct(transform(filter(event_list, e -> e.paperProg_statusCode rlike \"REC.*\" AND NOT e.paperProg_statusCode in (\"RECAG012\",\"REC090\")),e -> e.paperProg_registeredLetterCode)), \" \") as registeredLetterCode',\n",
    "        'requestId',\n",
    "        'regexp_extract(requestId, \".*IUN_(.*)\\\\.RECINDEX.*\", 1) as paperIun',\n",
    "        'regexp_extract(requestId, \"pn-cons-000~(.*)\\\\.PCRETRY_.\", 1) as paperRequestId',\n",
    "        'version as paperVersion'\n",
    "    )\n",
    "\n",
    "# all_paper_metadata_df.show(n=5, truncate=False)"
   ],
   "metadata": {
    "collapsed": false,
    "ExecuteTime": {
     "end_time": "2024-02-14T16:01:03.430927Z",
     "start_time": "2024-02-14T16:01:03.284416Z"
    }
   },
   "id": "bd797c4254e04399",
   "execution_count": 5
  },
  {
   "cell_type": "code",
   "outputs": [],
   "source": [
    "data = [\n",
    "    {\n",
    "        \"requestIdNoRecag\": \"pn-cons-000~PREPARE_ANALOG_DOMICILE.IUN_KWRL-LAUQ-YDRU-202307-H-1.RECINDEX_0.ATTEMPT_0.PCRETRY_0\",\n",
    "    },\n",
    "    {\n",
    "        \"requestIdNoRecag\": \"pn-cons-000~PREPARE_ANALOG_DOMICILE.IUN_MRPJ-WPRV-PQHZ-202308-Z-1.RECINDEX_0.ATTEMPT_0.PCRETRY_0\",\n",
    "    },\n",
    "    {\n",
    "        \"requestIdNoRecag\": \"pn-cons-000~PREPARE_ANALOG_DOMICILE.IUN_YZTR-AQAT-LNQH-202308-H-1.RECINDEX_0.ATTEMPT_0.PCRETRY_1\",\n",
    "    },\n",
    "    {\n",
    "        \"requestIdNoRecag\": \"pn-cons-000~PREPARE_ANALOG_DOMICILE.IUN_VEWH-QZWV-RQNA-202308-X-1.RECINDEX_0.ATTEMPT_0.PCRETRY_1\",\n",
    "    },\n",
    "    {\n",
    "        \"requestIdNoRecag\": \"pn-cons-000~PREPARE_ANALOG_DOMICILE.IUN_AGKG-AQDV-ZUDN-202307-M-1.RECINDEX_0.ATTEMPT_0.PCRETRY_1\",\n",
    "    },\n",
    "    {\n",
    "        \"requestIdNoRecag\": \"pn-cons-000~PREPARE_ANALOG_DOMICILE.IUN_LNXV-VDTN-MVEH-202307-D-1.RECINDEX_0.ATTEMPT_0.PCRETRY_0\",\n",
    "    }\n",
    "]\n",
    "\n",
    "missing_recag_df: DataFrame = spark_session.createDataFrame(data)"
   ],
   "metadata": {
    "collapsed": false,
    "ExecuteTime": {
     "end_time": "2024-02-14T16:15:54.953160Z",
     "start_time": "2024-02-14T16:15:54.940538Z"
    }
   },
   "id": "871f4bf23a6bbf29",
   "execution_count": 12
  },
  {
   "cell_type": "code",
   "outputs": [
    {
     "name": "stderr",
     "output_type": "stream",
     "text": [
      "[Stage 43:=====================================================>  (40 + 1) / 42]\r"
     ]
    },
    {
     "name": "stdout",
     "output_type": "stream",
     "text": [
      "+-----------------------------------------------------+------------------------------------------------------------------------------------------------+\n",
      "|statusesString                                       |requestId                                                                                       |\n",
      "+-----------------------------------------------------+------------------------------------------------------------------------------------------------+\n",
      "|P000 CON010 CON011 CON012 CON09A CON016 CON018 CON080|pn-cons-000~PREPARE_ANALOG_DOMICILE.IUN_AGKG-AQDV-ZUDN-202307-M-1.RECINDEX_0.ATTEMPT_0.PCRETRY_1|\n",
      "|P000 CON996                                          |pn-cons-000~PREPARE_ANALOG_DOMICILE.IUN_MRPJ-WPRV-PQHZ-202308-Z-1.RECINDEX_0.ATTEMPT_0.PCRETRY_0|\n",
      "|P000 CON996                                          |pn-cons-000~PREPARE_ANALOG_DOMICILE.IUN_YZTR-AQAT-LNQH-202308-H-1.RECINDEX_0.ATTEMPT_0.PCRETRY_1|\n",
      "|P000 CON996                                          |pn-cons-000~PREPARE_ANALOG_DOMICILE.IUN_VEWH-QZWV-RQNA-202308-X-1.RECINDEX_0.ATTEMPT_0.PCRETRY_1|\n",
      "|P000 CON996                                          |pn-cons-000~PREPARE_ANALOG_DOMICILE.IUN_LNXV-VDTN-MVEH-202307-D-1.RECINDEX_0.ATTEMPT_0.PCRETRY_0|\n",
      "|P000 CON996                                          |pn-cons-000~PREPARE_ANALOG_DOMICILE.IUN_KWRL-LAUQ-YDRU-202307-H-1.RECINDEX_0.ATTEMPT_0.PCRETRY_0|\n",
      "+-----------------------------------------------------+------------------------------------------------------------------------------------------------+\n"
     ]
    },
    {
     "name": "stderr",
     "output_type": "stream",
     "text": [
      "                                                                                \r"
     ]
    }
   ],
   "source": [
    "missing_recag_joined_df: DataFrame = all_paper_metadata_df \\\n",
    "    .join(broadcast(missing_recag_df), on=missing_recag_df.requestIdNoRecag == all_paper_metadata_df.requestId) \\\n",
    "    .select('statusesString', 'requestId')\n",
    "\n",
    "missing_recag_joined_df.show(n=50, truncate=False)"
   ],
   "metadata": {
    "collapsed": false,
    "ExecuteTime": {
     "end_time": "2024-02-14T16:17:26.535366Z",
     "start_time": "2024-02-14T16:16:07.470057Z"
    }
   },
   "id": "5bfe376acd0b8fdd",
   "execution_count": 14
  },
  {
   "cell_type": "code",
   "outputs": [],
   "source": [
    "decremented_pc_retry_df: DataFrame = input_to_analyze_df \\\n",
    "    .select(\n",
    "        input_to_analyze_df.requestId.alias('originalRequestId'),\n",
    "        concat(\n",
    "            regexp_extract(input_to_analyze_df.requestId, \"pn-cons-000~(.*)\\\\.PCRETRY_\", 0).alias('requestIdWithoutPcRetryNumber'),\n",
    "            regexp_extract(input_to_analyze_df.requestId, \".PCRETRY_(.*)\", 1).cast('integer')-1\n",
    "        ).alias('requestIdWithDecrementedPcRetryNumber'),\n",
    "        regexp_extract(input_to_analyze_df.requestId, \"pn-cons-000~(.*)\\\\.PCRETRY_.\", 1).alias('paperRequestId')\n",
    "    )\n",
    "\n",
    "# decremented_pc_retry_df.show(n=50, truncate=False)"
   ],
   "metadata": {
    "collapsed": false
   },
   "id": "da5a136430168048",
   "execution_count": null
  },
  {
   "cell_type": "code",
   "outputs": [],
   "source": [
    "recag013_bloccati2_df: DataFrame = all_paper_metadata_df \\\n",
    "    .join(broadcast(decremented_pc_retry_df), on=all_paper_metadata_df.requestId == decremented_pc_retry_df.requestIdWithDecrementedPcRetryNumber) \\\n",
    "    .select('originalRequestId', 'requestIdWithDecrementedPcRetryNumber', 'statusesString')\n",
    "\n",
    "# recag013_bloccati2_df.show(n=50, truncate=False)"
   ],
   "metadata": {
    "collapsed": false
   },
   "id": "449c1cef9cb01092",
   "execution_count": null
  }
 ],
 "metadata": {
  "kernelspec": {
   "display_name": "Python 3",
   "language": "python",
   "name": "python3"
  },
  "language_info": {
   "codemirror_mode": {
    "name": "ipython",
    "version": 2
   },
   "file_extension": ".py",
   "mimetype": "text/x-python",
   "name": "python",
   "nbconvert_exporter": "python",
   "pygments_lexer": "ipython2",
   "version": "2.7.6"
  }
 },
 "nbformat": 4,
 "nbformat_minor": 5
}
