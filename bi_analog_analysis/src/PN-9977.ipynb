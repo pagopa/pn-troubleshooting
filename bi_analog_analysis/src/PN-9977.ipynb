{
 "cells": [
  {
   "cell_type": "code",
   "execution_count": 1,
   "id": "initial_id",
   "metadata": {
    "collapsed": true,
    "ExecuteTime": {
     "end_time": "2024-02-20T15:48:19.992762Z",
     "start_time": "2024-02-20T15:48:19.981704Z"
    }
   },
   "outputs": [],
   "source": [
    "# Import app configuration\n",
    "from typing import Dict\n",
    "from config import APP_CONFIG\n",
    "\n",
    "spark_config_dict: Dict[str, str] = APP_CONFIG.get('spark', dict())\n",
    "input_config_dict: Dict[str, str] = APP_CONFIG.get('input', dict())\n",
    "output_config_dict: Dict[str, str] = APP_CONFIG.get('output', dict())\n",
    "\n",
    "SPARK_APP_NAME = spark_config_dict.get('name', 'spark-app')"
   ]
  },
  {
   "cell_type": "code",
   "outputs": [
    {
     "name": "stderr",
     "output_type": "stream",
     "text": [
      "Setting default log level to \"WARN\".\n",
      "To adjust logging level use sc.setLogLevel(newLevel). For SparkR, use setLogLevel(newLevel).\n",
      "24/02/20 16:48:23 WARN NativeCodeLoader: Unable to load native-hadoop library for your platform... using builtin-java classes where applicable\n",
      "24/02/20 16:48:24 WARN Utils: Service 'SparkUI' could not bind on port 4040. Attempting port 4041.\n"
     ]
    }
   ],
   "source": [
    "import os\n",
    "\n",
    "from pyspark import SparkConf\n",
    "from pyspark.sql import SparkSession\n",
    "from pyspark.sql.functions import *\n",
    "from pyspark.sql.dataframe import DataFrame\n",
    "\n",
    "os.environ['SPARK_MEM'] = spark_config_dict.get('memory', '24g')\n",
    "\n",
    "spark_conf = SparkConf()\n",
    "spark_conf.set('spark.driver.memory', spark_config_dict.get('driver.memory', '4g'))\n",
    "spark_conf.set('spark.executor.memory', spark_config_dict.get('executor.memory', '5g'))\n",
    "spark_conf.set('spark.executor.cores', spark_config_dict.get('executor.cores', '3'))\n",
    "spark_conf.set('spark.executor.instances', spark_config_dict.get('executor.instances', '4'))\n",
    "spark_conf.set('spark.dynamicAllocation.enabled', spark_config_dict.get('dynamicAllocation.enabled', 'false'))\n",
    "\n",
    "# Configure and start new Spark Session\n",
    "spark_session = (SparkSession.builder\n",
    "                .appName(name=SPARK_APP_NAME)\n",
    "                .master(master=spark_config_dict.get('master', 'local'))\n",
    "                .config(conf=spark_conf)\n",
    "                .getOrCreate())\n",
    "\n",
    "spark_session.sparkContext.setLogLevel(spark_config_dict.get('logLevel', 'WARN'))"
   ],
   "metadata": {
    "collapsed": false,
    "ExecuteTime": {
     "end_time": "2024-02-20T15:48:24.409779Z",
     "start_time": "2024-02-20T15:48:22.584975Z"
    }
   },
   "id": "4fd7dfad63380b80",
   "execution_count": 2
  },
  {
   "cell_type": "code",
   "outputs": [],
   "source": [
    "# Read input dataframes\n",
    "ec_metadata_df: DataFrame = spark_session.read.parquet(input_config_dict.get('path.metadataRequest'), header=True)\n",
    "input_to_analyze_df: DataFrame = spark_session.read.csv(input_config_dict.get('path.analyzeFile'), header=True)"
   ],
   "metadata": {
    "collapsed": false,
    "ExecuteTime": {
     "end_time": "2024-02-20T15:48:32.041001Z",
     "start_time": "2024-02-20T15:48:29.936116Z"
    }
   },
   "id": "79204d3cd010a8c9",
   "execution_count": 3
  },
  {
   "cell_type": "code",
   "outputs": [],
   "source": [
    "# Deduplicate requests\n",
    "deduplicates_df: DataFrame = ec_metadata_df \\\n",
    "    .withColumn('version', ec_metadata_df.version.cast('integer')) \\\n",
    "    .filter(ec_metadata_df.paperMeta_productType.isNotNull()) \\\n",
    "    .groupby(ec_metadata_df.requestId) \\\n",
    "    .agg(max('version').alias('version')) \\\n",
    "    .sort(desc('version'))\n",
    "\n",
    "deduplicates_df = deduplicates_df.withColumnRenamed('requestId', 'maxRequestId')\n",
    "deduplicates_df = deduplicates_df.withColumnRenamed('version', 'maxVersion')\n",
    "\n",
    "# deduplicates_df.show(n=5, truncate=True)"
   ],
   "metadata": {
    "collapsed": false,
    "ExecuteTime": {
     "end_time": "2024-02-20T15:48:34.540799Z",
     "start_time": "2024-02-20T15:48:34.478987Z"
    }
   },
   "id": "92b6c1981a7fe815",
   "execution_count": 4
  },
  {
   "cell_type": "code",
   "outputs": [],
   "source": [
    "# Postalizzazione basic - TODO: enhance selection pipeline\n",
    "all_paper_metadata_df: DataFrame = ec_metadata_df \\\n",
    "    .join(deduplicates_df) \\\n",
    "    .where((ec_metadata_df.requestId == deduplicates_df.maxRequestId) & (ec_metadata_df.version == deduplicates_df.maxVersion)) \\\n",
    "    .selectExpr(\n",
    "        'if (length(requestTimestamp) = 17, concat(substr(requestTimestamp, 0, 16), \":00Z\"), requestTimestamp) as requestTimestamp',\n",
    "        'paperMeta_productType',\n",
    "        'array_join(transform(event_list, e -> e.paperProg_statusCode), \" \") as statusesString',\n",
    "        'array_join(transform(filter(event_list, e -> e.paperProg_statusCode rlike \"CON080|CON016|(CON9.*)|(RECRN.*)|(RECAG.*)|(RECRS.*)|(P.*)|(RECRSI.*)|(RECRI.*)\"),e -> e.paperProg_statusCode), \" \") as businessStatusesString',\n",
    "        'array_join(array_distinct(transform(event_list,e -> e.paperProg_deliveryFailureCause)), \" \") as deliveryFailureCause',\n",
    "        'array_join(array_distinct(flatten(transform(filter(event_list, e -> e.paperProg_statusCode rlike \"(REC.*B)|(REC.*E)\").paperProg_attachments,e -> e.documentType))), \" \") as attachments',\n",
    "        'array_join(array_distinct(transform(filter(event_list, e -> e.paperProg_statusCode rlike \"REC.*\" AND NOT e.paperProg_statusCode in (\"RECAG012\",\"REC090\")),e -> e.paperProg_registeredLetterCode)), \" \") as registeredLetterCode',\n",
    "        'requestId',\n",
    "        'regexp_extract(requestId, \".*IUN_(.*)\\\\.RECINDEX.*\", 1) as paperIun',\n",
    "        'regexp_extract(requestId, \"pn-cons-000~(.*)\\\\.PCRETRY_.\", 1) as paperRequestId',\n",
    "        'version as paperVersion'\n",
    "    )\n",
    "\n",
    "# all_paper_metadata_df.show(n=5, truncate=False)"
   ],
   "metadata": {
    "collapsed": false,
    "ExecuteTime": {
     "end_time": "2024-02-20T15:48:37.256159Z",
     "start_time": "2024-02-20T15:48:37.080241Z"
    }
   },
   "id": "bd797c4254e04399",
   "execution_count": 5
  },
  {
   "cell_type": "code",
   "outputs": [
    {
     "name": "stderr",
     "output_type": "stream",
     "text": [
      "[Stage 14:======================================>                   (2 + 1) / 3]\r"
     ]
    },
    {
     "name": "stdout",
     "output_type": "stream",
     "text": [
      "+------------------------------------------------------------------------------------------------+\n",
      "|requestId                                                                                       |\n",
      "+------------------------------------------------------------------------------------------------+\n",
      "|pn-cons-000~PREPARE_ANALOG_DOMICILE.IUN_UEPR-LZLV-JHML-202311-Q-1.RECINDEX_0.ATTEMPT_0.PCRETRY_1|\n",
      "|pn-cons-000~PREPARE_ANALOG_DOMICILE.IUN_YGEK-EQAU-KXYW-202311-U-1.RECINDEX_0.ATTEMPT_0.PCRETRY_1|\n",
      "|pn-cons-000~PREPARE_ANALOG_DOMICILE.IUN_EQNL-YJGL-WPVG-202310-K-1.RECINDEX_0.ATTEMPT_0.PCRETRY_1|\n",
      "+------------------------------------------------------------------------------------------------+\n"
     ]
    },
    {
     "name": "stderr",
     "output_type": "stream",
     "text": [
      "                                                                                \r"
     ]
    }
   ],
   "source": [
    "request_id_match_df: DataFrame = all_paper_metadata_df \\\n",
    "    .join(input_to_analyze_df, on=all_paper_metadata_df.requestId == input_to_analyze_df.requestId) \\\n",
    "    .select(input_to_analyze_df.requestId)\n",
    "\n",
    "request_id_match_df.show(n=50, truncate=False)"
   ],
   "metadata": {
    "collapsed": false,
    "ExecuteTime": {
     "end_time": "2024-02-20T15:49:02.887938Z",
     "start_time": "2024-02-20T15:48:40.845366Z"
    }
   },
   "id": "929bf9a31941a74a",
   "execution_count": 6
  },
  {
   "cell_type": "code",
   "outputs": [
    {
     "name": "stderr",
     "output_type": "stream",
     "text": [
      "[Stage 29:>                                                         (0 + 1) / 1]\r"
     ]
    },
    {
     "name": "stdout",
     "output_type": "stream",
     "text": [
      "+------------------------------------------------------------------------------------------------+\n",
      "|requestId                                                                                       |\n",
      "+------------------------------------------------------------------------------------------------+\n",
      "|pn-cons-000~PREPARE_ANALOG_DOMICILE.IUN_APDZ-XAXP-KGYT-202310-U-1.RECINDEX_0.ATTEMPT_0.PCRETRY_2|\n",
      "|pn-cons-000~PREPARE_ANALOG_DOMICILE.IUN_AUKD-DVWJ-XEHP-202310-Q-1.RECINDEX_0.ATTEMPT_0.PCRETRY_2|\n",
      "|pn-cons-000~PREPARE_ANALOG_DOMICILE.IUN_DHQY-EMGU-DPQH-202310-L-1.RECINDEX_0.ATTEMPT_0.PCRETRY_2|\n",
      "|pn-cons-000~PREPARE_ANALOG_DOMICILE.IUN_EXEU-XZKY-DPKU-202310-K-1.RECINDEX_0.ATTEMPT_0.PCRETRY_2|\n",
      "|pn-cons-000~PREPARE_ANALOG_DOMICILE.IUN_GDAG-YAHA-AZND-202310-Y-1.RECINDEX_0.ATTEMPT_0.PCRETRY_2|\n",
      "|pn-cons-000~PREPARE_ANALOG_DOMICILE.IUN_GHKA-JPVJ-QAUN-202309-P-1.RECINDEX_0.ATTEMPT_0.PCRETRY_2|\n",
      "|pn-cons-000~PREPARE_ANALOG_DOMICILE.IUN_GTHX-LRGM-NWRW-202310-A-1.RECINDEX_0.ATTEMPT_0.PCRETRY_2|\n",
      "|pn-cons-000~PREPARE_ANALOG_DOMICILE.IUN_HDZQ-HAQU-RQPV-202310-R-1.RECINDEX_0.ATTEMPT_0.PCRETRY_2|\n",
      "|pn-cons-000~PREPARE_ANALOG_DOMICILE.IUN_HVWP-UPDK-KHWY-202310-A-1.RECINDEX_0.ATTEMPT_0.PCRETRY_2|\n",
      "|pn-cons-000~PREPARE_ANALOG_DOMICILE.IUN_HYEX-EQPX-ZJWU-202309-G-1.RECINDEX_0.ATTEMPT_0.PCRETRY_2|\n",
      "|pn-cons-000~PREPARE_ANALOG_DOMICILE.IUN_HYWT-GZWH-JKJW-202310-J-1.RECINDEX_0.ATTEMPT_0.PCRETRY_2|\n",
      "|pn-cons-000~PREPARE_ANALOG_DOMICILE.IUN_HZHW-NPKP-YEAX-202310-V-1.RECINDEX_0.ATTEMPT_0.PCRETRY_2|\n",
      "|pn-cons-000~PREPARE_ANALOG_DOMICILE.IUN_JHDQ-XAHY-XEWX-202310-R-1.RECINDEX_0.ATTEMPT_0.PCRETRY_2|\n",
      "|pn-cons-000~PREPARE_ANALOG_DOMICILE.IUN_JKGL-YWEY-XMZE-202310-D-1.RECINDEX_0.ATTEMPT_0.PCRETRY_2|\n",
      "|pn-cons-000~PREPARE_ANALOG_DOMICILE.IUN_JPQY-GXPE-NEGR-202309-P-1.RECINDEX_0.ATTEMPT_0.PCRETRY_2|\n",
      "|pn-cons-000~PREPARE_ANALOG_DOMICILE.IUN_JYTU-MLTM-MDKR-202310-T-1.RECINDEX_0.ATTEMPT_0.PCRETRY_2|\n",
      "|pn-cons-000~PREPARE_ANALOG_DOMICILE.IUN_KLKW-XYQW-WXLE-202309-L-1.RECINDEX_0.ATTEMPT_0.PCRETRY_2|\n",
      "|pn-cons-000~PREPARE_ANALOG_DOMICILE.IUN_KTNR-PLAH-EUHQ-202310-R-1.RECINDEX_0.ATTEMPT_0.PCRETRY_2|\n",
      "|pn-cons-000~PREPARE_ANALOG_DOMICILE.IUN_KZXV-HMQR-NYTY-202310-P-1.RECINDEX_0.ATTEMPT_0.PCRETRY_2|\n",
      "|pn-cons-000~PREPARE_ANALOG_DOMICILE.IUN_LAHR-RAVH-GVMX-202310-X-1.RECINDEX_0.ATTEMPT_0.PCRETRY_2|\n",
      "|pn-cons-000~PREPARE_ANALOG_DOMICILE.IUN_LRDZ-JQTA-WNUH-202310-Q-1.RECINDEX_0.ATTEMPT_0.PCRETRY_2|\n",
      "|pn-cons-000~PREPARE_ANALOG_DOMICILE.IUN_MRGM-QVHD-UZAL-202307-M-1.RECINDEX_0.ATTEMPT_1.PCRETRY_1|\n",
      "|pn-cons-000~PREPARE_ANALOG_DOMICILE.IUN_PXRH-YXVK-LATQ-202310-P-1.RECINDEX_0.ATTEMPT_0.PCRETRY_2|\n",
      "|pn-cons-000~PREPARE_ANALOG_DOMICILE.IUN_RJRA-HMKP-UQNK-202310-X-1.RECINDEX_0.ATTEMPT_0.PCRETRY_2|\n",
      "|pn-cons-000~PREPARE_ANALOG_DOMICILE.IUN_RQJN-JGQM-DXWT-202310-Q-1.RECINDEX_0.ATTEMPT_0.PCRETRY_2|\n",
      "|pn-cons-000~PREPARE_ANALOG_DOMICILE.IUN_RUGQ-NKXD-GTPR-202310-Q-1.RECINDEX_0.ATTEMPT_0.PCRETRY_2|\n",
      "|pn-cons-000~PREPARE_ANALOG_DOMICILE.IUN_RVLY-HVNQ-QWTK-202309-J-1.RECINDEX_0.ATTEMPT_1.PCRETRY_1|\n",
      "|pn-cons-000~PREPARE_ANALOG_DOMICILE.IUN_RVRX-JERH-EKMU-202310-N-1.RECINDEX_0.ATTEMPT_0.PCRETRY_2|\n",
      "|pn-cons-000~PREPARE_ANALOG_DOMICILE.IUN_RZTK-UHWT-VTKW-202310-L-1.RECINDEX_0.ATTEMPT_0.PCRETRY_2|\n",
      "|pn-cons-000~PREPARE_ANALOG_DOMICILE.IUN_TMNZ-TAUP-XDRL-202310-G-1.RECINDEX_0.ATTEMPT_0.PCRETRY_2|\n",
      "|pn-cons-000~PREPARE_ANALOG_DOMICILE.IUN_TVLV-WHRN-VTDR-202309-A-1.RECINDEX_0.ATTEMPT_0.PCRETRY_2|\n",
      "|pn-cons-000~PREPARE_ANALOG_DOMICILE.IUN_UMTJ-QTQU-DTUT-202310-P-1.RECINDEX_0.ATTEMPT_0.PCRETRY_2|\n",
      "|pn-cons-000~PREPARE_ANALOG_DOMICILE.IUN_UWJW-KTET-UZDQ-202309-Y-1.RECINDEX_0.ATTEMPT_0.PCRETRY_2|\n",
      "|pn-cons-000~PREPARE_ANALOG_DOMICILE.IUN_VQZM-QGKZ-YXWT-202310-W-1.RECINDEX_0.ATTEMPT_0.PCRETRY_2|\n",
      "|pn-cons-000~PREPARE_ANALOG_DOMICILE.IUN_VZXQ-PZQP-HMWG-202309-Q-1.RECINDEX_0.ATTEMPT_0.PCRETRY_2|\n",
      "|pn-cons-000~PREPARE_ANALOG_DOMICILE.IUN_XAJQ-TAYQ-LUEN-202310-L-1.RECINDEX_0.ATTEMPT_0.PCRETRY_2|\n",
      "|pn-cons-000~PREPARE_ANALOG_DOMICILE.IUN_XMPQ-HAKD-QJDJ-202309-L-1.RECINDEX_0.ATTEMPT_0.PCRETRY_2|\n",
      "|pn-cons-000~PREPARE_ANALOG_DOMICILE.IUN_XMVD-HUJK-GRLQ-202310-G-1.RECINDEX_0.ATTEMPT_0.PCRETRY_2|\n",
      "|pn-cons-000~PREPARE_ANALOG_DOMICILE.IUN_YKXL-ANTE-YAZW-202310-J-1.RECINDEX_0.ATTEMPT_0.PCRETRY_2|\n",
      "|pn-cons-000~PREPARE_ANALOG_DOMICILE.IUN_YLUY-EJYJ-GDGJ-202310-Z-1.RECINDEX_0.ATTEMPT_0.PCRETRY_2|\n",
      "|pn-cons-000~PREPARE_ANALOG_DOMICILE.IUN_ZHGU-EKJZ-GJLJ-202310-R-1.RECINDEX_0.ATTEMPT_0.PCRETRY_2|\n",
      "|pn-cons-000~PREPARE_ANALOG_DOMICILE.IUN_ZQJT-XLXT-DEJW-202307-R-1.RECINDEX_0.ATTEMPT_1.PCRETRY_1|\n",
      "|pn-cons-000~PREPARE_ANALOG_DOMICILE.IUN_ZTKL-JWEU-MNWM-202310-G-1.RECINDEX_0.ATTEMPT_0.PCRETRY_2|\n",
      "|pn-cons-000~PREPARE_ANALOG_DOMICILE.IUN_ZTLG-UWXY-HZYV-202310-G-1.RECINDEX_0.ATTEMPT_0.PCRETRY_2|\n",
      "|pn-cons-000~PREPARE_ANALOG_DOMICILE.IUN_ZWJA-TYLA-XVWG-202310-N-1.RECINDEX_0.ATTEMPT_0.PCRETRY_2|\n",
      "+------------------------------------------------------------------------------------------------+\n"
     ]
    },
    {
     "name": "stderr",
     "output_type": "stream",
     "text": [
      "                                                                                \r"
     ]
    }
   ],
   "source": [
    "# Get only elements that not exist in all paper metadata (right join without matches)\n",
    "request_id_not_match_df: DataFrame = all_paper_metadata_df \\\n",
    "    .join(input_to_analyze_df, on=all_paper_metadata_df.requestId == input_to_analyze_df.requestId, how='right') \\\n",
    "    .where(all_paper_metadata_df.requestId.isNull()) \\\n",
    "    .select(input_to_analyze_df.requestId)\n",
    "\n",
    "request_id_not_match_df.show(n=50, truncate=False)"
   ],
   "metadata": {
    "collapsed": false,
    "ExecuteTime": {
     "end_time": "2024-02-20T15:49:35.816582Z",
     "start_time": "2024-02-20T15:49:13.011750Z"
    }
   },
   "id": "5bfe376acd0b8fdd",
   "execution_count": 7
  },
  {
   "cell_type": "code",
   "outputs": [],
   "source": [
    "decremented_pc_retry_df: DataFrame = request_id_not_match_df \\\n",
    "    .select(\n",
    "        request_id_not_match_df.requestId.alias('originalRequestId'),\n",
    "        concat(\n",
    "            regexp_extract(request_id_not_match_df.requestId, \"pn-cons-000~(.*)\\\\.PCRETRY_\", 0).alias('requestIdWithoutPcRetryNumber'),\n",
    "            regexp_extract(request_id_not_match_df.requestId, \".PCRETRY_(.*)\", 1).cast('integer')-1\n",
    "        ).alias('requestIdWithDecrementedPcRetryNumber'),\n",
    "        regexp_extract(request_id_not_match_df.requestId, \"pn-cons-000~(.*)\\\\.PCRETRY_.\", 1).alias('paperRequestId')\n",
    "    )\n",
    "\n",
    "# decremented_pc_retry_df.show(n=50, truncate=False)"
   ],
   "metadata": {
    "collapsed": false,
    "ExecuteTime": {
     "end_time": "2024-02-20T15:50:22.719975Z",
     "start_time": "2024-02-20T15:50:22.697057Z"
    }
   },
   "id": "da5a136430168048",
   "execution_count": 8
  },
  {
   "cell_type": "code",
   "outputs": [
    {
     "name": "stderr",
     "output_type": "stream",
     "text": [
      "[Stage 61:=====================================================>  (40 + 1) / 42]\r"
     ]
    },
    {
     "name": "stdout",
     "output_type": "stream",
     "text": [
      "+------------------------------------------------------------------------------------------------+------------------------------------------------------------------------------------------------+--------------------------------------------------------------+\n",
      "|originalRequestId                                                                               |requestIdWithDecrementedPcRetryNumber                                                           |statusesString                                                |\n",
      "+------------------------------------------------------------------------------------------------+------------------------------------------------------------------------------------------------+--------------------------------------------------------------+\n",
      "|pn-cons-000~PREPARE_ANALOG_DOMICILE.IUN_EXEU-XZKY-DPKU-202310-K-1.RECINDEX_0.ATTEMPT_0.PCRETRY_2|pn-cons-000~PREPARE_ANALOG_DOMICILE.IUN_EXEU-XZKY-DPKU-202310-K-1.RECINDEX_0.ATTEMPT_0.PCRETRY_1|P000 CON010 CON080 CON011 CON012 CON09A CON016 CON018 RECAG013|\n",
      "|pn-cons-000~PREPARE_ANALOG_DOMICILE.IUN_MRGM-QVHD-UZAL-202307-M-1.RECINDEX_0.ATTEMPT_1.PCRETRY_1|pn-cons-000~PREPARE_ANALOG_DOMICILE.IUN_MRGM-QVHD-UZAL-202307-M-1.RECINDEX_0.ATTEMPT_1.PCRETRY_0|P000 CON080 CON010 CON011 CON012 CON09A CON016 CON018 RECAG013|\n",
      "|pn-cons-000~PREPARE_ANALOG_DOMICILE.IUN_YKXL-ANTE-YAZW-202310-J-1.RECINDEX_0.ATTEMPT_0.PCRETRY_2|pn-cons-000~PREPARE_ANALOG_DOMICILE.IUN_YKXL-ANTE-YAZW-202310-J-1.RECINDEX_0.ATTEMPT_0.PCRETRY_1|P000 CON080 CON010 CON012 CON09A CON011 CON016 CON018 RECAG013|\n",
      "|pn-cons-000~PREPARE_ANALOG_DOMICILE.IUN_AUKD-DVWJ-XEHP-202310-Q-1.RECINDEX_0.ATTEMPT_0.PCRETRY_2|pn-cons-000~PREPARE_ANALOG_DOMICILE.IUN_AUKD-DVWJ-XEHP-202310-Q-1.RECINDEX_0.ATTEMPT_0.PCRETRY_1|P000 CON010 CON080 CON012 CON09A CON011 CON016 CON018 RECAG013|\n",
      "|pn-cons-000~PREPARE_ANALOG_DOMICILE.IUN_ZWJA-TYLA-XVWG-202310-N-1.RECINDEX_0.ATTEMPT_0.PCRETRY_2|pn-cons-000~PREPARE_ANALOG_DOMICILE.IUN_ZWJA-TYLA-XVWG-202310-N-1.RECINDEX_0.ATTEMPT_0.PCRETRY_1|P000 CON010 CON080 CON011 CON012 CON09A CON016 CON018 RECAG013|\n",
      "|pn-cons-000~PREPARE_ANALOG_DOMICILE.IUN_RUGQ-NKXD-GTPR-202310-Q-1.RECINDEX_0.ATTEMPT_0.PCRETRY_2|pn-cons-000~PREPARE_ANALOG_DOMICILE.IUN_RUGQ-NKXD-GTPR-202310-Q-1.RECINDEX_0.ATTEMPT_0.PCRETRY_1|P000 CON010 CON080 CON011 CON012 CON09A CON016 CON018 RECAG013|\n",
      "|pn-cons-000~PREPARE_ANALOG_DOMICILE.IUN_UWJW-KTET-UZDQ-202309-Y-1.RECINDEX_0.ATTEMPT_0.PCRETRY_2|pn-cons-000~PREPARE_ANALOG_DOMICILE.IUN_UWJW-KTET-UZDQ-202309-Y-1.RECINDEX_0.ATTEMPT_0.PCRETRY_1|P000 CON080 CON010 CON011 CON012 CON09A CON018 CON016 RECAG013|\n",
      "|pn-cons-000~PREPARE_ANALOG_DOMICILE.IUN_YLUY-EJYJ-GDGJ-202310-Z-1.RECINDEX_0.ATTEMPT_0.PCRETRY_2|pn-cons-000~PREPARE_ANALOG_DOMICILE.IUN_YLUY-EJYJ-GDGJ-202310-Z-1.RECINDEX_0.ATTEMPT_0.PCRETRY_1|P000 CON010 CON080 CON011 CON012 CON09A CON016 CON018 RECAG013|\n",
      "|pn-cons-000~PREPARE_ANALOG_DOMICILE.IUN_ZHGU-EKJZ-GJLJ-202310-R-1.RECINDEX_0.ATTEMPT_0.PCRETRY_2|pn-cons-000~PREPARE_ANALOG_DOMICILE.IUN_ZHGU-EKJZ-GJLJ-202310-R-1.RECINDEX_0.ATTEMPT_0.PCRETRY_1|P000 CON010 CON080 CON011 CON012 CON09A CON016 CON018 RECAG013|\n",
      "|pn-cons-000~PREPARE_ANALOG_DOMICILE.IUN_DHQY-EMGU-DPQH-202310-L-1.RECINDEX_0.ATTEMPT_0.PCRETRY_2|pn-cons-000~PREPARE_ANALOG_DOMICILE.IUN_DHQY-EMGU-DPQH-202310-L-1.RECINDEX_0.ATTEMPT_0.PCRETRY_1|P000 CON080 CON010 CON011 CON012 CON09A CON016 CON018 RECAG013|\n",
      "|pn-cons-000~PREPARE_ANALOG_DOMICILE.IUN_VQZM-QGKZ-YXWT-202310-W-1.RECINDEX_0.ATTEMPT_0.PCRETRY_2|pn-cons-000~PREPARE_ANALOG_DOMICILE.IUN_VQZM-QGKZ-YXWT-202310-W-1.RECINDEX_0.ATTEMPT_0.PCRETRY_1|P000 CON010 CON080 CON011 CON012 CON09A CON016 CON018 RECAG013|\n",
      "|pn-cons-000~PREPARE_ANALOG_DOMICILE.IUN_APDZ-XAXP-KGYT-202310-U-1.RECINDEX_0.ATTEMPT_0.PCRETRY_2|pn-cons-000~PREPARE_ANALOG_DOMICILE.IUN_APDZ-XAXP-KGYT-202310-U-1.RECINDEX_0.ATTEMPT_0.PCRETRY_1|P000 CON010 CON080 CON011 CON012 CON09A CON016 CON018 RECAG013|\n",
      "|pn-cons-000~PREPARE_ANALOG_DOMICILE.IUN_HYWT-GZWH-JKJW-202310-J-1.RECINDEX_0.ATTEMPT_0.PCRETRY_2|pn-cons-000~PREPARE_ANALOG_DOMICILE.IUN_HYWT-GZWH-JKJW-202310-J-1.RECINDEX_0.ATTEMPT_0.PCRETRY_1|P000 CON010 CON080 CON011 CON012 CON09A CON016 CON018 RECAG013|\n",
      "|pn-cons-000~PREPARE_ANALOG_DOMICILE.IUN_RZTK-UHWT-VTKW-202310-L-1.RECINDEX_0.ATTEMPT_0.PCRETRY_2|pn-cons-000~PREPARE_ANALOG_DOMICILE.IUN_RZTK-UHWT-VTKW-202310-L-1.RECINDEX_0.ATTEMPT_0.PCRETRY_1|P000 CON080 CON010 CON011 CON012 CON09A CON016 CON018 RECAG013|\n",
      "|pn-cons-000~PREPARE_ANALOG_DOMICILE.IUN_UMTJ-QTQU-DTUT-202310-P-1.RECINDEX_0.ATTEMPT_0.PCRETRY_2|pn-cons-000~PREPARE_ANALOG_DOMICILE.IUN_UMTJ-QTQU-DTUT-202310-P-1.RECINDEX_0.ATTEMPT_0.PCRETRY_1|P000 CON010 CON080 CON011 CON012 CON09A CON016 CON018 RECAG013|\n",
      "|pn-cons-000~PREPARE_ANALOG_DOMICILE.IUN_RJRA-HMKP-UQNK-202310-X-1.RECINDEX_0.ATTEMPT_0.PCRETRY_2|pn-cons-000~PREPARE_ANALOG_DOMICILE.IUN_RJRA-HMKP-UQNK-202310-X-1.RECINDEX_0.ATTEMPT_0.PCRETRY_1|P000 CON010 CON080 CON011 CON012 CON09A CON016 CON018 RECAG013|\n",
      "|pn-cons-000~PREPARE_ANALOG_DOMICILE.IUN_RQJN-JGQM-DXWT-202310-Q-1.RECINDEX_0.ATTEMPT_0.PCRETRY_2|pn-cons-000~PREPARE_ANALOG_DOMICILE.IUN_RQJN-JGQM-DXWT-202310-Q-1.RECINDEX_0.ATTEMPT_0.PCRETRY_1|P000 CON010 CON080 CON011 CON012 CON09A CON016 CON018 RECAG013|\n",
      "|pn-cons-000~PREPARE_ANALOG_DOMICILE.IUN_TMNZ-TAUP-XDRL-202310-G-1.RECINDEX_0.ATTEMPT_0.PCRETRY_2|pn-cons-000~PREPARE_ANALOG_DOMICILE.IUN_TMNZ-TAUP-XDRL-202310-G-1.RECINDEX_0.ATTEMPT_0.PCRETRY_1|P000 CON010 CON080 CON011 CON012 CON09A CON016 CON018 RECAG013|\n",
      "|pn-cons-000~PREPARE_ANALOG_DOMICILE.IUN_ZTLG-UWXY-HZYV-202310-G-1.RECINDEX_0.ATTEMPT_0.PCRETRY_2|pn-cons-000~PREPARE_ANALOG_DOMICILE.IUN_ZTLG-UWXY-HZYV-202310-G-1.RECINDEX_0.ATTEMPT_0.PCRETRY_1|P000 CON080 CON010 CON011 CON012 CON09A CON016 CON018 RECAG013|\n",
      "|pn-cons-000~PREPARE_ANALOG_DOMICILE.IUN_RVRX-JERH-EKMU-202310-N-1.RECINDEX_0.ATTEMPT_0.PCRETRY_2|pn-cons-000~PREPARE_ANALOG_DOMICILE.IUN_RVRX-JERH-EKMU-202310-N-1.RECINDEX_0.ATTEMPT_0.PCRETRY_1|P000 CON080 CON010 CON011 CON012 CON09A CON016 CON018 RECAG013|\n",
      "|pn-cons-000~PREPARE_ANALOG_DOMICILE.IUN_VZXQ-PZQP-HMWG-202309-Q-1.RECINDEX_0.ATTEMPT_0.PCRETRY_2|pn-cons-000~PREPARE_ANALOG_DOMICILE.IUN_VZXQ-PZQP-HMWG-202309-Q-1.RECINDEX_0.ATTEMPT_0.PCRETRY_1|P000 CON080 CON010 CON011 CON012 CON09A CON018 CON016 RECAG013|\n",
      "|pn-cons-000~PREPARE_ANALOG_DOMICILE.IUN_HYEX-EQPX-ZJWU-202309-G-1.RECINDEX_0.ATTEMPT_0.PCRETRY_2|pn-cons-000~PREPARE_ANALOG_DOMICILE.IUN_HYEX-EQPX-ZJWU-202309-G-1.RECINDEX_0.ATTEMPT_0.PCRETRY_1|P000 CON010 CON080 CON012 CON011 CON09A CON018 CON016 RECAG013|\n",
      "|pn-cons-000~PREPARE_ANALOG_DOMICILE.IUN_JPQY-GXPE-NEGR-202309-P-1.RECINDEX_0.ATTEMPT_0.PCRETRY_2|pn-cons-000~PREPARE_ANALOG_DOMICILE.IUN_JPQY-GXPE-NEGR-202309-P-1.RECINDEX_0.ATTEMPT_0.PCRETRY_1|P000 CON010 CON080 CON012 CON011 CON09A CON018 CON016 RECAG013|\n",
      "|pn-cons-000~PREPARE_ANALOG_DOMICILE.IUN_JYTU-MLTM-MDKR-202310-T-1.RECINDEX_0.ATTEMPT_0.PCRETRY_2|pn-cons-000~PREPARE_ANALOG_DOMICILE.IUN_JYTU-MLTM-MDKR-202310-T-1.RECINDEX_0.ATTEMPT_0.PCRETRY_1|P000 CON010 CON080 CON011 CON012 CON09A CON016 CON018 RECAG013|\n",
      "|pn-cons-000~PREPARE_ANALOG_DOMICILE.IUN_GTHX-LRGM-NWRW-202310-A-1.RECINDEX_0.ATTEMPT_0.PCRETRY_2|pn-cons-000~PREPARE_ANALOG_DOMICILE.IUN_GTHX-LRGM-NWRW-202310-A-1.RECINDEX_0.ATTEMPT_0.PCRETRY_1|P000 CON010 CON080 CON011 CON012 CON09A CON016 CON018 RECAG013|\n",
      "|pn-cons-000~PREPARE_ANALOG_DOMICILE.IUN_KTNR-PLAH-EUHQ-202310-R-1.RECINDEX_0.ATTEMPT_0.PCRETRY_2|pn-cons-000~PREPARE_ANALOG_DOMICILE.IUN_KTNR-PLAH-EUHQ-202310-R-1.RECINDEX_0.ATTEMPT_0.PCRETRY_1|P000 CON010 CON080 CON011 CON012 CON09A CON016 CON018 RECAG013|\n",
      "|pn-cons-000~PREPARE_ANALOG_DOMICILE.IUN_XAJQ-TAYQ-LUEN-202310-L-1.RECINDEX_0.ATTEMPT_0.PCRETRY_2|pn-cons-000~PREPARE_ANALOG_DOMICILE.IUN_XAJQ-TAYQ-LUEN-202310-L-1.RECINDEX_0.ATTEMPT_0.PCRETRY_1|P000 CON080 CON010 CON011 CON012 CON09A CON018 CON016 RECAG013|\n",
      "|pn-cons-000~PREPARE_ANALOG_DOMICILE.IUN_TVLV-WHRN-VTDR-202309-A-1.RECINDEX_0.ATTEMPT_0.PCRETRY_2|pn-cons-000~PREPARE_ANALOG_DOMICILE.IUN_TVLV-WHRN-VTDR-202309-A-1.RECINDEX_0.ATTEMPT_0.PCRETRY_1|P000 CON010 CON080 CON012 CON011 CON09A CON018 CON016 RECAG013|\n",
      "|pn-cons-000~PREPARE_ANALOG_DOMICILE.IUN_ZQJT-XLXT-DEJW-202307-R-1.RECINDEX_0.ATTEMPT_1.PCRETRY_1|pn-cons-000~PREPARE_ANALOG_DOMICILE.IUN_ZQJT-XLXT-DEJW-202307-R-1.RECINDEX_0.ATTEMPT_1.PCRETRY_0|P000 CON010 CON080 CON011 CON012 CON09A CON016 CON018 RECAG013|\n",
      "|pn-cons-000~PREPARE_ANALOG_DOMICILE.IUN_HZHW-NPKP-YEAX-202310-V-1.RECINDEX_0.ATTEMPT_0.PCRETRY_2|pn-cons-000~PREPARE_ANALOG_DOMICILE.IUN_HZHW-NPKP-YEAX-202310-V-1.RECINDEX_0.ATTEMPT_0.PCRETRY_1|P000 CON010 CON080 CON011 CON012 CON09A CON016 CON018 RECAG013|\n",
      "|pn-cons-000~PREPARE_ANALOG_DOMICILE.IUN_JHDQ-XAHY-XEWX-202310-R-1.RECINDEX_0.ATTEMPT_0.PCRETRY_2|pn-cons-000~PREPARE_ANALOG_DOMICILE.IUN_JHDQ-XAHY-XEWX-202310-R-1.RECINDEX_0.ATTEMPT_0.PCRETRY_1|P000 CON010 CON080 CON011 CON012 CON09A CON018 CON016 RECAG013|\n",
      "|pn-cons-000~PREPARE_ANALOG_DOMICILE.IUN_PXRH-YXVK-LATQ-202310-P-1.RECINDEX_0.ATTEMPT_0.PCRETRY_2|pn-cons-000~PREPARE_ANALOG_DOMICILE.IUN_PXRH-YXVK-LATQ-202310-P-1.RECINDEX_0.ATTEMPT_0.PCRETRY_1|P000 CON080 CON010 CON011 CON012 CON09A CON016 CON018 RECAG013|\n",
      "|pn-cons-000~PREPARE_ANALOG_DOMICILE.IUN_XMPQ-HAKD-QJDJ-202309-L-1.RECINDEX_0.ATTEMPT_0.PCRETRY_2|pn-cons-000~PREPARE_ANALOG_DOMICILE.IUN_XMPQ-HAKD-QJDJ-202309-L-1.RECINDEX_0.ATTEMPT_0.PCRETRY_1|P000 CON080 CON010 CON011 CON012 CON09A CON016 CON018 RECAG013|\n",
      "|pn-cons-000~PREPARE_ANALOG_DOMICILE.IUN_HVWP-UPDK-KHWY-202310-A-1.RECINDEX_0.ATTEMPT_0.PCRETRY_2|pn-cons-000~PREPARE_ANALOG_DOMICILE.IUN_HVWP-UPDK-KHWY-202310-A-1.RECINDEX_0.ATTEMPT_0.PCRETRY_1|P000 CON080 CON010 CON011 CON012 CON09A CON016 CON018 RECAG013|\n",
      "|pn-cons-000~PREPARE_ANALOG_DOMICILE.IUN_KZXV-HMQR-NYTY-202310-P-1.RECINDEX_0.ATTEMPT_0.PCRETRY_2|pn-cons-000~PREPARE_ANALOG_DOMICILE.IUN_KZXV-HMQR-NYTY-202310-P-1.RECINDEX_0.ATTEMPT_0.PCRETRY_1|P000 CON080 CON010 CON011 CON012 CON09A CON016 CON018 RECAG013|\n",
      "|pn-cons-000~PREPARE_ANALOG_DOMICILE.IUN_RVLY-HVNQ-QWTK-202309-J-1.RECINDEX_0.ATTEMPT_1.PCRETRY_1|pn-cons-000~PREPARE_ANALOG_DOMICILE.IUN_RVLY-HVNQ-QWTK-202309-J-1.RECINDEX_0.ATTEMPT_1.PCRETRY_0|P000 CON010 CON080 CON012 CON011 CON09A CON016 CON018 RECAG013|\n",
      "|pn-cons-000~PREPARE_ANALOG_DOMICILE.IUN_HDZQ-HAQU-RQPV-202310-R-1.RECINDEX_0.ATTEMPT_0.PCRETRY_2|pn-cons-000~PREPARE_ANALOG_DOMICILE.IUN_HDZQ-HAQU-RQPV-202310-R-1.RECINDEX_0.ATTEMPT_0.PCRETRY_1|P000 CON010 CON080 CON011 CON012 CON09A CON016 CON018 RECAG013|\n",
      "|pn-cons-000~PREPARE_ANALOG_DOMICILE.IUN_ZTKL-JWEU-MNWM-202310-G-1.RECINDEX_0.ATTEMPT_0.PCRETRY_2|pn-cons-000~PREPARE_ANALOG_DOMICILE.IUN_ZTKL-JWEU-MNWM-202310-G-1.RECINDEX_0.ATTEMPT_0.PCRETRY_1|P000 CON010 CON080 CON011 CON012 CON09A CON016 CON018 RECAG013|\n",
      "|pn-cons-000~PREPARE_ANALOG_DOMICILE.IUN_XMVD-HUJK-GRLQ-202310-G-1.RECINDEX_0.ATTEMPT_0.PCRETRY_2|pn-cons-000~PREPARE_ANALOG_DOMICILE.IUN_XMVD-HUJK-GRLQ-202310-G-1.RECINDEX_0.ATTEMPT_0.PCRETRY_1|P000 CON010 CON080 CON011 CON012 CON09A CON016 CON018 RECAG013|\n",
      "|pn-cons-000~PREPARE_ANALOG_DOMICILE.IUN_JKGL-YWEY-XMZE-202310-D-1.RECINDEX_0.ATTEMPT_0.PCRETRY_2|pn-cons-000~PREPARE_ANALOG_DOMICILE.IUN_JKGL-YWEY-XMZE-202310-D-1.RECINDEX_0.ATTEMPT_0.PCRETRY_1|P000 CON010 CON080 CON011 CON012 CON09A CON016 CON018 RECAG013|\n",
      "|pn-cons-000~PREPARE_ANALOG_DOMICILE.IUN_LAHR-RAVH-GVMX-202310-X-1.RECINDEX_0.ATTEMPT_0.PCRETRY_2|pn-cons-000~PREPARE_ANALOG_DOMICILE.IUN_LAHR-RAVH-GVMX-202310-X-1.RECINDEX_0.ATTEMPT_0.PCRETRY_1|P000 CON010 CON080 CON011 CON012 CON09A CON016 CON018 RECAG013|\n",
      "|pn-cons-000~PREPARE_ANALOG_DOMICILE.IUN_GDAG-YAHA-AZND-202310-Y-1.RECINDEX_0.ATTEMPT_0.PCRETRY_2|pn-cons-000~PREPARE_ANALOG_DOMICILE.IUN_GDAG-YAHA-AZND-202310-Y-1.RECINDEX_0.ATTEMPT_0.PCRETRY_1|P000 CON080 CON010 CON011 CON012 CON09A CON016 CON018 RECAG013|\n",
      "|pn-cons-000~PREPARE_ANALOG_DOMICILE.IUN_KLKW-XYQW-WXLE-202309-L-1.RECINDEX_0.ATTEMPT_0.PCRETRY_2|pn-cons-000~PREPARE_ANALOG_DOMICILE.IUN_KLKW-XYQW-WXLE-202309-L-1.RECINDEX_0.ATTEMPT_0.PCRETRY_1|P000 CON080 CON010 CON011 CON012 CON09A CON018 CON016 RECAG013|\n",
      "|pn-cons-000~PREPARE_ANALOG_DOMICILE.IUN_GHKA-JPVJ-QAUN-202309-P-1.RECINDEX_0.ATTEMPT_0.PCRETRY_2|pn-cons-000~PREPARE_ANALOG_DOMICILE.IUN_GHKA-JPVJ-QAUN-202309-P-1.RECINDEX_0.ATTEMPT_0.PCRETRY_1|P000 CON080 CON010 CON012 CON011 CON09A CON018 CON016 RECAG013|\n",
      "|pn-cons-000~PREPARE_ANALOG_DOMICILE.IUN_LRDZ-JQTA-WNUH-202310-Q-1.RECINDEX_0.ATTEMPT_0.PCRETRY_2|pn-cons-000~PREPARE_ANALOG_DOMICILE.IUN_LRDZ-JQTA-WNUH-202310-Q-1.RECINDEX_0.ATTEMPT_0.PCRETRY_1|P000 CON010 CON080 CON011 CON012 CON09A CON016 CON018 RECAG013|\n",
      "+------------------------------------------------------------------------------------------------+------------------------------------------------------------------------------------------------+--------------------------------------------------------------+\n"
     ]
    },
    {
     "name": "stderr",
     "output_type": "stream",
     "text": [
      "                                                                                \r"
     ]
    }
   ],
   "source": [
    "recag013_bloccati2_df: DataFrame = all_paper_metadata_df \\\n",
    "    .join(broadcast(decremented_pc_retry_df), on=all_paper_metadata_df.requestId == decremented_pc_retry_df.requestIdWithDecrementedPcRetryNumber) \\\n",
    "    .select('originalRequestId', 'requestIdWithDecrementedPcRetryNumber', 'statusesString')\n",
    "\n",
    "recag013_bloccati2_df.show(n=50, truncate=False)"
   ],
   "metadata": {
    "collapsed": false,
    "ExecuteTime": {
     "end_time": "2024-02-20T15:52:05.019574Z",
     "start_time": "2024-02-20T15:50:26.835641Z"
    }
   },
   "id": "449c1cef9cb01092",
   "execution_count": 9
  },
  {
   "cell_type": "code",
   "outputs": [
    {
     "name": "stderr",
     "output_type": "stream",
     "text": [
      "                                                                                \r"
     ]
    }
   ],
   "source": [
    "from utils.custom_data_frame_writer import CustomDataFrameWriter\n",
    "\n",
    "# Write out dataframe\n",
    "CustomDataFrameWriter.write(\n",
    "    df=recag013_bloccati2_df.repartition(1),\n",
    "    output_name=SPARK_APP_NAME,\n",
    "    output_folder=output_config_dict.get('path'),\n",
    "    output_format=output_config_dict.get('format')\n",
    ")"
   ],
   "metadata": {
    "collapsed": false,
    "ExecuteTime": {
     "end_time": "2024-02-20T16:01:31.242291Z",
     "start_time": "2024-02-20T15:59:52.801253Z"
    }
   },
   "id": "6a4942b5dff565fc",
   "execution_count": 10
  }
 ],
 "metadata": {
  "kernelspec": {
   "display_name": "Python 3",
   "language": "python",
   "name": "python3"
  },
  "language_info": {
   "codemirror_mode": {
    "name": "ipython",
    "version": 2
   },
   "file_extension": ".py",
   "mimetype": "text/x-python",
   "name": "python",
   "nbconvert_exporter": "python",
   "pygments_lexer": "ipython2",
   "version": "2.7.6"
  }
 },
 "nbformat": 4,
 "nbformat_minor": 5
}
