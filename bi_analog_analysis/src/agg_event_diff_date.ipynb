{
 "cells": [
  {
   "cell_type": "code",
   "execution_count": 1,
   "id": "initial_id",
   "metadata": {
    "collapsed": true,
    "ExecuteTime": {
     "end_time": "2024-02-22T18:25:17.077831Z",
     "start_time": "2024-02-22T18:25:17.069093Z"
    }
   },
   "outputs": [],
   "source": [
    "# Import app configuration\n",
    "from typing import Dict\n",
    "from config import APP_CONFIG\n",
    "\n",
    "spark_config_dict: Dict[str, str] = APP_CONFIG.get('spark', dict())\n",
    "input_config_dict: Dict[str, str] = APP_CONFIG.get('input', dict())\n",
    "output_config_dict: Dict[str, str] = APP_CONFIG.get('output', dict())\n",
    "\n",
    "SPARK_APP_NAME = spark_config_dict.get('name', 'spark-app')"
   ]
  },
  {
   "cell_type": "code",
   "outputs": [
    {
     "name": "stderr",
     "output_type": "stream",
     "text": [
      "Setting default log level to \"WARN\".\n",
      "To adjust logging level use sc.setLogLevel(newLevel). For SparkR, use setLogLevel(newLevel).\n",
      "24/02/22 19:25:18 WARN NativeCodeLoader: Unable to load native-hadoop library for your platform... using builtin-java classes where applicable\n"
     ]
    }
   ],
   "source": [
    "import os\n",
    "\n",
    "from pyspark import SparkConf\n",
    "from pyspark.sql import SparkSession\n",
    "from pyspark.sql.functions import *\n",
    "from pyspark.sql.dataframe import DataFrame\n",
    "\n",
    "os.environ['SPARK_MEM'] = spark_config_dict.get('memory', '24g')\n",
    "\n",
    "spark_conf = SparkConf()\n",
    "spark_conf.set('spark.driver.memory', spark_config_dict.get('driver.memory', '4g'))\n",
    "spark_conf.set('spark.executor.memory', spark_config_dict.get('executor.memory', '5g'))\n",
    "spark_conf.set('spark.executor.cores', spark_config_dict.get('executor.cores', '3'))\n",
    "spark_conf.set('spark.executor.instances', spark_config_dict.get('executor.instances', '4'))\n",
    "spark_conf.set('spark.dynamicAllocation.enabled', spark_config_dict.get('dynamicAllocation.enabled', 'false'))\n",
    "\n",
    "# Configure and start new Spark Session\n",
    "spark_session = (SparkSession.builder\n",
    "                .appName(name=SPARK_APP_NAME)\n",
    "                .master(master=spark_config_dict.get('master', 'local'))\n",
    "                .config(conf=spark_conf)\n",
    "                .getOrCreate())\n",
    "\n",
    "spark_session.sparkContext.setLogLevel(spark_config_dict.get('logLevel', 'WARN'))"
   ],
   "metadata": {
    "collapsed": false,
    "ExecuteTime": {
     "end_time": "2024-02-22T18:25:18.978443Z",
     "start_time": "2024-02-22T18:25:17.081346Z"
    }
   },
   "id": "7ad53b994465e683",
   "execution_count": 2
  },
  {
   "cell_type": "code",
   "outputs": [],
   "source": [
    "ec_metadata_df: DataFrame = spark_session.read.parquet(input_config_dict.get('path.metadataRequest'), header=True) \\\n",
    "    .select(regexp_extract('requestId', '.*IUN_(.*)\\\\.RECINDEX.*', 1).alias('iun'), 'event_list')\n",
    "notifications_df: DataFrame = spark_session.read.parquet(input_config_dict.get('path.notifications'), header=True) \\\n",
    "    .select('iun', 'senderDenomination', 'senderPaId')"
   ],
   "metadata": {
    "collapsed": false,
    "ExecuteTime": {
     "end_time": "2024-02-22T18:25:20.434329Z",
     "start_time": "2024-02-22T18:25:18.977296Z"
    }
   },
   "id": "21a00a396bc146d0",
   "execution_count": 3
  },
  {
   "cell_type": "code",
   "outputs": [],
   "source": [
    "ec_metadata_df_with_sender_denomination_df: DataFrame = ec_metadata_df.join(notifications_df, on='iun', how='left')"
   ],
   "metadata": {
    "collapsed": false,
    "ExecuteTime": {
     "end_time": "2024-02-22T18:25:20.452471Z",
     "start_time": "2024-02-22T18:25:20.435506Z"
    }
   },
   "id": "790c43ba41a4d737",
   "execution_count": 4
  },
  {
   "cell_type": "code",
   "outputs": [],
   "source": [
    "filtered_event_list_column: Column = filter(\n",
    "    ec_metadata_df_with_sender_denomination_df.event_list,\n",
    "    lambda event: rlike(event.paperProg_statusCode, lit(\"(?!REC090)(CON*|REC*)\"))\n",
    ")\n",
    "\n",
    "filtered_event_df: DataFrame = ec_metadata_df_with_sender_denomination_df \\\n",
    "    .select(transform(filtered_event_list_column, lambda event:\n",
    "        struct(\n",
    "            abs(datediff(event.paperProg_statusDateTime, event.paperProg_clientRequestTimeStamp)).alias('dayDiff'),\n",
    "            when(isnotnull(event.paperProg_status), event.paperProg_status).otherwise(event.paperProg_statusDescription).alias('status'),\n",
    "            when(isnotnull(event.paperProg_statusDescription), event.paperProg_statusDescription).otherwise(event.paperProg_status).alias('statusDescription'),\n",
    "            lit(event.paperProg_statusDateTime).alias('statusDateTime'),\n",
    "            lit(event.paperProg_clientRequestTimeStamp).alias('clientRequestTimeStamp'),\n",
    "            ec_metadata_df_with_sender_denomination_df.iun,\n",
    "            ec_metadata_df_with_sender_denomination_df.senderDenomination,\n",
    "            ec_metadata_df_with_sender_denomination_df.senderPaId\n",
    "        )).alias('dayDiffStatus'))\n",
    "\n",
    "# filtered_event_df.show(truncate=False)"
   ],
   "metadata": {
    "collapsed": false,
    "ExecuteTime": {
     "end_time": "2024-02-22T18:25:20.511321Z",
     "start_time": "2024-02-22T18:25:20.454403Z"
    }
   },
   "id": "4e56f0e1d0abd295",
   "execution_count": 5
  },
  {
   "cell_type": "code",
   "outputs": [],
   "source": [
    "event_select_unwrapped_df: DataFrame = filtered_event_df.select('*', inline('dayDiffStatus')).drop('dayDiffStatus')\n",
    "# event_select_unwrapped_df.show(truncate=False)"
   ],
   "metadata": {
    "collapsed": false,
    "ExecuteTime": {
     "end_time": "2024-02-22T18:25:20.529894Z",
     "start_time": "2024-02-22T18:25:20.511579Z"
    }
   },
   "id": "e4282c9ef16f45e5",
   "execution_count": 6
  },
  {
   "cell_type": "code",
   "outputs": [],
   "source": [
    "# request_with_high_date_diff_df: DataFrame = event_select_unwrapped_df \\\n",
    "#     .filter(event_select_unwrapped_df.dayDiff >= 360) \\\n",
    "#     .sort(desc(event_select_unwrapped_df.dayDiff))\n",
    "# request_with_high_date_diff_df.show(truncate=False)"
   ],
   "metadata": {
    "collapsed": false,
    "ExecuteTime": {
     "end_time": "2024-02-22T18:25:20.532469Z",
     "start_time": "2024-02-22T18:25:20.529909Z"
    }
   },
   "id": "67e8a594f45b355c",
   "execution_count": 7
  },
  {
   "cell_type": "code",
   "outputs": [],
   "source": [
    "# from utils.custom_data_frame_writer import CustomDataFrameWriter\n",
    "# \n",
    "# # Write out dataframe\n",
    "# CustomDataFrameWriter.write(\n",
    "#     df=request_with_high_date_diff_df.repartition(1),\n",
    "#     output_name=SPARK_APP_NAME,\n",
    "#     output_folder=output_config_dict.get('path'),\n",
    "#     output_format=output_config_dict.get('format')\n",
    "# )"
   ],
   "metadata": {
    "collapsed": false,
    "ExecuteTime": {
     "end_time": "2024-02-22T18:25:20.534240Z",
     "start_time": "2024-02-22T18:25:20.532276Z"
    }
   },
   "id": "72074c21a768e500",
   "execution_count": 8
  },
  {
   "cell_type": "code",
   "outputs": [],
   "source": [
    "event_grouped_by_daydiff_and_status_df: DataFrame = event_select_unwrapped_df \\\n",
    "    .groupBy(event_select_unwrapped_df.dayDiff, event_select_unwrapped_df.status, event_select_unwrapped_df.statusDescription, event_select_unwrapped_df.senderDenomination, event_select_unwrapped_df.senderPaId) \\\n",
    "    .agg(count('*').alias('count')) \\\n",
    "    .sort('dayDiff')\n",
    "\n",
    "#collect_set(event_select_unwrapped_df.request))\n",
    "\n",
    "event_grouped_by_daydiff_and_status_df = event_grouped_by_daydiff_and_status_df.filter(event_grouped_by_daydiff_and_status_df.dayDiff.isNotNull())\n",
    "\n",
    "# event_grouped_by_daydiff_and_status_df.show(truncate=False)"
   ],
   "metadata": {
    "collapsed": false,
    "ExecuteTime": {
     "end_time": "2024-02-22T18:25:20.563562Z",
     "start_time": "2024-02-22T18:25:20.534590Z"
    }
   },
   "id": "f2f316af387b905b",
   "execution_count": 9
  },
  {
   "cell_type": "code",
   "outputs": [
    {
     "name": "stderr",
     "output_type": "stream",
     "text": [
      "                                                                                \r"
     ]
    }
   ],
   "source": [
    "from utils.custom_data_frame_writer import CustomDataFrameWriter\n",
    "\n",
    "# Write out dataframe\n",
    "CustomDataFrameWriter.write(\n",
    "    df=event_grouped_by_daydiff_and_status_df.repartition(1),\n",
    "    output_name=SPARK_APP_NAME,\n",
    "    output_folder=output_config_dict.get('path'),\n",
    "    output_format=output_config_dict.get('format')\n",
    ")"
   ],
   "metadata": {
    "collapsed": false,
    "ExecuteTime": {
     "end_time": "2024-02-22T18:28:05.282124Z",
     "start_time": "2024-02-22T18:25:20.558807Z"
    }
   },
   "id": "72467757dbb76836",
   "execution_count": 10
  }
 ],
 "metadata": {
  "kernelspec": {
   "display_name": "Python 3",
   "language": "python",
   "name": "python3"
  },
  "language_info": {
   "codemirror_mode": {
    "name": "ipython",
    "version": 2
   },
   "file_extension": ".py",
   "mimetype": "text/x-python",
   "name": "python",
   "nbconvert_exporter": "python",
   "pygments_lexer": "ipython2",
   "version": "2.7.6"
  }
 },
 "nbformat": 4,
 "nbformat_minor": 5
}
