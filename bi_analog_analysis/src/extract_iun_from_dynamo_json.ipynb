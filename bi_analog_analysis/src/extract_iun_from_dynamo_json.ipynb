{
 "cells": [
  {
   "cell_type": "code",
   "execution_count": null,
   "id": "initial_id",
   "metadata": {
    "collapsed": true
   },
   "outputs": [],
   "source": [
    "# Import app configuration\n",
    "from typing import Dict\n",
    "from config import APP_CONFIG\n",
    "\n",
    "spark_config_dict: Dict[str, str] = APP_CONFIG.get('spark', dict())\n",
    "input_config_dict: Dict[str, str] = APP_CONFIG.get('input', dict())\n",
    "output_config_dict: Dict[str, str] = APP_CONFIG.get('output', dict())\n",
    "\n",
    "SPARK_APP_NAME = spark_config_dict.get('name', 'spark-app')"
   ]
  },
  {
   "cell_type": "code",
   "outputs": [],
   "source": [
    "import os\n",
    "\n",
    "from pyspark import SparkConf\n",
    "from pyspark.sql import SparkSession\n",
    "from pyspark.sql.functions import *\n",
    "from pyspark.sql.dataframe import DataFrame\n",
    "\n",
    "os.environ['SPARK_MEM'] = spark_config_dict.get('memory', '24g')\n",
    "\n",
    "spark_conf = SparkConf()\n",
    "spark_conf.set('spark.driver.memory', spark_config_dict.get('driver.memory', '4g'))\n",
    "spark_conf.set('spark.executor.memory', spark_config_dict.get('executor.memory', '5g'))\n",
    "spark_conf.set('spark.executor.cores', spark_config_dict.get('executor.cores', '3'))\n",
    "spark_conf.set('spark.executor.instances', spark_config_dict.get('executor.instances', '4'))\n",
    "spark_conf.set('spark.dynamicAllocation.enabled', spark_config_dict.get('dynamicAllocation.enabled', 'false'))\n",
    "\n",
    "# Configure and start new Spark Session\n",
    "spark_session = (SparkSession.builder\n",
    "                .appName(name=SPARK_APP_NAME)\n",
    "                .master(master=spark_config_dict.get('master', 'local'))\n",
    "                .config(conf=spark_conf)\n",
    "                .getOrCreate())\n",
    "\n",
    "spark_session.sparkContext.setLogLevel(spark_config_dict.get('logLevel', 'WARN'))"
   ],
   "metadata": {
    "collapsed": false
   },
   "id": "51b06ff91f8c9615",
   "execution_count": null
  },
  {
   "cell_type": "code",
   "outputs": [],
   "source": [
    "notifications_df: DataFrame = spark_session.read.parquet(input_config_dict.get('path.notifications'), header=True) \\\n",
    "    .filter(col('senderPaId') == '051c98e9-40ce-43a6-aa6e-2123889e1532') \\\n",
    "    .select('iun', 'senderDenomination', 'senderPaId', 'sentAt')\n",
    "\n",
    "request_df: DataFrame = spark_session.read.json('/Users/lap-mbp16-n01-0346/Documents/Sviluppo/Data Analysis/requests/con996-20240307.json') \\\n",
    "    .select(col('requestId').S.alias('requestId')).dropna()"
   ],
   "metadata": {
    "collapsed": false
   },
   "id": "3980d4ff75e7991",
   "execution_count": null
  },
  {
   "cell_type": "code",
   "outputs": [],
   "source": [
    "request_df.filter(request_df.requestId == 'PREPARE_ANALOG_DOMICILE.IUN_HQUK-LTVJ-QREA-202403-G-1.RECINDEX_0.ATTEMPT_0').show(truncate=False)"
   ],
   "metadata": {
    "collapsed": false
   },
   "id": "ad99bc58f4166092",
   "execution_count": null
  },
  {
   "cell_type": "code",
   "outputs": [],
   "source": [
    "# notifications_2024_marche.csv\n",
    "notifications_2024_marche_df: DataFrame = spark_session.read.csv('/Users/lap-mbp16-n01-0346/Documents/Sviluppo/Data Analysis/requests/notifications_2024_marche.csv', header=True) \\\n",
    "    .select('iun', col('senderdenomination').alias('senderDenomination'), col('senderpaid').alias('senderPaId'), col('sentat').alias('sentAt'))"
   ],
   "metadata": {
    "collapsed": false
   },
   "id": "fb68ab037528d2a4",
   "execution_count": null
  },
  {
   "cell_type": "code",
   "outputs": [],
   "source": [
    "notifications_complete_df: DataFrame = notifications_df.union(notifications_2024_marche_df)\n",
    "notifications_complete_df = notifications_complete_df.dropDuplicates(['iun'])"
   ],
   "metadata": {
    "collapsed": false
   },
   "id": "b18caaf6fedac2e2",
   "execution_count": null
  },
  {
   "cell_type": "code",
   "outputs": [],
   "source": [
    "request_with_iun_df: DataFrame = request_df.select(request_df.requestId, regexp_extract(request_df.requestId, \".*IUN_(.*)\\\\.RECINDEX.*\", 1).alias('iun'))"
   ],
   "metadata": {
    "collapsed": false
   },
   "id": "a15d6444128e1adf",
   "execution_count": null
  },
  {
   "cell_type": "code",
   "outputs": [],
   "source": [
    "request_with_iun_df \\\n",
    "    .join(notifications_complete_df, on='iun') \\\n",
    "    .select('*', month(notifications_complete_df.sentAt).alias('month'), year(notifications_complete_df.sentAt).alias('year')) \\\n",
    "    .filter(col('month') == 3) \\\n",
    "    .count()\n",
    "    # .groupBy(month(notifications_complete_df.sentAt).alias('month'), year(notifications_complete_df.sentAt).alias('year'), notifications_complete_df.senderPaId, notifications_complete_df.senderDenomination) \\\n",
    "    # .agg(\n",
    "    #     count('*').alias('count')\n",
    "    # )"
   ],
   "metadata": {
    "collapsed": false
   },
   "id": "70cc2fdfdf4775d1",
   "execution_count": null
  },
  {
   "cell_type": "code",
   "outputs": [],
   "source": [
    "regine_marche_from_impala_df: DataFrame = spark_session.read.csv('/Users/lap-mbp16-n01-0346/Documents/Sviluppo/Data Analysis/requests/con996_marche_impala.csv', header=True).select('iun')"
   ],
   "metadata": {
    "collapsed": false
   },
   "id": "9d54d7d2506cfd07",
   "execution_count": null
  },
  {
   "cell_type": "code",
   "outputs": [],
   "source": [
    "regine_marche_from_impala_df.show(truncate=False)"
   ],
   "metadata": {
    "collapsed": false
   },
   "id": "9b5703387dc279f2",
   "execution_count": null
  },
  {
   "cell_type": "code",
   "outputs": [],
   "source": [
    "regine_marche_from_impala_df = regine_marche_from_impala_df.alias('a').join(request_with_iun_df.alias('b'), on='iun', how='left').filter(col('b.requestId').isNull())"
   ],
   "metadata": {
    "collapsed": false
   },
   "id": "5fa0d0d2925773b1",
   "execution_count": null
  },
  {
   "cell_type": "code",
   "outputs": [],
   "source": [
    "regine_marche_from_impala_df.show(truncate=False)"
   ],
   "metadata": {
    "collapsed": false
   },
   "id": "41ad4240ff5d3b2f",
   "execution_count": null
  },
  {
   "cell_type": "code",
   "outputs": [],
   "source": [
    "from utils.custom_data_frame_writer import CustomDataFrameWriter\n",
    "\n",
    "# Write out dataframe\n",
    "CustomDataFrameWriter.write(\n",
    "    df=request_with_sender_df.repartition(1),\n",
    "    output_name=SPARK_APP_NAME,\n",
    "    output_folder=output_config_dict.get('path'),\n",
    "    output_format=output_config_dict.get('format'),\n",
    "    partition_by='month'\n",
    ")"
   ],
   "metadata": {
    "collapsed": false
   },
   "id": "88413fcb797e453a",
   "execution_count": null
  }
 ],
 "metadata": {
  "kernelspec": {
   "display_name": "Python 3",
   "language": "python",
   "name": "python3"
  },
  "language_info": {
   "codemirror_mode": {
    "name": "ipython",
    "version": 2
   },
   "file_extension": ".py",
   "mimetype": "text/x-python",
   "name": "python",
   "nbconvert_exporter": "python",
   "pygments_lexer": "ipython2",
   "version": "2.7.6"
  }
 },
 "nbformat": 4,
 "nbformat_minor": 5
}
