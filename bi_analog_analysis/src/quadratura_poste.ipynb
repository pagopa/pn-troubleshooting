{
 "cells": [
  {
   "cell_type": "code",
   "execution_count": 1,
   "id": "initial_id",
   "metadata": {
    "collapsed": true,
    "ExecuteTime": {
     "end_time": "2024-03-01T17:03:33.471751Z",
     "start_time": "2024-03-01T17:03:33.458307Z"
    }
   },
   "outputs": [],
   "source": [
    "# Import app configuration\n",
    "from typing import Dict\n",
    "from config import APP_CONFIG\n",
    "\n",
    "spark_config_dict: Dict[str, str] = APP_CONFIG.get('spark', dict())\n",
    "input_config_dict: Dict[str, str] = APP_CONFIG.get('input', dict())\n",
    "output_config_dict: Dict[str, str] = APP_CONFIG.get('output', dict())\n",
    "\n",
    "SPARK_APP_NAME = spark_config_dict.get('name', 'spark-app')"
   ]
  },
  {
   "cell_type": "code",
   "outputs": [
    {
     "name": "stderr",
     "output_type": "stream",
     "text": [
      "Setting default log level to \"WARN\".\n",
      "To adjust logging level use sc.setLogLevel(newLevel). For SparkR, use setLogLevel(newLevel).\n",
      "24/03/01 18:03:34 WARN NativeCodeLoader: Unable to load native-hadoop library for your platform... using builtin-java classes where applicable\n"
     ]
    }
   ],
   "source": [
    "import os\n",
    "\n",
    "from pyspark import SparkConf\n",
    "from pyspark.sql import SparkSession\n",
    "from pyspark.sql.functions import *\n",
    "from pyspark.sql.dataframe import DataFrame\n",
    "\n",
    "os.environ['SPARK_MEM'] = spark_config_dict.get('memory', '24g')\n",
    "\n",
    "spark_conf = SparkConf()\n",
    "spark_conf.set('spark.driver.memory', spark_config_dict.get('driver.memory', '4g'))\n",
    "spark_conf.set('spark.executor.memory', spark_config_dict.get('executor.memory', '5g'))\n",
    "spark_conf.set('spark.executor.cores', spark_config_dict.get('executor.cores', '3'))\n",
    "spark_conf.set('spark.executor.instances', spark_config_dict.get('executor.instances', '4'))\n",
    "spark_conf.set('spark.dynamicAllocation.enabled', spark_config_dict.get('dynamicAllocation.enabled', 'false'))\n",
    "\n",
    "# Configure and start new Spark Session\n",
    "spark_session = (SparkSession.builder\n",
    "                .appName(name=SPARK_APP_NAME)\n",
    "                .master(master=spark_config_dict.get('master', 'local'))\n",
    "                .config(conf=spark_conf)\n",
    "                .getOrCreate())\n",
    "\n",
    "spark_session.sparkContext.setLogLevel(spark_config_dict.get('logLevel', 'WARN'))"
   ],
   "metadata": {
    "collapsed": false,
    "ExecuteTime": {
     "end_time": "2024-03-01T17:03:35.304170Z",
     "start_time": "2024-03-01T17:03:33.472212Z"
    }
   },
   "id": "8ff297b091ef9070",
   "execution_count": 2
  },
  {
   "cell_type": "code",
   "outputs": [],
   "source": [
    "# Read input dataframes\n",
    "ec_metadata_df: DataFrame = spark_session.read.parquet(input_config_dict.get('path.metadataRequest'), header=True)\n",
    "input_to_analyze_df: DataFrame = spark_session.read.csv(input_config_dict.get('path.analyzeFile'), header=True)\n",
    "sequence_category_mapping_df: DataFrame = spark_session.read.csv('resources/sequence_category_mapping.csv', header=True)"
   ],
   "metadata": {
    "collapsed": false,
    "ExecuteTime": {
     "end_time": "2024-03-01T17:03:37.609844Z",
     "start_time": "2024-03-01T17:03:35.305181Z"
    }
   },
   "id": "9d75bdc701f28904",
   "execution_count": 3
  },
  {
   "cell_type": "code",
   "outputs": [
    {
     "name": "stdout",
     "output_type": "stream",
     "text": [
      "+------------------+----+\n",
      "|codiceraccomandata|iun |\n",
      "+------------------+----+\n",
      "|3.81527e+11       |NULL|\n",
      "|3.81532e+11       |NULL|\n",
      "|381500000296      |NULL|\n",
      "|381500000321      |NULL|\n",
      "|381500000376      |NULL|\n",
      "|381500000560      |NULL|\n",
      "|381500000867      |NULL|\n",
      "|381500000889      |NULL|\n",
      "|381500000935      |NULL|\n",
      "|381500003495      |NULL|\n",
      "|381500003701      |NULL|\n",
      "|381500010562      |NULL|\n",
      "|381500011244      |NULL|\n",
      "|381500011346      |NULL|\n",
      "|381500011916      |NULL|\n",
      "|381500012406      |NULL|\n",
      "|381500013246      |NULL|\n",
      "|381500013623      |NULL|\n",
      "|381500014112      |NULL|\n",
      "|381500020496      |NULL|\n",
      "+------------------+----+\n"
     ]
    }
   ],
   "source": [
    "input_to_analyze_df = input_to_analyze_df.filter(input_to_analyze_df.iun.isNull()).sort(input_to_analyze_df.codiceraccomandata).withColumn('codiceraccomandata', input_to_analyze_df.codiceraccomandata.cast('string'))\n",
    "input_to_analyze_df.show(truncate=False)"
   ],
   "metadata": {
    "collapsed": false,
    "ExecuteTime": {
     "end_time": "2024-03-01T17:03:38.132847Z",
     "start_time": "2024-03-01T17:03:37.610405Z"
    }
   },
   "id": "3d57895ff689420b",
   "execution_count": 4
  },
  {
   "cell_type": "code",
   "outputs": [],
   "source": [
    "# Deduplicate requests\n",
    "deduplicates_df: DataFrame = ec_metadata_df \\\n",
    "    .withColumn('version', ec_metadata_df.version.cast('integer')) \\\n",
    "    .filter(ec_metadata_df.paperMeta_productType.isNotNull()) \\\n",
    "    .groupby(ec_metadata_df.requestId) \\\n",
    "    .agg(max('version').alias('version')) \\\n",
    "    .sort(desc('version'))\n",
    "\n",
    "deduplicates_df = deduplicates_df.withColumnRenamed('requestId', 'maxRequestId')\n",
    "deduplicates_df = deduplicates_df.withColumnRenamed('version', 'maxVersion')"
   ],
   "metadata": {
    "collapsed": false,
    "ExecuteTime": {
     "end_time": "2024-03-01T17:03:38.187168Z",
     "start_time": "2024-03-01T17:03:38.133435Z"
    }
   },
   "id": "4179cbcaf1a2c826",
   "execution_count": 5
  },
  {
   "cell_type": "code",
   "outputs": [],
   "source": [
    "# Postalizzazione basic - TODO: enhance selection pipeline\n",
    "\n",
    "deduplicates_join_condition = [\n",
    "    ec_metadata_df.requestId == deduplicates_df.maxRequestId,\n",
    "    ec_metadata_df.version == deduplicates_df.maxVersion\n",
    "]\n",
    "\n",
    "all_paper_metadata_df: DataFrame = ec_metadata_df \\\n",
    "    .join(other=deduplicates_df, on=deduplicates_join_condition) \\\n",
    "    .selectExpr(\n",
    "        'if (length(requestTimestamp) = 17, concat(substr(requestTimestamp, 0, 16), \":00Z\"), requestTimestamp) as requestTimestamp',\n",
    "        'paperMeta_productType',\n",
    "        'array_join(transform(event_list, e -> e.paperProg_statusCode), \" \") as statusesString',\n",
    "        'array_join(transform(filter(event_list, e -> e.paperProg_statusCode rlike \"CON080|CON016|(CON9.*)|(RECRN.*)|(RECAG.*)|(RECRS.*)|(P.*)|(RECRSI.*)|(RECRI.*)\"),e -> e.paperProg_statusCode), \" \") as businessStatusesString',\n",
    "        'array_join(array_distinct(transform(event_list,e -> e.paperProg_deliveryFailureCause)), \" \") as deliveryFailureCause',\n",
    "        'array_join(array_distinct(flatten(transform(filter(event_list, e -> e.paperProg_statusCode rlike \"(REC.*B)|(REC.*E)\").paperProg_attachments,e -> e.documentType))), \" \") as attachments',\n",
    "        'array_join(array_distinct(transform(filter(event_list, e -> e.paperProg_statusCode rlike \"REC.*\" AND NOT e.paperProg_statusCode in (\"RECAG012\",\"REC090\")),e -> e.paperProg_registeredLetterCode)), \" \") as registeredLetterCode',\n",
    "        'requestId',\n",
    "        'regexp_extract(requestId, \".*IUN_(.*)\\\\.RECINDEX.*\", 1) as paperIun',\n",
    "        'regexp_extract(requestId, \"pn-cons-000~(.*)\\\\.PCRETRY_.\", 1) as paperRequestId',\n",
    "        'version as paperVersion'\n",
    "    )\n",
    "\n",
    "# Replace empty string coming from array_join() with empty arrays\n",
    "all_paper_metadata_df = all_paper_metadata_df.na.replace('', None)"
   ],
   "metadata": {
    "collapsed": false,
    "ExecuteTime": {
     "end_time": "2024-03-01T17:03:38.320976Z",
     "start_time": "2024-03-01T17:03:38.187917Z"
    }
   },
   "id": "911e27d1708266d2",
   "execution_count": 6
  },
  {
   "cell_type": "code",
   "outputs": [],
   "source": [
    "iun_from_letter_code_df: DataFrame = input_to_analyze_df.join(all_paper_metadata_df, on=input_to_analyze_df.codiceraccomandata == all_paper_metadata_df.registeredLetterCode, how='left')\n",
    "\n",
    "# iun_from_letter_code_df.show(n=500, truncate=False)"
   ],
   "metadata": {
    "collapsed": false,
    "ExecuteTime": {
     "end_time": "2024-03-01T17:03:38.330988Z",
     "start_time": "2024-03-01T17:03:38.321675Z"
    }
   },
   "id": "f9d603b82c152b41",
   "execution_count": 7
  },
  {
   "cell_type": "code",
   "outputs": [],
   "source": [
    "# Sequence column contains the status history with all REC like statuses when contain any of it, otherwise the entire history\n",
    "sequence: Column = regexp_replace(\n",
    "    trim(\n",
    "        when(\n",
    "            iun_from_letter_code_df.businessStatusesString.contains('REC'), \n",
    "            regexp_replace(iun_from_letter_code_df.businessStatusesString, 'P000|CON[a-zA-Z0-9]*', '')\n",
    "        ).otherwise(iun_from_letter_code_df.businessStatusesString)\n",
    "    ), \n",
    "    ' +', \n",
    "    '->'\n",
    ")\n",
    "\n",
    "iun_from_letter_code_with_sequence_df = iun_from_letter_code_df \\\n",
    "    .select(\n",
    "        iun_from_letter_code_df.codiceraccomandata.alias('originalRegisteredLetterCode'),\n",
    "        iun_from_letter_code_df.paperIun,\n",
    "        iun_from_letter_code_df.registeredLetterCode,\n",
    "        iun_from_letter_code_df.paperMeta_productType.alias('paperMetaProductType'),\n",
    "        iun_from_letter_code_df.attachments,\n",
    "        iun_from_letter_code_df.requestId,\n",
    "        sequence.alias('sequence')\n",
    "    )\n",
    "\n",
    "# iun_from_letter_code_with_sequence_df.show(truncate=False)"
   ],
   "metadata": {
    "collapsed": false,
    "ExecuteTime": {
     "end_time": "2024-03-01T17:03:38.350579Z",
     "start_time": "2024-03-01T17:03:38.332192Z"
    }
   },
   "id": "7213d1390605cad1",
   "execution_count": 8
  },
  {
   "cell_type": "code",
   "outputs": [],
   "source": [
    "group_by_sequences_df: DataFrame = iun_from_letter_code_with_sequence_df \\\n",
    "    .groupby(iun_from_letter_code_with_sequence_df.sequence, iun_from_letter_code_with_sequence_df.attachments) \\\n",
    "    .agg(\n",
    "        count(iun_from_letter_code_with_sequence_df.paperIun).alias('requestCount'), \n",
    "        collect_set(to_json(struct(\n",
    "            iun_from_letter_code_with_sequence_df.requestId, \n",
    "            iun_from_letter_code_with_sequence_df.registeredLetterCode,\n",
    "        ))).cast('string').alias('requestInformationSet'))"
   ],
   "metadata": {
    "collapsed": false,
    "ExecuteTime": {
     "end_time": "2024-03-01T17:03:38.366628Z",
     "start_time": "2024-03-01T17:03:38.350632Z"
    }
   },
   "id": "ec4d9f92d9d2c613",
   "execution_count": 9
  },
  {
   "cell_type": "code",
   "outputs": [],
   "source": [
    "labeled_join_condition = [\n",
    "    group_by_sequences_df.sequence.eqNullSafe(sequence_category_mapping_df.mappedSequence), \n",
    "    group_by_sequences_df.attachments.eqNullSafe(sequence_category_mapping_df.mappedAttachments)\n",
    "]\n",
    "\n",
    "group_by_sequence_labeled_df: DataFrame = group_by_sequences_df \\\n",
    "    .join(sequence_category_mapping_df, on=labeled_join_condition, how='left') \\\n",
    "    .select(\n",
    "        group_by_sequences_df.sequence,\n",
    "        group_by_sequences_df.attachments,\n",
    "        # group_by_sequences_df.requestInformationSet,\n",
    "        sequence_category_mapping_df.category,\n",
    "        sequence_category_mapping_df.action,\n",
    "        group_by_sequences_df.requestCount\n",
    "    ).sort(desc(group_by_sequences_df.requestCount))"
   ],
   "metadata": {
    "collapsed": false,
    "ExecuteTime": {
     "end_time": "2024-03-01T17:03:38.383037Z",
     "start_time": "2024-03-01T17:03:38.367454Z"
    }
   },
   "id": "878b71605a732762",
   "execution_count": 10
  },
  {
   "cell_type": "code",
   "outputs": [
    {
     "name": "stderr",
     "output_type": "stream",
     "text": [
      "                                                                                \r"
     ]
    }
   ],
   "source": [
    "from utils.custom_data_frame_writer import CustomDataFrameWriter\n",
    "\n",
    "# Write out dataframe\n",
    "CustomDataFrameWriter.write(\n",
    "    df=group_by_sequence_labeled_df.repartition(1),\n",
    "    output_name=SPARK_APP_NAME,\n",
    "    output_folder=output_config_dict.get('path'),\n",
    "    output_format=output_config_dict.get('format')\n",
    ")"
   ],
   "metadata": {
    "collapsed": false,
    "ExecuteTime": {
     "end_time": "2024-03-01T17:05:44.665929Z",
     "start_time": "2024-03-01T17:03:38.383927Z"
    }
   },
   "id": "43215190e821b555",
   "execution_count": 11
  }
 ],
 "metadata": {
  "kernelspec": {
   "display_name": "Python 3",
   "language": "python",
   "name": "python3"
  },
  "language_info": {
   "codemirror_mode": {
    "name": "ipython",
    "version": 2
   },
   "file_extension": ".py",
   "mimetype": "text/x-python",
   "name": "python",
   "nbconvert_exporter": "python",
   "pygments_lexer": "ipython2",
   "version": "2.7.6"
  }
 },
 "nbformat": 4,
 "nbformat_minor": 5
}
