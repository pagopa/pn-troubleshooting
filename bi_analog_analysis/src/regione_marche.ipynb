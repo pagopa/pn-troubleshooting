{
 "cells": [
  {
   "cell_type": "code",
   "execution_count": 1,
   "id": "initial_id",
   "metadata": {
    "collapsed": true,
    "ExecuteTime": {
     "end_time": "2024-02-28T09:42:45.422236Z",
     "start_time": "2024-02-28T09:42:45.408089Z"
    }
   },
   "outputs": [],
   "source": [
    "# Import app configuration\n",
    "from typing import Dict\n",
    "from config import APP_CONFIG\n",
    "\n",
    "spark_config_dict: Dict[str, str] = APP_CONFIG.get('spark', dict())\n",
    "input_config_dict: Dict[str, str] = APP_CONFIG.get('input', dict())\n",
    "output_config_dict: Dict[str, str] = APP_CONFIG.get('output', dict())\n",
    "\n",
    "SPARK_APP_NAME = spark_config_dict.get('name', 'spark-app')"
   ]
  },
  {
   "cell_type": "code",
   "outputs": [
    {
     "name": "stderr",
     "output_type": "stream",
     "text": [
      "Setting default log level to \"WARN\".\n",
      "To adjust logging level use sc.setLogLevel(newLevel). For SparkR, use setLogLevel(newLevel).\n",
      "24/02/28 10:42:47 WARN NativeCodeLoader: Unable to load native-hadoop library for your platform... using builtin-java classes where applicable\n"
     ]
    }
   ],
   "source": [
    "import os\n",
    "\n",
    "from pyspark import SparkConf\n",
    "from pyspark.sql import SparkSession\n",
    "from pyspark.sql.functions import *\n",
    "from pyspark.sql.dataframe import DataFrame\n",
    "\n",
    "os.environ['SPARK_MEM'] = spark_config_dict.get('memory', '24g')\n",
    "\n",
    "spark_conf = SparkConf()\n",
    "spark_conf.set('spark.driver.memory', spark_config_dict.get('driver.memory', '4g'))\n",
    "spark_conf.set('spark.executor.memory', spark_config_dict.get('executor.memory', '5g'))\n",
    "spark_conf.set('spark.executor.cores', spark_config_dict.get('executor.cores', '3'))\n",
    "spark_conf.set('spark.executor.instances', spark_config_dict.get('executor.instances', '4'))\n",
    "spark_conf.set('spark.dynamicAllocation.enabled', spark_config_dict.get('dynamicAllocation.enabled', 'false'))\n",
    "\n",
    "# Configure and start new Spark Session\n",
    "spark_session = (SparkSession.builder\n",
    "                .appName(name=SPARK_APP_NAME)\n",
    "                .master(master=spark_config_dict.get('master', 'local'))\n",
    "                .config(conf=spark_conf)\n",
    "                .getOrCreate())\n",
    "\n",
    "spark_session.sparkContext.setLogLevel(spark_config_dict.get('logLevel', 'WARN'))"
   ],
   "metadata": {
    "collapsed": false,
    "ExecuteTime": {
     "end_time": "2024-02-28T09:42:48.246859Z",
     "start_time": "2024-02-28T09:42:46.425904Z"
    }
   },
   "id": "4fd7dfad63380b80",
   "execution_count": 2
  },
  {
   "cell_type": "code",
   "outputs": [],
   "source": [
    "# Read input dataframes\n",
    "ec_metadata_df: DataFrame = spark_session.read.parquet(input_config_dict.get('path.metadataRequest'), header=True) \\\n",
    "    .filter(col('paperMeta_productType') == 'AR') \\\n",
    "    .select('*', regexp_extract('requestId', '.*IUN_(.*)\\\\.RECINDEX.*', 1).alias('iun'))\n",
    "\n",
    "input_to_analyze_df: DataFrame = spark_session.read.csv(input_config_dict.get('path.analyzeFile'), header=True)\n",
    "\n",
    "notifications_df: DataFrame = spark_session.read.parquet(input_config_dict.get('path.notifications'), header=True) \\\n",
    "    .select('iun', 'senderDenomination', 'senderPaId')\n",
    "\n",
    "sequence_category_mapping_df: DataFrame = spark_session.read.csv('resources/sequence_category_mapping.csv', header=True)"
   ],
   "metadata": {
    "collapsed": false,
    "ExecuteTime": {
     "end_time": "2024-02-28T09:42:51.639121Z",
     "start_time": "2024-02-28T09:42:49.269797Z"
    }
   },
   "id": "79204d3cd010a8c9",
   "execution_count": 3
  },
  {
   "cell_type": "code",
   "outputs": [],
   "source": [
    "ec_metadata_df_with_sender_denomination_df: DataFrame = ec_metadata_df \\\n",
    "    .join(notifications_df, on='iun', how='left') \\\n",
    "    .filter(col('senderPaId') == '051c98e9-40ce-43a6-aa6e-2123889e1532') # filtra marche"
   ],
   "metadata": {
    "collapsed": false,
    "ExecuteTime": {
     "end_time": "2024-02-28T09:42:52.237731Z",
     "start_time": "2024-02-28T09:42:52.209051Z"
    }
   },
   "id": "60a1d75a05a1d864",
   "execution_count": 4
  },
  {
   "cell_type": "code",
   "outputs": [],
   "source": [
    "# Deduplicate requests\n",
    "deduplicates_df: DataFrame = ec_metadata_df_with_sender_denomination_df \\\n",
    "    .withColumn('version', ec_metadata_df_with_sender_denomination_df.version.cast('integer')) \\\n",
    "    .filter(ec_metadata_df_with_sender_denomination_df.paperMeta_productType.isNotNull()) \\\n",
    "    .groupby(ec_metadata_df_with_sender_denomination_df.requestId) \\\n",
    "    .agg(max('version').alias('version')) \\\n",
    "    .sort(desc('version'))\n",
    "\n",
    "deduplicates_df = deduplicates_df.withColumnRenamed('requestId', 'maxRequestId')\n",
    "deduplicates_df = deduplicates_df.withColumnRenamed('version', 'maxVersion')\n",
    "\n",
    "# deduplicates_df.show(n=5, truncate=True)"
   ],
   "metadata": {
    "collapsed": false,
    "ExecuteTime": {
     "end_time": "2024-02-28T09:42:54.102686Z",
     "start_time": "2024-02-28T09:42:54.047712Z"
    }
   },
   "id": "92b6c1981a7fe815",
   "execution_count": 5
  },
  {
   "cell_type": "code",
   "outputs": [],
   "source": [
    "# Postalizzazione basic - TODO: enhance selection pipeline\n",
    "\n",
    "deduplicates_join_condition = [\n",
    "    ec_metadata_df.requestId == deduplicates_df.maxRequestId,\n",
    "    ec_metadata_df.version == deduplicates_df.maxVersion\n",
    "]\n",
    "\n",
    "all_paper_metadata_df: DataFrame = ec_metadata_df \\\n",
    "    .join(other=deduplicates_df, on=deduplicates_join_condition) \\\n",
    "    .selectExpr(\n",
    "        'if (length(requestTimestamp) = 17, concat(substr(requestTimestamp, 0, 16), \":00Z\"), requestTimestamp) as requestTimestamp',\n",
    "        'paperMeta_productType',\n",
    "        'array_join(transform(event_list, e -> e.paperProg_statusCode), \" \") as statusesString',\n",
    "        'array_join(transform(filter(event_list, e -> e.paperProg_statusCode rlike \"CON080|CON016|(CON9.*)|(RECRN.*)|(RECAG.*)|(RECRS.*)|(P.*)|(RECRSI.*)|(RECRI.*)\"),e -> e.paperProg_statusCode), \" \") as businessStatusesString',\n",
    "        'array_join(array_distinct(transform(event_list,e -> e.paperProg_deliveryFailureCause)), \" \") as deliveryFailureCause',\n",
    "        'array_join(array_distinct(flatten(transform(filter(event_list, e -> e.paperProg_statusCode rlike \"(REC.*B)|(REC.*E)\").paperProg_attachments,e -> e.documentType))), \" \") as attachments',\n",
    "        'array_join(array_distinct(transform(filter(event_list, e -> e.paperProg_statusCode rlike \"REC.*\" AND NOT e.paperProg_statusCode in (\"RECAG012\",\"REC090\")),e -> e.paperProg_registeredLetterCode)), \" \") as registeredLetterCode',\n",
    "        'requestId',\n",
    "        'regexp_extract(requestId, \".*IUN_(.*)\\\\.RECINDEX.*\", 1) as paperIun',\n",
    "        'regexp_extract(requestId, \"pn-cons-000~(.*)\\\\.PCRETRY_.\", 1) as paperRequestId',\n",
    "        'version as paperVersion'\n",
    "    )\n",
    "\n",
    "# Replace empty string coming from array_join() with empty arrays\n",
    "all_paper_metadata_df = all_paper_metadata_df.na.replace('', None)\n",
    "\n",
    "# all_paper_metadata_df.show(n=50, truncate=False)"
   ],
   "metadata": {
    "collapsed": false,
    "ExecuteTime": {
     "end_time": "2024-02-28T09:42:55.602676Z",
     "start_time": "2024-02-28T09:42:55.460902Z"
    }
   },
   "id": "bd797c4254e04399",
   "execution_count": 6
  },
  {
   "cell_type": "code",
   "outputs": [],
   "source": [
    "# Filter only metadata\n",
    "# filtered_all_paper_metadata_df: DataFrame = input_to_analyze_df \\\n",
    "#     .join(other=all_paper_metadata_df, on=input_to_analyze_df.iun == all_paper_metadata_df.paperIun, how='left')\n",
    "\n",
    "filtered_all_paper_metadata_df = all_paper_metadata_df\n",
    "\n",
    "# filtered_all_paper_metadata_df.show(n=50, truncate=True)"
   ],
   "metadata": {
    "collapsed": false,
    "ExecuteTime": {
     "end_time": "2024-02-28T09:42:57.585967Z",
     "start_time": "2024-02-28T09:42:57.582910Z"
    }
   },
   "id": "af13585a060f113b",
   "execution_count": 7
  },
  {
   "cell_type": "code",
   "outputs": [],
   "source": [
    "# Filter duplicates by max request id\n",
    "distinct_request_df: DataFrame = filtered_all_paper_metadata_df \\\n",
    "    .groupby(filtered_all_paper_metadata_df.paperIun) \\\n",
    "    .agg(max(filtered_all_paper_metadata_df.requestId).alias('maxRequestId'))\n",
    "\n",
    "# distinct_request_df.show(n=50, truncate=True)"
   ],
   "metadata": {
    "collapsed": false,
    "ExecuteTime": {
     "end_time": "2024-02-28T09:42:59.250264Z",
     "start_time": "2024-02-28T09:42:59.238681Z"
    }
   },
   "id": "dc3476ad0a3a18da",
   "execution_count": 8
  },
  {
   "cell_type": "code",
   "outputs": [
    {
     "name": "stderr",
     "output_type": "stream",
     "text": [
      "                                                                                \r"
     ]
    },
    {
     "name": "stdout",
     "output_type": "stream",
     "text": [
      "+-------------------------+--------------------+--------------------+-----------+------------------------------------------------------------------------------------------------+--------------------------------------------------------------------------+------------------------------------+\n",
      "|paperIun                 |registeredLetterCode|paperMetaProductType|attachments|requestId                                                                                       |paperRequestId                                                            |sequence                            |\n",
      "+-------------------------+--------------------+--------------------+-----------+------------------------------------------------------------------------------------------------+--------------------------------------------------------------------------+------------------------------------+\n",
      "|ADAD-VHUK-KYAN-202312-W-1|NULL                |AR                  |NULL       |pn-cons-000~PREPARE_ANALOG_DOMICILE.IUN_ADAD-VHUK-KYAN-202312-W-1.RECINDEX_0.ATTEMPT_0.PCRETRY_0|PREPARE_ANALOG_DOMICILE.IUN_ADAD-VHUK-KYAN-202312-W-1.RECINDEX_0.ATTEMPT_0|P000->CON080->CON080->CON016        |\n",
      "|ADAD-WNQY-AYEZ-202312-X-1|NULL                |AR                  |NULL       |pn-cons-000~PREPARE_ANALOG_DOMICILE.IUN_ADAD-WNQY-AYEZ-202312-X-1.RECINDEX_0.ATTEMPT_0.PCRETRY_0|PREPARE_ANALOG_DOMICILE.IUN_ADAD-WNQY-AYEZ-202312-X-1.RECINDEX_0.ATTEMPT_0|P000->CON080->CON016                |\n",
      "|ADAJ-MVNQ-KTUL-202312-Q-1|NULL                |AR                  |NULL       |pn-cons-000~PREPARE_ANALOG_DOMICILE.IUN_ADAJ-MVNQ-KTUL-202312-Q-1.RECINDEX_0.ATTEMPT_0.PCRETRY_0|PREPARE_ANALOG_DOMICILE.IUN_ADAJ-MVNQ-KTUL-202312-Q-1.RECINDEX_0.ATTEMPT_0|P000->CON080->CON080->CON016        |\n",
      "|ADAK-JMPK-ZAUM-202312-Z-1|NULL                |AR                  |NULL       |pn-cons-000~PREPARE_ANALOG_DOMICILE.IUN_ADAK-JMPK-ZAUM-202312-Z-1.RECINDEX_0.ATTEMPT_0.PCRETRY_0|PREPARE_ANALOG_DOMICILE.IUN_ADAK-JMPK-ZAUM-202312-Z-1.RECINDEX_0.ATTEMPT_0|P000->CON080->CON080->CON016        |\n",
      "|ADAL-ZMJQ-TQUE-202312-T-1|NULL                |AR                  |NULL       |pn-cons-000~PREPARE_ANALOG_DOMICILE.IUN_ADAL-ZMJQ-TQUE-202312-T-1.RECINDEX_0.ATTEMPT_0.PCRETRY_0|PREPARE_ANALOG_DOMICILE.IUN_ADAL-ZMJQ-TQUE-202312-T-1.RECINDEX_0.ATTEMPT_0|P000->CON080->CON080->CON016        |\n",
      "|ADAN-RWQE-GUMQ-202312-N-1|NULL                |AR                  |NULL       |pn-cons-000~PREPARE_ANALOG_DOMICILE.IUN_ADAN-RWQE-GUMQ-202312-N-1.RECINDEX_0.ATTEMPT_0.PCRETRY_0|PREPARE_ANALOG_DOMICILE.IUN_ADAN-RWQE-GUMQ-202312-N-1.RECINDEX_0.ATTEMPT_0|P000->CON080->CON080->CON016        |\n",
      "|ADAQ-DEAD-TJTD-202312-P-1|NULL                |AR                  |NULL       |pn-cons-000~PREPARE_ANALOG_DOMICILE.IUN_ADAQ-DEAD-TJTD-202312-P-1.RECINDEX_0.ATTEMPT_0.PCRETRY_0|PREPARE_ANALOG_DOMICILE.IUN_ADAQ-DEAD-TJTD-202312-P-1.RECINDEX_0.ATTEMPT_0|P000->CON080->CON080->CON016        |\n",
      "|ADAQ-JQXT-WZAP-202312-J-1|NULL                |AR                  |NULL       |pn-cons-000~PREPARE_ANALOG_DOMICILE.IUN_ADAQ-JQXT-WZAP-202312-J-1.RECINDEX_0.ATTEMPT_0.PCRETRY_0|PREPARE_ANALOG_DOMICILE.IUN_ADAQ-JQXT-WZAP-202312-J-1.RECINDEX_0.ATTEMPT_0|P000->CON080->CON080->CON016        |\n",
      "|ADAQ-QYUD-YMAR-202312-W-1|NULL                |AR                  |NULL       |pn-cons-000~PREPARE_ANALOG_DOMICILE.IUN_ADAQ-QYUD-YMAR-202312-W-1.RECINDEX_0.ATTEMPT_0.PCRETRY_1|PREPARE_ANALOG_DOMICILE.IUN_ADAQ-QYUD-YMAR-202312-W-1.RECINDEX_0.ATTEMPT_0|P000->CON080->CON016                |\n",
      "|ADAR-UYXK-QTRP-202312-W-1|NULL                |AR                  |NULL       |pn-cons-000~PREPARE_ANALOG_DOMICILE.IUN_ADAR-UYXK-QTRP-202312-W-1.RECINDEX_0.ATTEMPT_0.PCRETRY_1|PREPARE_ANALOG_DOMICILE.IUN_ADAR-UYXK-QTRP-202312-W-1.RECINDEX_0.ATTEMPT_0|P000->CON080->CON016                |\n",
      "|ADAT-VLWA-XRAR-202312-V-1|NULL                |AR                  |NULL       |pn-cons-000~PREPARE_ANALOG_DOMICILE.IUN_ADAT-VLWA-XRAR-202312-V-1.RECINDEX_0.ATTEMPT_0.PCRETRY_0|PREPARE_ANALOG_DOMICILE.IUN_ADAT-VLWA-XRAR-202312-V-1.RECINDEX_0.ATTEMPT_0|P000->CON080->CON080->CON016        |\n",
      "|ADAW-GHQH-QEXW-202312-L-1|NULL                |AR                  |NULL       |pn-cons-000~PREPARE_ANALOG_DOMICILE.IUN_ADAW-GHQH-QEXW-202312-L-1.RECINDEX_0.ATTEMPT_0.PCRETRY_0|PREPARE_ANALOG_DOMICILE.IUN_ADAW-GHQH-QEXW-202312-L-1.RECINDEX_0.ATTEMPT_0|P000->CON080->CON080->CON016        |\n",
      "|ADAW-YPME-KULA-202312-H-1|NULL                |AR                  |NULL       |pn-cons-000~PREPARE_ANALOG_DOMICILE.IUN_ADAW-YPME-KULA-202312-H-1.RECINDEX_0.ATTEMPT_0.PCRETRY_0|PREPARE_ANALOG_DOMICILE.IUN_ADAW-YPME-KULA-202312-H-1.RECINDEX_0.ATTEMPT_0|P000->CON080->CON080->CON016        |\n",
      "|ADED-GTMV-REHL-202312-P-1|NULL                |AR                  |NULL       |pn-cons-000~PREPARE_ANALOG_DOMICILE.IUN_ADED-GTMV-REHL-202312-P-1.RECINDEX_0.ATTEMPT_0.PCRETRY_1|PREPARE_ANALOG_DOMICILE.IUN_ADED-GTMV-REHL-202312-P-1.RECINDEX_0.ATTEMPT_0|P000->CON080->CON016                |\n",
      "|ADED-WQEA-KYPX-202312-K-1|NULL                |AR                  |NULL       |pn-cons-000~PREPARE_ANALOG_DOMICILE.IUN_ADED-WQEA-KYPX-202312-K-1.RECINDEX_0.ATTEMPT_0.PCRETRY_0|PREPARE_ANALOG_DOMICILE.IUN_ADED-WQEA-KYPX-202312-K-1.RECINDEX_0.ATTEMPT_0|P000->CON080->CON080->CON016        |\n",
      "|ADED-XPTY-HQYE-202312-Z-1|NULL                |AR                  |NULL       |pn-cons-000~PREPARE_ANALOG_DOMICILE.IUN_ADED-XPTY-HQYE-202312-Z-1.RECINDEX_0.ATTEMPT_0.PCRETRY_0|PREPARE_ANALOG_DOMICILE.IUN_ADED-XPTY-HQYE-202312-Z-1.RECINDEX_0.ATTEMPT_0|P000->CON080->CON080->CON016        |\n",
      "|ADEG-EJYR-MUJW-202312-M-1|NULL                |AR                  |NULL       |pn-cons-000~PREPARE_ANALOG_DOMICILE.IUN_ADEG-EJYR-MUJW-202312-M-1.RECINDEX_0.ATTEMPT_0.PCRETRY_0|PREPARE_ANALOG_DOMICILE.IUN_ADEG-EJYR-MUJW-202312-M-1.RECINDEX_0.ATTEMPT_0|P000->CON080->CON080->CON016        |\n",
      "|ADEG-QMRA-WREJ-202312-U-1|NULL                |AR                  |NULL       |pn-cons-000~PREPARE_ANALOG_DOMICILE.IUN_ADEG-QMRA-WREJ-202312-U-1.RECINDEX_0.ATTEMPT_0.PCRETRY_0|PREPARE_ANALOG_DOMICILE.IUN_ADEG-QMRA-WREJ-202312-U-1.RECINDEX_0.ATTEMPT_0|P000->CON080->CON080->CON016        |\n",
      "|ADEJ-DHTJ-JDJR-202312-W-1|NULL                |AR                  |NULL       |pn-cons-000~PREPARE_ANALOG_DOMICILE.IUN_ADEJ-DHTJ-JDJR-202312-W-1.RECINDEX_0.ATTEMPT_0.PCRETRY_0|PREPARE_ANALOG_DOMICILE.IUN_ADEJ-DHTJ-JDJR-202312-W-1.RECINDEX_0.ATTEMPT_0|P000->CON080->CON080->CON016        |\n",
      "|ADEL-YLQU-NVNU-202312-N-1|NULL                |AR                  |NULL       |pn-cons-000~PREPARE_ANALOG_DOMICILE.IUN_ADEL-YLQU-NVNU-202312-N-1.RECINDEX_0.ATTEMPT_0.PCRETRY_0|PREPARE_ANALOG_DOMICILE.IUN_ADEL-YLQU-NVNU-202312-N-1.RECINDEX_0.ATTEMPT_0|P000->CON080->CON080->CON016        |\n",
      "|ADEP-GJHT-QRZR-202312-U-1|NULL                |AR                  |NULL       |pn-cons-000~PREPARE_ANALOG_DOMICILE.IUN_ADEP-GJHT-QRZR-202312-U-1.RECINDEX_0.ATTEMPT_0.PCRETRY_1|PREPARE_ANALOG_DOMICILE.IUN_ADEP-GJHT-QRZR-202312-U-1.RECINDEX_0.ATTEMPT_0|P000->CON080->CON016                |\n",
      "|ADER-RZGD-MEYA-202312-A-1|NULL                |AR                  |NULL       |pn-cons-000~PREPARE_ANALOG_DOMICILE.IUN_ADER-RZGD-MEYA-202312-A-1.RECINDEX_0.ATTEMPT_0.PCRETRY_1|PREPARE_ANALOG_DOMICILE.IUN_ADER-RZGD-MEYA-202312-A-1.RECINDEX_0.ATTEMPT_0|P000->CON080->CON016                |\n",
      "|ADEU-ERGQ-AYQG-202312-Z-1|NULL                |AR                  |NULL       |pn-cons-000~PREPARE_ANALOG_DOMICILE.IUN_ADEU-ERGQ-AYQG-202312-Z-1.RECINDEX_0.ATTEMPT_0.PCRETRY_0|PREPARE_ANALOG_DOMICILE.IUN_ADEU-ERGQ-AYQG-202312-Z-1.RECINDEX_0.ATTEMPT_0|P000->CON080->CON080->CON016        |\n",
      "|ADEV-NKPH-PJXK-202312-L-1|NULL                |AR                  |NULL       |pn-cons-000~PREPARE_ANALOG_DOMICILE.IUN_ADEV-NKPH-PJXK-202312-L-1.RECINDEX_0.ATTEMPT_0.PCRETRY_0|PREPARE_ANALOG_DOMICILE.IUN_ADEV-NKPH-PJXK-202312-L-1.RECINDEX_0.ATTEMPT_0|P000->CON080->CON080->CON016        |\n",
      "|ADEX-VYJG-QURH-202312-H-1|NULL                |AR                  |NULL       |pn-cons-000~PREPARE_ANALOG_DOMICILE.IUN_ADEX-VYJG-QURH-202312-H-1.RECINDEX_0.ATTEMPT_0.PCRETRY_0|PREPARE_ANALOG_DOMICILE.IUN_ADEX-VYJG-QURH-202312-H-1.RECINDEX_0.ATTEMPT_0|P000->CON080->CON080->CON016        |\n",
      "|ADEY-XNLM-XHXZ-202312-D-1|NULL                |AR                  |NULL       |pn-cons-000~PREPARE_ANALOG_DOMICILE.IUN_ADEY-XNLM-XHXZ-202312-D-1.RECINDEX_0.ATTEMPT_0.PCRETRY_0|PREPARE_ANALOG_DOMICILE.IUN_ADEY-XNLM-XHXZ-202312-D-1.RECINDEX_0.ATTEMPT_0|P000->CON080->CON080->CON016->CON016|\n",
      "|ADGH-JWEW-ERHG-202312-P-1|NULL                |AR                  |NULL       |pn-cons-000~PREPARE_ANALOG_DOMICILE.IUN_ADGH-JWEW-ERHG-202312-P-1.RECINDEX_0.ATTEMPT_0.PCRETRY_1|PREPARE_ANALOG_DOMICILE.IUN_ADGH-JWEW-ERHG-202312-P-1.RECINDEX_0.ATTEMPT_0|P000->CON080->CON016                |\n",
      "|ADGL-KGAD-GLVJ-202312-T-1|NULL                |AR                  |NULL       |pn-cons-000~PREPARE_ANALOG_DOMICILE.IUN_ADGL-KGAD-GLVJ-202312-T-1.RECINDEX_0.ATTEMPT_0.PCRETRY_0|PREPARE_ANALOG_DOMICILE.IUN_ADGL-KGAD-GLVJ-202312-T-1.RECINDEX_0.ATTEMPT_0|P000->CON080->CON080->CON016        |\n",
      "|ADGM-JYTV-DMHX-202312-V-1|NULL                |AR                  |NULL       |pn-cons-000~PREPARE_ANALOG_DOMICILE.IUN_ADGM-JYTV-DMHX-202312-V-1.RECINDEX_0.ATTEMPT_0.PCRETRY_0|PREPARE_ANALOG_DOMICILE.IUN_ADGM-JYTV-DMHX-202312-V-1.RECINDEX_0.ATTEMPT_0|P000->CON080->CON080->CON016        |\n",
      "|ADGN-GMQL-XWQX-202312-J-1|NULL                |AR                  |NULL       |pn-cons-000~PREPARE_ANALOG_DOMICILE.IUN_ADGN-GMQL-XWQX-202312-J-1.RECINDEX_0.ATTEMPT_0.PCRETRY_0|PREPARE_ANALOG_DOMICILE.IUN_ADGN-GMQL-XWQX-202312-J-1.RECINDEX_0.ATTEMPT_0|P000->CON080->CON016                |\n",
      "|ADGN-LJMU-NWUK-202312-U-1|NULL                |AR                  |NULL       |pn-cons-000~PREPARE_ANALOG_DOMICILE.IUN_ADGN-LJMU-NWUK-202312-U-1.RECINDEX_0.ATTEMPT_0.PCRETRY_0|PREPARE_ANALOG_DOMICILE.IUN_ADGN-LJMU-NWUK-202312-U-1.RECINDEX_0.ATTEMPT_0|P000->CON080->CON080->CON016        |\n",
      "|ADGW-TDYK-ZDKV-202312-D-1|NULL                |AR                  |NULL       |pn-cons-000~PREPARE_ANALOG_DOMICILE.IUN_ADGW-TDYK-ZDKV-202312-D-1.RECINDEX_0.ATTEMPT_0.PCRETRY_0|PREPARE_ANALOG_DOMICILE.IUN_ADGW-TDYK-ZDKV-202312-D-1.RECINDEX_0.ATTEMPT_0|P000->CON080->CON080->CON016        |\n",
      "|ADGX-AWDY-LJYE-202312-P-1|NULL                |AR                  |NULL       |pn-cons-000~PREPARE_ANALOG_DOMICILE.IUN_ADGX-AWDY-LJYE-202312-P-1.RECINDEX_0.ATTEMPT_0.PCRETRY_0|PREPARE_ANALOG_DOMICILE.IUN_ADGX-AWDY-LJYE-202312-P-1.RECINDEX_0.ATTEMPT_0|P000->CON080->CON080->CON016        |\n",
      "|ADGX-WUAD-DXVX-202312-H-1|NULL                |AR                  |NULL       |pn-cons-000~PREPARE_ANALOG_DOMICILE.IUN_ADGX-WUAD-DXVX-202312-H-1.RECINDEX_0.ATTEMPT_0.PCRETRY_1|PREPARE_ANALOG_DOMICILE.IUN_ADGX-WUAD-DXVX-202312-H-1.RECINDEX_0.ATTEMPT_0|P000->CON080->CON016                |\n",
      "|ADGY-NYZD-TWAP-202312-P-1|NULL                |AR                  |NULL       |pn-cons-000~PREPARE_ANALOG_DOMICILE.IUN_ADGY-NYZD-TWAP-202312-P-1.RECINDEX_0.ATTEMPT_0.PCRETRY_0|PREPARE_ANALOG_DOMICILE.IUN_ADGY-NYZD-TWAP-202312-P-1.RECINDEX_0.ATTEMPT_0|P000->CON080->CON080->CON016        |\n",
      "|ADHA-UADV-MZYP-202312-R-1|NULL                |AR                  |NULL       |pn-cons-000~PREPARE_ANALOG_DOMICILE.IUN_ADHA-UADV-MZYP-202312-R-1.RECINDEX_0.ATTEMPT_0.PCRETRY_0|PREPARE_ANALOG_DOMICILE.IUN_ADHA-UADV-MZYP-202312-R-1.RECINDEX_0.ATTEMPT_0|P000->CON080->CON080->CON016        |\n",
      "|ADHG-GWZN-DQDH-202312-U-1|NULL                |AR                  |NULL       |pn-cons-000~PREPARE_ANALOG_DOMICILE.IUN_ADHG-GWZN-DQDH-202312-U-1.RECINDEX_0.ATTEMPT_0.PCRETRY_0|PREPARE_ANALOG_DOMICILE.IUN_ADHG-GWZN-DQDH-202312-U-1.RECINDEX_0.ATTEMPT_0|P000->CON080->CON080->CON016        |\n",
      "|ADHG-UWPA-TUXV-202312-N-1|NULL                |AR                  |NULL       |pn-cons-000~PREPARE_ANALOG_DOMICILE.IUN_ADHG-UWPA-TUXV-202312-N-1.RECINDEX_0.ATTEMPT_0.PCRETRY_0|PREPARE_ANALOG_DOMICILE.IUN_ADHG-UWPA-TUXV-202312-N-1.RECINDEX_0.ATTEMPT_0|P000->CON080->CON016                |\n",
      "|ADHJ-UGQU-VGAW-202312-M-1|NULL                |AR                  |NULL       |pn-cons-000~PREPARE_ANALOG_DOMICILE.IUN_ADHJ-UGQU-VGAW-202312-M-1.RECINDEX_0.ATTEMPT_0.PCRETRY_0|PREPARE_ANALOG_DOMICILE.IUN_ADHJ-UGQU-VGAW-202312-M-1.RECINDEX_0.ATTEMPT_0|P000->CON080->CON080->CON016        |\n",
      "|ADHK-WHPW-ZYJP-202312-Q-1|NULL                |AR                  |NULL       |pn-cons-000~PREPARE_ANALOG_DOMICILE.IUN_ADHK-WHPW-ZYJP-202312-Q-1.RECINDEX_0.ATTEMPT_0.PCRETRY_0|PREPARE_ANALOG_DOMICILE.IUN_ADHK-WHPW-ZYJP-202312-Q-1.RECINDEX_0.ATTEMPT_0|P000->CON080->CON016                |\n",
      "|ADHM-EHTP-UXJA-202312-A-1|NULL                |AR                  |NULL       |pn-cons-000~PREPARE_ANALOG_DOMICILE.IUN_ADHM-EHTP-UXJA-202312-A-1.RECINDEX_0.ATTEMPT_0.PCRETRY_0|PREPARE_ANALOG_DOMICILE.IUN_ADHM-EHTP-UXJA-202312-A-1.RECINDEX_0.ATTEMPT_0|P000->CON080->CON080->CON016        |\n",
      "|ADHM-WJYL-MPYR-202312-N-1|NULL                |AR                  |NULL       |pn-cons-000~PREPARE_ANALOG_DOMICILE.IUN_ADHM-WJYL-MPYR-202312-N-1.RECINDEX_0.ATTEMPT_0.PCRETRY_0|PREPARE_ANALOG_DOMICILE.IUN_ADHM-WJYL-MPYR-202312-N-1.RECINDEX_0.ATTEMPT_0|P000->CON080->CON080->CON016        |\n",
      "|ADHP-RDXH-RVQY-202312-L-1|NULL                |AR                  |NULL       |pn-cons-000~PREPARE_ANALOG_DOMICILE.IUN_ADHP-RDXH-RVQY-202312-L-1.RECINDEX_0.ATTEMPT_0.PCRETRY_0|PREPARE_ANALOG_DOMICILE.IUN_ADHP-RDXH-RVQY-202312-L-1.RECINDEX_0.ATTEMPT_0|P000->CON080->CON080->CON016        |\n",
      "|ADHQ-LHKH-YLUD-202312-Z-1|NULL                |AR                  |NULL       |pn-cons-000~PREPARE_ANALOG_DOMICILE.IUN_ADHQ-LHKH-YLUD-202312-Z-1.RECINDEX_0.ATTEMPT_0.PCRETRY_0|PREPARE_ANALOG_DOMICILE.IUN_ADHQ-LHKH-YLUD-202312-Z-1.RECINDEX_0.ATTEMPT_0|P000->CON080->CON080->CON016        |\n",
      "|ADHU-QYUP-PDTW-202312-U-1|NULL                |AR                  |NULL       |pn-cons-000~PREPARE_ANALOG_DOMICILE.IUN_ADHU-QYUP-PDTW-202312-U-1.RECINDEX_0.ATTEMPT_0.PCRETRY_0|PREPARE_ANALOG_DOMICILE.IUN_ADHU-QYUP-PDTW-202312-U-1.RECINDEX_0.ATTEMPT_0|P000->CON080->CON080->CON016        |\n",
      "|ADHV-WXRT-KXHJ-202312-R-1|NULL                |AR                  |NULL       |pn-cons-000~PREPARE_ANALOG_DOMICILE.IUN_ADHV-WXRT-KXHJ-202312-R-1.RECINDEX_0.ATTEMPT_0.PCRETRY_0|PREPARE_ANALOG_DOMICILE.IUN_ADHV-WXRT-KXHJ-202312-R-1.RECINDEX_0.ATTEMPT_0|P000->CON080->CON080->CON016        |\n",
      "|ADHX-YZMY-KQYR-202312-U-1|NULL                |AR                  |NULL       |pn-cons-000~PREPARE_ANALOG_DOMICILE.IUN_ADHX-YZMY-KQYR-202312-U-1.RECINDEX_0.ATTEMPT_0.PCRETRY_0|PREPARE_ANALOG_DOMICILE.IUN_ADHX-YZMY-KQYR-202312-U-1.RECINDEX_0.ATTEMPT_0|P000->CON080->CON080->CON016        |\n",
      "|ADHY-QTDT-UPLH-202312-Y-1|NULL                |AR                  |NULL       |pn-cons-000~PREPARE_ANALOG_DOMICILE.IUN_ADHY-QTDT-UPLH-202312-Y-1.RECINDEX_0.ATTEMPT_0.PCRETRY_0|PREPARE_ANALOG_DOMICILE.IUN_ADHY-QTDT-UPLH-202312-Y-1.RECINDEX_0.ATTEMPT_0|P000->CON080->CON080->CON016        |\n",
      "|ADJA-MDKH-PUHR-202312-L-1|697339980694        |AR                  |AR         |pn-cons-000~PREPARE_ANALOG_DOMICILE.IUN_ADJA-MDKH-PUHR-202312-L-1.RECINDEX_0.ATTEMPT_0.PCRETRY_0|PREPARE_ANALOG_DOMICILE.IUN_ADJA-MDKH-PUHR-202312-L-1.RECINDEX_0.ATTEMPT_0|RECRN001A->RECRN001B->RECRN001C     |\n",
      "|ADJA-UHEW-VWVA-202312-P-1|NULL                |AR                  |NULL       |pn-cons-000~PREPARE_ANALOG_DOMICILE.IUN_ADJA-UHEW-VWVA-202312-P-1.RECINDEX_0.ATTEMPT_0.PCRETRY_0|PREPARE_ANALOG_DOMICILE.IUN_ADJA-UHEW-VWVA-202312-P-1.RECINDEX_0.ATTEMPT_0|P000->CON080->CON080->CON016        |\n",
      "+-------------------------+--------------------+--------------------+-----------+------------------------------------------------------------------------------------------------+--------------------------------------------------------------------------+------------------------------------+\n"
     ]
    }
   ],
   "source": [
    "# In this notebook cell we are using col() to retrieve column because distinct_request_df JOIN filtered_all_paper_metadata_df refers to self join operation\n",
    "\n",
    "# Sequence column contains the status history with all REC like statuses when contain any of it, otherwise the entire history\n",
    "sequence: Column = regexp_replace(\n",
    "    trim(\n",
    "        when(\n",
    "            col('filtered_all_paper_metadata_df.businessStatusesString').contains('REC'), \n",
    "            regexp_replace(col('filtered_all_paper_metadata_df.businessStatusesString'), 'P000|CON[a-zA-Z0-9]*', '')\n",
    "        ).otherwise(col('filtered_all_paper_metadata_df.businessStatusesString'))\n",
    "    ), \n",
    "    ' +', \n",
    "    '->'\n",
    ")\n",
    "\n",
    "# Distinct request\n",
    "distinct_metadata_df: DataFrame = distinct_request_df.alias('distinct_request_df') \\\n",
    "    .join(\n",
    "        filtered_all_paper_metadata_df.alias('filtered_all_paper_metadata_df'), \n",
    "        on=col('distinct_request_df.maxRequestId') == col('filtered_all_paper_metadata_df.requestId'), \n",
    "        how='left'\n",
    "    )\n",
    "\n",
    "distinct_metadata_df = distinct_metadata_df \\\n",
    "    .select(\n",
    "        col('filtered_all_paper_metadata_df.paperIun'),\n",
    "        #col('filtered_all_paper_metadata_df.destzip'),\n",
    "        #col('filtered_all_paper_metadata_df.destforeignstate'),\n",
    "        col('filtered_all_paper_metadata_df.registeredLetterCode'),\n",
    "        col('filtered_all_paper_metadata_df.paperMeta_productType').alias('paperMetaProductType'), \n",
    "        col('filtered_all_paper_metadata_df.attachments'), \n",
    "        col('filtered_all_paper_metadata_df.requestId'), \n",
    "        col('filtered_all_paper_metadata_df.paperRequestId'),\n",
    "        sequence.alias('sequence')\n",
    "    )\n",
    "\n",
    "distinct_metadata_df.show(n=50, truncate=False)"
   ],
   "metadata": {
    "collapsed": false,
    "ExecuteTime": {
     "end_time": "2024-02-28T09:43:31.694851Z",
     "start_time": "2024-02-28T09:43:00.736973Z"
    }
   },
   "id": "298370dbfb3bee0",
   "execution_count": 9
  },
  {
   "cell_type": "code",
   "outputs": [
    {
     "name": "stderr",
     "output_type": "stream",
     "text": [
      "                                                                                \r"
     ]
    }
   ],
   "source": [
    "from utils.custom_data_frame_writer import CustomDataFrameWriter\n",
    "\n",
    "# Write out dataframe\n",
    "CustomDataFrameWriter.write(\n",
    "    df=distinct_metadata_df.repartition(1),\n",
    "    output_name=SPARK_APP_NAME,\n",
    "    output_folder=output_config_dict.get('path'),\n",
    "    output_format=output_config_dict.get('format')\n",
    ")"
   ],
   "metadata": {
    "collapsed": false,
    "ExecuteTime": {
     "end_time": "2024-02-28T09:44:52.197315Z",
     "start_time": "2024-02-28T09:44:23.749278Z"
    }
   },
   "id": "67007c9f5841675a",
   "execution_count": 11
  },
  {
   "cell_type": "code",
   "outputs": [],
   "source": [
    "# Group sequences to create data clusters with the form (each row): <sequence, attachments, count, requestInformationSet>\n",
    "group_by_sequences_df: DataFrame = distinct_metadata_df \\\n",
    "    .groupby(distinct_metadata_df.sequence, distinct_metadata_df.attachments) \\\n",
    "    .agg(\n",
    "        count(distinct_metadata_df.iun).alias('requestCount'), \n",
    "        collect_set(to_json(struct(\n",
    "            distinct_metadata_df.requestId, \n",
    "            distinct_metadata_df.paperRequestId, \n",
    "            distinct_metadata_df.registeredLetterCode,\n",
    "            distinct_metadata_df.destzip,\n",
    "            distinct_metadata_df.destforeignstate\n",
    "        ))).cast('string').alias('requestInformationSet'))\n",
    "\n",
    "# group_by_sequences_df = distinct_metadata_df.filter(distinct_metadata_df.sequence == 'P000->CON080->CON016->PN999')\n",
    "\n",
    "# group_by_sequences_df.show(truncate=False)"
   ],
   "metadata": {
    "collapsed": false
   },
   "id": "86d6ee02950bc13a",
   "execution_count": null
  },
  {
   "cell_type": "code",
   "outputs": [],
   "source": [
    "labeled_join_condition = [\n",
    "    group_by_sequences_df.sequence.eqNullSafe(sequence_category_mapping_df.mappedSequence), \n",
    "    group_by_sequences_df.attachments.eqNullSafe(sequence_category_mapping_df.mappedAttachments)\n",
    "]\n",
    "\n",
    "group_by_sequence_labeled_df: DataFrame = group_by_sequences_df \\\n",
    "    .join(sequence_category_mapping_df, on=labeled_join_condition, how='left') \\\n",
    "    .select(\n",
    "        group_by_sequences_df.sequence,\n",
    "        group_by_sequences_df.attachments,\n",
    "        # group_by_sequences_df.requestInformationSet,\n",
    "        sequence_category_mapping_df.category,\n",
    "        sequence_category_mapping_df.action,\n",
    "        group_by_sequences_df.requestCount\n",
    "    ).sort(desc(group_by_sequences_df.requestCount))\n",
    "\n",
    "# group_by_sequence_labeled_df.show(truncate=False)"
   ],
   "metadata": {
    "collapsed": false
   },
   "id": "7de4226a1c155757",
   "execution_count": null
  },
  {
   "cell_type": "code",
   "outputs": [],
   "source": [
    "from utils.custom_data_frame_writer import CustomDataFrameWriter\n",
    "\n",
    "# Write out dataframe\n",
    "CustomDataFrameWriter.write(\n",
    "    df=group_by_sequence_labeled_df.repartition(1),\n",
    "    output_name=SPARK_APP_NAME,\n",
    "    output_folder=output_config_dict.get('path'),\n",
    "    output_format=output_config_dict.get('format')\n",
    ")"
   ],
   "metadata": {
    "collapsed": false
   },
   "id": "7b1d1a9220dc5313",
   "execution_count": null
  }
 ],
 "metadata": {
  "kernelspec": {
   "display_name": "Python 3",
   "language": "python",
   "name": "python3"
  },
  "language_info": {
   "codemirror_mode": {
    "name": "ipython",
    "version": 2
   },
   "file_extension": ".py",
   "mimetype": "text/x-python",
   "name": "python",
   "nbconvert_exporter": "python",
   "pygments_lexer": "ipython2",
   "version": "2.7.6"
  }
 },
 "nbformat": 4,
 "nbformat_minor": 5
}
