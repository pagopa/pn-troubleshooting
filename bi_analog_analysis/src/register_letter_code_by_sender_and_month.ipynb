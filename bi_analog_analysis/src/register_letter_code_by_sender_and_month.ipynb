{
 "cells": [
  {
   "cell_type": "code",
   "execution_count": 1,
   "id": "initial_id",
   "metadata": {
    "collapsed": true,
    "ExecuteTime": {
     "end_time": "2024-02-26T11:20:54.519862Z",
     "start_time": "2024-02-26T11:20:54.510654Z"
    }
   },
   "outputs": [],
   "source": [
    "# Import app configuration\n",
    "from typing import Dict\n",
    "from config import APP_CONFIG\n",
    "\n",
    "spark_config_dict: Dict[str, str] = APP_CONFIG.get('spark', dict())\n",
    "input_config_dict: Dict[str, str] = APP_CONFIG.get('input', dict())\n",
    "output_config_dict: Dict[str, str] = APP_CONFIG.get('output', dict())\n",
    "\n",
    "SPARK_APP_NAME = spark_config_dict.get('name', 'spark-app')"
   ]
  },
  {
   "cell_type": "code",
   "outputs": [
    {
     "name": "stderr",
     "output_type": "stream",
     "text": [
      "Setting default log level to \"WARN\".\n",
      "To adjust logging level use sc.setLogLevel(newLevel). For SparkR, use setLogLevel(newLevel).\n",
      "24/02/26 12:20:56 WARN NativeCodeLoader: Unable to load native-hadoop library for your platform... using builtin-java classes where applicable\n"
     ]
    }
   ],
   "source": [
    "import os\n",
    "\n",
    "from pyspark import SparkConf\n",
    "from pyspark.sql import SparkSession\n",
    "from pyspark.sql.functions import *\n",
    "from pyspark.sql.dataframe import DataFrame\n",
    "\n",
    "os.environ['SPARK_MEM'] = spark_config_dict.get('memory', '24g')\n",
    "\n",
    "spark_conf = SparkConf()\n",
    "spark_conf.set('spark.driver.memory', spark_config_dict.get('driver.memory', '4g'))\n",
    "spark_conf.set('spark.executor.memory', spark_config_dict.get('executor.memory', '5g'))\n",
    "spark_conf.set('spark.executor.cores', spark_config_dict.get('executor.cores', '3'))\n",
    "spark_conf.set('spark.executor.instances', spark_config_dict.get('executor.instances', '4'))\n",
    "spark_conf.set('spark.dynamicAllocation.enabled', spark_config_dict.get('dynamicAllocation.enabled', 'false'))\n",
    "\n",
    "# Configure and start new Spark Session\n",
    "spark_session = (SparkSession.builder\n",
    "                .appName(name=SPARK_APP_NAME)\n",
    "                .master(master=spark_config_dict.get('master', 'local'))\n",
    "                .config(conf=spark_conf)\n",
    "                .getOrCreate())\n",
    "\n",
    "spark_session.sparkContext.setLogLevel(spark_config_dict.get('logLevel', 'WARN'))"
   ],
   "metadata": {
    "collapsed": false,
    "ExecuteTime": {
     "end_time": "2024-02-26T11:20:56.591941Z",
     "start_time": "2024-02-26T11:20:54.523326Z"
    }
   },
   "id": "12eb2b2ca9c6b303",
   "execution_count": 2
  },
  {
   "cell_type": "code",
   "outputs": [],
   "source": [
    "ec_metadata_df: DataFrame = spark_session.read.parquet(input_config_dict.get('path.metadataRequest'), header=True) \\\n",
    "    .filter(col('paperMeta_productType') == '890') \\\n",
    "    .select(regexp_extract('requestId', '.*IUN_(.*)\\\\.RECINDEX.*', 1).alias('iun'), 'event_list', 'paperMeta_productType')\n",
    "\n",
    "notifications_df: DataFrame = spark_session.read.parquet(input_config_dict.get('path.notifications'), header=True) \\\n",
    "    .select('iun', 'senderDenomination', 'senderPaId')\n",
    "\n",
    "request_with_cap_comune_mortara_df: DataFrame = spark_session.read.csv(input_config_dict.get('path.analyzeFile'), header=True)\n",
    "\n",
    "matrice_costi_2023_pivot_df: DataFrame = spark_session.read.csv(\n",
    "    path='resources/matrice_costi_2023_pivot.csv'\n",
    ").withColumnsRenamed({\n",
    "    '_c0': 'geokey', '_c1': 'product', '_c2': 'recapitista', '_c3': 'lotto', '_c4': 'costo_plico', '_c5': 'costo_foglio', '_c6': 'costo_demat', '_c7': 'min', '_c8': 'max', '_c9': 'costo', '_c10': 'costo_base_20gr'\n",
    "}).filter(col('product') == '890').dropDuplicates(['geokey', 'product', 'recapitista'])"
   ],
   "metadata": {
    "collapsed": false,
    "ExecuteTime": {
     "end_time": "2024-02-26T11:20:59.020775Z",
     "start_time": "2024-02-26T11:20:56.593713Z"
    }
   },
   "id": "a79750eb647bea3f",
   "execution_count": 3
  },
  {
   "cell_type": "code",
   "outputs": [],
   "source": [
    "ec_metadata_df_with_sender_denomination_df: DataFrame = ec_metadata_df.join(notifications_df, on='iun', how='left')"
   ],
   "metadata": {
    "collapsed": false,
    "ExecuteTime": {
     "end_time": "2024-02-26T11:20:59.033040Z",
     "start_time": "2024-02-26T11:20:59.021602Z"
    }
   },
   "id": "67f241f07daa9bfa",
   "execution_count": 4
  },
  {
   "cell_type": "code",
   "outputs": [],
   "source": [
    "filtered_event_con080_in_november_column = filter(\n",
    "    ec_metadata_df_with_sender_denomination_df.event_list,\n",
    "    lambda event: rlike(event.paperProg_statusCode, lit(\"CON018\")) & (month(event.paperProg_statusDateTime) == 11)\n",
    ")\n",
    "\n",
    "filtered_event_df: DataFrame = (ec_metadata_df_with_sender_denomination_df\n",
    "    .filter(size(filtered_event_con080_in_november_column) > 0)\n",
    "    .select(transform(ec_metadata_df_with_sender_denomination_df.event_list, lambda event:\n",
    "        struct(\n",
    "            lit(event.paperProg_registeredLetterCode).alias('registeredLetterCode'),\n",
    "            ec_metadata_df_with_sender_denomination_df.iun,\n",
    "            ec_metadata_df_with_sender_denomination_df.senderDenomination,\n",
    "            ec_metadata_df_with_sender_denomination_df.senderPaId,\n",
    "            ec_metadata_df_with_sender_denomination_df.paperMeta_productType.alias('productType')\n",
    "        )).alias('eventStruct')))"
   ],
   "metadata": {
    "collapsed": false,
    "ExecuteTime": {
     "end_time": "2024-02-26T11:20:59.079342Z",
     "start_time": "2024-02-26T11:20:59.035102Z"
    }
   },
   "id": "a66def05df0c700a",
   "execution_count": 5
  },
  {
   "cell_type": "code",
   "outputs": [],
   "source": [
    "event_select_unwrapped_df: DataFrame = filtered_event_df.select('*', inline('eventStruct')).drop('eventStruct')"
   ],
   "metadata": {
    "collapsed": false,
    "ExecuteTime": {
     "end_time": "2024-02-26T11:20:59.097077Z",
     "start_time": "2024-02-26T11:20:59.079302Z"
    }
   },
   "id": "eebb99dc53666eb3",
   "execution_count": 6
  },
  {
   "cell_type": "code",
   "outputs": [],
   "source": [
    "# f3d2d709-aee9-4246-82cd-5c17ca9770e5 = COMUNE DI MORTARA\n",
    "event_select_unwrapped_filtered_by_sender_pa_df: DataFrame = event_select_unwrapped_df.filter(\n",
    "    (event_select_unwrapped_df.registeredLetterCode.isNotNull()) & (event_select_unwrapped_df.senderPaId == 'f3d2d709-aee9-4246-82cd-5c17ca9770e5')\n",
    ").dropDuplicates(['registeredLetterCode', 'iun'])"
   ],
   "metadata": {
    "collapsed": false,
    "ExecuteTime": {
     "end_time": "2024-02-26T11:20:59.110610Z",
     "start_time": "2024-02-26T11:20:59.097978Z"
    }
   },
   "id": "10c60c7a45f44c24",
   "execution_count": 7
  },
  {
   "cell_type": "code",
   "outputs": [],
   "source": [
    "event_select_unwrapped_filtered_by_sender_pa_with_cap_df: DataFrame = event_select_unwrapped_filtered_by_sender_pa_df \\\n",
    "    .join(request_with_cap_comune_mortara_df, on='iun', how='left') \\\n",
    "    .select(\n",
    "        event_select_unwrapped_filtered_by_sender_pa_df.iun,\n",
    "        request_with_cap_comune_mortara_df.preparerequestid,\n",
    "        event_select_unwrapped_filtered_by_sender_pa_df.registeredLetterCode,\n",
    "        event_select_unwrapped_filtered_by_sender_pa_df.senderDenomination,\n",
    "        event_select_unwrapped_filtered_by_sender_pa_df.senderPaId,\n",
    "        event_select_unwrapped_filtered_by_sender_pa_df.productType,\n",
    "        request_with_cap_comune_mortara_df.destzip,\n",
    "        request_with_cap_comune_mortara_df.destforeignstate\n",
    "    )\n",
    "\n",
    "# event_select_unwrapped_filtered_by_sender_pa_with_cap_df.show(truncate=False)"
   ],
   "metadata": {
    "collapsed": false,
    "ExecuteTime": {
     "end_time": "2024-02-26T11:20:59.122627Z",
     "start_time": "2024-02-26T11:20:59.105501Z"
    }
   },
   "id": "54fe42921530a45f",
   "execution_count": 8
  },
  {
   "cell_type": "code",
   "outputs": [],
   "source": [
    "request_comune_mortara_890_nov_with_lotto_recapitista_letter_df: DataFrame = event_select_unwrapped_filtered_by_sender_pa_with_cap_df \\\n",
    "    .join(matrice_costi_2023_pivot_df, on=event_select_unwrapped_filtered_by_sender_pa_with_cap_df.destzip == matrice_costi_2023_pivot_df.geokey) \\\n",
    "    .select(\n",
    "        event_select_unwrapped_filtered_by_sender_pa_with_cap_df.iun,\n",
    "        event_select_unwrapped_filtered_by_sender_pa_with_cap_df.preparerequestid,\n",
    "        event_select_unwrapped_filtered_by_sender_pa_with_cap_df.registeredLetterCode,\n",
    "        event_select_unwrapped_filtered_by_sender_pa_with_cap_df.senderDenomination,\n",
    "        event_select_unwrapped_filtered_by_sender_pa_with_cap_df.senderPaId,\n",
    "        event_select_unwrapped_filtered_by_sender_pa_with_cap_df.productType,\n",
    "        matrice_costi_2023_pivot_df.lotto,\n",
    "        matrice_costi_2023_pivot_df.recapitista\n",
    "    )\n",
    "\n",
    "# request_comune_mortara_890_nov_with_lotto_recapitista_letter_df.show(truncate=False)"
   ],
   "metadata": {
    "collapsed": false,
    "ExecuteTime": {
     "end_time": "2024-02-26T11:20:59.155875Z",
     "start_time": "2024-02-26T11:20:59.123541Z"
    }
   },
   "id": "c38331ad46754691",
   "execution_count": 9
  },
  {
   "cell_type": "code",
   "outputs": [
    {
     "name": "stderr",
     "output_type": "stream",
     "text": [
      "                                                                                \r"
     ]
    }
   ],
   "source": [
    "from utils.custom_data_frame_writer import CustomDataFrameWriter\n",
    "\n",
    "# Write out dataframe\n",
    "CustomDataFrameWriter.write(\n",
    "    df=request_comune_mortara_890_nov_with_lotto_recapitista_letter_df.repartition(1),\n",
    "    output_name=SPARK_APP_NAME,\n",
    "    output_folder=output_config_dict.get('path'),\n",
    "    output_format=output_config_dict.get('format')\n",
    ")"
   ],
   "metadata": {
    "collapsed": false,
    "ExecuteTime": {
     "end_time": "2024-02-26T11:21:48.209652Z",
     "start_time": "2024-02-26T11:20:59.150861Z"
    }
   },
   "id": "2a15ed81aa6f5a18",
   "execution_count": 10
  }
 ],
 "metadata": {
  "kernelspec": {
   "display_name": "Python 3",
   "language": "python",
   "name": "python3"
  },
  "language_info": {
   "codemirror_mode": {
    "name": "ipython",
    "version": 2
   },
   "file_extension": ".py",
   "mimetype": "text/x-python",
   "name": "python",
   "nbconvert_exporter": "python",
   "pygments_lexer": "ipython2",
   "version": "2.7.6"
  }
 },
 "nbformat": 4,
 "nbformat_minor": 5
}
