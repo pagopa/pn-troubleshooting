{
 "cells": [
  {
   "cell_type": "code",
   "execution_count": null,
   "id": "initial_id",
   "metadata": {
    "collapsed": true
   },
   "outputs": [],
   "source": [
    "# Import app configuration\n",
    "from typing import Dict\n",
    "from config import APP_CONFIG\n",
    "\n",
    "spark_config_dict: Dict[str, str] = APP_CONFIG.get('spark', dict())\n",
    "input_config_dict: Dict[str, str] = APP_CONFIG.get('input', dict())\n",
    "output_config_dict: Dict[str, str] = APP_CONFIG.get('output', dict())\n",
    "\n",
    "SPARK_APP_NAME = spark_config_dict.get('name', 'spark-app')"
   ]
  },
  {
   "cell_type": "code",
   "outputs": [],
   "source": [
    "import os\n",
    "\n",
    "from pyspark import SparkConf\n",
    "from pyspark.sql import SparkSession\n",
    "from pyspark.sql.functions import *\n",
    "from pyspark.sql.dataframe import DataFrame\n",
    "\n",
    "os.environ['SPARK_MEM'] = spark_config_dict.get('memory', '24g')\n",
    "\n",
    "spark_conf = SparkConf()\n",
    "spark_conf.set('spark.driver.memory', spark_config_dict.get('driver.memory', '4g'))\n",
    "spark_conf.set('spark.executor.memory', spark_config_dict.get('executor.memory', '5g'))\n",
    "spark_conf.set('spark.executor.cores', spark_config_dict.get('executor.cores', '3'))\n",
    "spark_conf.set('spark.executor.instances', spark_config_dict.get('executor.instances', '4'))\n",
    "spark_conf.set('spark.dynamicAllocation.enabled', spark_config_dict.get('dynamicAllocation.enabled', 'false'))\n",
    "\n",
    "# Configure and start new Spark Session\n",
    "spark_session = (SparkSession.builder\n",
    "                .appName(name=SPARK_APP_NAME)\n",
    "                .master(master=spark_config_dict.get('master', 'local'))\n",
    "                .config(conf=spark_conf)\n",
    "                .getOrCreate())\n",
    "\n",
    "spark_session.sparkContext.setLogLevel(spark_config_dict.get('logLevel', 'WARN'))"
   ],
   "metadata": {
    "collapsed": false
   },
   "id": "12eb2b2ca9c6b303",
   "execution_count": null
  },
  {
   "cell_type": "code",
   "outputs": [],
   "source": [
    "ec_metadata_df: DataFrame = spark_session.read.parquet(input_config_dict.get('path.metadataRequest'), header=True) \\\n",
    "    .filter((col('paperMeta_productType') == '890') | (col('paperMeta_productType') == 'AR')) \\\n",
    "    .select(regexp_extract('requestId', '.*IUN_(.*)\\\\.RECINDEX.*', 1).alias('iun'), 'event_list', 'paperMeta_productType')\n",
    "\n",
    "notifications_df: DataFrame = spark_session.read.parquet(input_config_dict.get('path.notifications'), header=True) \\\n",
    "    .select('iun', 'senderDenomination', 'senderPaId')\n",
    "\n",
    "# 051c98e9-40ce-43a6-aa6e-2123889e1532\n",
    "# request_regione_marche_df: DataFrame = spark_session.read.csv(input_config_dict.get('path.analyzeFile'), header=True)\n",
    "\n",
    "matrice_costi_2023_pivot_df: DataFrame = spark_session.read.csv(\n",
    "    path='resources/matrice_costi_2023_pivot.csv'\n",
    ").withColumnsRenamed({\n",
    "    '_c0': 'geokey', '_c1': 'product', '_c2': 'recapitista', '_c3': 'lotto', '_c4': 'costo_plico', '_c5': 'costo_foglio', '_c6': 'costo_demat', '_c7': 'min', '_c8': 'max', '_c9': 'costo', '_c10': 'costo_base_20gr'\n",
    "}).filter(col('product') == '890').dropDuplicates(['geokey', 'product', 'recapitista'])"
   ],
   "metadata": {
    "collapsed": false
   },
   "id": "a79750eb647bea3f",
   "execution_count": null
  },
  {
   "cell_type": "code",
   "outputs": [],
   "source": [
    "ec_metadata_df_with_sender_denomination_df: DataFrame = ec_metadata_df \\\n",
    "    .join(notifications_df, on='iun', how='left') \\\n",
    "    .filter(['iun'])\n",
    "\n",
    "# ec_metadata_df_with_sender_denomination_df.show(truncate=False)"
   ],
   "metadata": {
    "collapsed": false
   },
   "id": "67f241f07daa9bfa",
   "execution_count": null
  },
  {
   "cell_type": "code",
   "outputs": [],
   "source": [
    "ec_metadata_df_with_sender_denomination_grouped_by_sender_product_df: DataFrame = ec_metadata_df_with_sender_denomination_df \\\n",
    "    .groupBy(ec_metadata_df_with_sender_denomination_df.senderDenomination, ec_metadata_df_with_sender_denomination_df.paperMeta_productType) \\\n",
    "    .agg(count('*').alias('Count')) \\\n",
    "    .select(\n",
    "        ec_metadata_df_with_sender_denomination_df.senderDenomination.alias('Ente'), \n",
    "        ec_metadata_df_with_sender_denomination_df.paperMeta_productType.alias('Prodotto'),\n",
    "        'Count'\n",
    "    ).sort(desc('Count'))\n",
    "\n",
    "# ec_metadata_df_with_sender_denomination_grouped_by_sender_product_df.show(n=500, truncate=False)"
   ],
   "metadata": {
    "collapsed": false
   },
   "id": "38b5b90898549cb0",
   "execution_count": null
  },
  {
   "cell_type": "code",
   "outputs": [],
   "source": [
    "from utils.custom_data_frame_writer import CustomDataFrameWriter\n",
    "\n",
    "# Write out dataframe\n",
    "CustomDataFrameWriter.write(\n",
    "    df=ec_metadata_df_with_sender_denomination_grouped_by_sender_product_df.repartition(1),\n",
    "    output_name=SPARK_APP_NAME,\n",
    "    output_folder=output_config_dict.get('path'),\n",
    "    output_format=output_config_dict.get('format')\n",
    ")"
   ],
   "metadata": {
    "collapsed": false
   },
   "id": "802f3fdd3c54dd29",
   "execution_count": null
  },
  {
   "cell_type": "code",
   "outputs": [],
   "source": [
    "filtered_event_con018_in_november_column = filter(\n",
    "    ec_metadata_df_with_sender_denomination_df.event_list,\n",
    "    lambda event: rlike(event.paperProg_statusCode, lit(\"CON018\")) & (month(event.paperProg_statusDateTime) == 11)\n",
    ")\n",
    "\n",
    "filtered_event_df: DataFrame = (ec_metadata_df_with_sender_denomination_df\n",
    "    .filter(size(filtered_event_con018_in_november_column) > 0)\n",
    "    .select(transform(ec_metadata_df_with_sender_denomination_df.event_list, lambda event:\n",
    "        struct(\n",
    "            lit(event.paperProg_registeredLetterCode).alias('registeredLetterCode'),\n",
    "            ec_metadata_df_with_sender_denomination_df.iun,\n",
    "            ec_metadata_df_with_sender_denomination_df.senderDenomination,\n",
    "            ec_metadata_df_with_sender_denomination_df.senderPaId,\n",
    "            ec_metadata_df_with_sender_denomination_df.paperMeta_productType.alias('productType')\n",
    "        )).alias('eventStruct')))"
   ],
   "metadata": {
    "collapsed": false
   },
   "id": "a66def05df0c700a",
   "execution_count": null
  },
  {
   "cell_type": "code",
   "outputs": [],
   "source": [
    "event_select_unwrapped_df: DataFrame = filtered_event_df.select('*', inline('eventStruct')).drop('eventStruct')"
   ],
   "metadata": {
    "collapsed": false
   },
   "id": "eebb99dc53666eb3",
   "execution_count": null
  },
  {
   "cell_type": "code",
   "outputs": [],
   "source": [
    "# f3d2d709-aee9-4246-82cd-5c17ca9770e5 = COMUNE DI MORTARA\n",
    "event_select_unwrapped_filtered_by_sender_pa_df: DataFrame = event_select_unwrapped_df.filter(\n",
    "    (event_select_unwrapped_df.registeredLetterCode.isNotNull()) & (event_select_unwrapped_df.senderPaId == 'f3d2d709-aee9-4246-82cd-5c17ca9770e5')\n",
    ").dropDuplicates(['registeredLetterCode', 'iun'])"
   ],
   "metadata": {
    "collapsed": false
   },
   "id": "10c60c7a45f44c24",
   "execution_count": null
  },
  {
   "cell_type": "code",
   "outputs": [],
   "source": [
    "event_select_unwrapped_filtered_by_sender_pa_with_cap_df: DataFrame = event_select_unwrapped_filtered_by_sender_pa_df \\\n",
    "    .join(request_with_cap_comune_mortara_df, on='iun', how='left') \\\n",
    "    .select(\n",
    "        event_select_unwrapped_filtered_by_sender_pa_df.iun,\n",
    "        request_with_cap_comune_mortara_df.preparerequestid,\n",
    "        event_select_unwrapped_filtered_by_sender_pa_df.registeredLetterCode,\n",
    "        event_select_unwrapped_filtered_by_sender_pa_df.senderDenomination,\n",
    "        event_select_unwrapped_filtered_by_sender_pa_df.senderPaId,\n",
    "        event_select_unwrapped_filtered_by_sender_pa_df.productType,\n",
    "        request_with_cap_comune_mortara_df.destzip,\n",
    "        request_with_cap_comune_mortara_df.destforeignstate\n",
    "    )\n",
    "\n",
    "# event_select_unwrapped_filtered_by_sender_pa_with_cap_df.show(truncate=False)"
   ],
   "metadata": {
    "collapsed": false
   },
   "id": "54fe42921530a45f",
   "execution_count": null
  },
  {
   "cell_type": "code",
   "outputs": [],
   "source": [
    "request_comune_mortara_890_nov_with_lotto_recapitista_letter_df: DataFrame = event_select_unwrapped_filtered_by_sender_pa_with_cap_df \\\n",
    "    .join(matrice_costi_2023_pivot_df, on=event_select_unwrapped_filtered_by_sender_pa_with_cap_df.destzip == matrice_costi_2023_pivot_df.geokey) \\\n",
    "    .select(\n",
    "        event_select_unwrapped_filtered_by_sender_pa_with_cap_df.iun,\n",
    "        event_select_unwrapped_filtered_by_sender_pa_with_cap_df.preparerequestid,\n",
    "        event_select_unwrapped_filtered_by_sender_pa_with_cap_df.registeredLetterCode,\n",
    "        event_select_unwrapped_filtered_by_sender_pa_with_cap_df.senderDenomination,\n",
    "        event_select_unwrapped_filtered_by_sender_pa_with_cap_df.senderPaId,\n",
    "        event_select_unwrapped_filtered_by_sender_pa_with_cap_df.productType,\n",
    "        matrice_costi_2023_pivot_df.lotto,\n",
    "        matrice_costi_2023_pivot_df.recapitista\n",
    "    )\n",
    "\n",
    "# request_comune_mortara_890_nov_with_lotto_recapitista_letter_df.show(truncate=False)"
   ],
   "metadata": {
    "collapsed": false
   },
   "id": "c38331ad46754691",
   "execution_count": null
  },
  {
   "cell_type": "code",
   "outputs": [],
   "source": [
    "from utils.custom_data_frame_writer import CustomDataFrameWriter\n",
    "\n",
    "# Write out dataframe\n",
    "CustomDataFrameWriter.write(\n",
    "    df=request_comune_mortara_890_nov_with_lotto_recapitista_letter_df.repartition(1),\n",
    "    output_name=SPARK_APP_NAME,\n",
    "    output_folder=output_config_dict.get('path'),\n",
    "    output_format=output_config_dict.get('format')\n",
    ")"
   ],
   "metadata": {
    "collapsed": false
   },
   "id": "2a15ed81aa6f5a18",
   "execution_count": null
  }
 ],
 "metadata": {
  "kernelspec": {
   "display_name": "Python 3",
   "language": "python",
   "name": "python3"
  },
  "language_info": {
   "codemirror_mode": {
    "name": "ipython",
    "version": 2
   },
   "file_extension": ".py",
   "mimetype": "text/x-python",
   "name": "python",
   "nbconvert_exporter": "python",
   "pygments_lexer": "ipython2",
   "version": "2.7.6"
  }
 },
 "nbformat": 4,
 "nbformat_minor": 5
}
